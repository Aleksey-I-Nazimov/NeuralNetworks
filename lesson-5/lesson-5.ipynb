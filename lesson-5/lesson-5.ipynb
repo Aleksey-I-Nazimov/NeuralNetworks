{
 "cells": [
  {
   "cell_type": "code",
   "execution_count": 13,
   "id": "4208c3df-8360-4c77-b609-f2c663c35e67",
   "metadata": {},
   "outputs": [],
   "source": [
    "import copy\n",
    "import tensorflow as tf\n",
    "from keras.layers import LSTM, SimpleRNN, SimpleRNNCell\n",
    "from keras.models import Sequential\n",
    "import numpy as np\n"
   ]
  },
  {
   "cell_type": "code",
   "execution_count": 3,
   "id": "01778106-50ef-451b-9929-04930206870c",
   "metadata": {},
   "outputs": [],
   "source": [
    "tf.random.set_seed(8)"
   ]
  },
  {
   "cell_type": "code",
   "execution_count": 7,
   "id": "2860599d-46c2-4bc6-ad99-40d25a344ac3",
   "metadata": {},
   "outputs": [
    {
     "name": "stdout",
     "output_type": "stream",
     "text": [
      "Model: \"sequential_2\"\n",
      "_________________________________________________________________\n",
      " Layer (type)                Output Shape              Param #   \n",
      "=================================================================\n",
      " simple_rnn_2 (SimpleRNN)    (None, 2)                 8         \n",
      "                                                                 \n",
      "=================================================================\n",
      "Total params: 8 (32.00 Byte)\n",
      "Trainable params: 8 (32.00 Byte)\n",
      "Non-trainable params: 0 (0.00 Byte)\n",
      "_________________________________________________________________\n"
     ]
    }
   ],
   "source": [
    "non_recursive = Sequential([\n",
    "    SimpleRNN(units=2,activation='sigmoid',return_sequences=False,input_shape=(10,1))\n",
    "])\n",
    "# units\tPositive integer, dimensionality of the output space.\n",
    "# return_sequences\tBoolean. Whether to return the last output in the output sequence, or the full sequence\n",
    "\n",
    "# https://www.tensorflow.org/api_docs/python/tf/keras/layers/SimpleRNN\n",
    "\n",
    "non_recursive.summary()"
   ]
  },
  {
   "cell_type": "code",
   "execution_count": 8,
   "id": "c4915b7f-3da8-41ed-b1ab-67d1209e195e",
   "metadata": {},
   "outputs": [
    {
     "data": {
      "text/plain": [
       "[array([[-0.43690532, -0.81241655]], dtype=float32),\n",
       " array([[-0.1733135 ,  0.9848667 ],\n",
       "        [ 0.9848667 ,  0.17331356]], dtype=float32),\n",
       " array([0., 0.], dtype=float32)]"
      ]
     },
     "execution_count": 8,
     "metadata": {},
     "output_type": "execute_result"
    }
   ],
   "source": [
    "non_recursive.get_weights()"
   ]
  },
  {
   "cell_type": "code",
   "execution_count": 11,
   "id": "02028456-fc07-4b28-9536-98235babad80",
   "metadata": {},
   "outputs": [
    {
     "name": "stdout",
     "output_type": "stream",
     "text": [
      "1/1 [==============================] - 0s 380ms/step\n"
     ]
    },
    {
     "data": {
      "text/plain": [
       "array([[0.47902554, 0.4311265 ]], dtype=float32)"
      ]
     },
     "execution_count": 11,
     "metadata": {},
     "output_type": "execute_result"
    }
   ],
   "source": [
    "np.random.seed(8)\n",
    "x = np.random.randn(10).reshape((10,1))\n",
    "non_recursive.predict(x[None])"
   ]
  },
  {
   "cell_type": "code",
   "execution_count": 12,
   "id": "91ca7f00-559b-47b4-9259-0d12508d3549",
   "metadata": {},
   "outputs": [
    {
     "name": "stdout",
     "output_type": "stream",
     "text": [
      "1/1 [==============================] - 0s 127ms/step\n"
     ]
    },
    {
     "data": {
      "text/plain": [
       "array([[[0.51922894, 0.5038543 ],\n",
       "        [0.824091  , 0.4545056 ],\n",
       "        [0.32418156, 0.3598285 ],\n",
       "        [0.31653842, 0.37579778],\n",
       "        [0.17634498, 0.33657455],\n",
       "        [0.9075553 , 0.5304528 ],\n",
       "        [0.9216533 , 0.49774984],\n",
       "        [0.9465071 , 0.5266477 ],\n",
       "        [0.84745175, 0.46162087],\n",
       "        [0.85275316, 0.47917882]]], dtype=float32)"
      ]
     },
     "execution_count": 12,
     "metadata": {},
     "output_type": "execute_result"
    }
   ],
   "source": [
    "recursive = Sequential([\n",
    "    SimpleRNN(units=2,activation='sigmoid',return_sequences=True,input_shape=(10,1))\n",
    "])\n",
    "recursive.predict(x[None])"
   ]
  },
  {
   "cell_type": "code",
   "execution_count": 17,
   "id": "4c7e8c08-0b88-40a2-be80-f4ef21e37efa",
   "metadata": {},
   "outputs": [
    {
     "data": {
      "text/plain": [
       "{0: array([0, 0, 0, 0, 0, 0, 0, 0], dtype=uint8),\n",
       " 1: array([0, 0, 0, 0, 0, 0, 0, 1], dtype=uint8),\n",
       " 2: array([0, 0, 0, 0, 0, 0, 1, 0], dtype=uint8),\n",
       " 3: array([0, 0, 0, 0, 0, 0, 1, 1], dtype=uint8),\n",
       " 4: array([0, 0, 0, 0, 0, 1, 0, 0], dtype=uint8),\n",
       " 5: array([0, 0, 0, 0, 0, 1, 0, 1], dtype=uint8),\n",
       " 6: array([0, 0, 0, 0, 0, 1, 1, 0], dtype=uint8),\n",
       " 7: array([0, 0, 0, 0, 0, 1, 1, 1], dtype=uint8),\n",
       " 8: array([0, 0, 0, 0, 1, 0, 0, 0], dtype=uint8),\n",
       " 9: array([0, 0, 0, 0, 1, 0, 0, 1], dtype=uint8),\n",
       " 10: array([0, 0, 0, 0, 1, 0, 1, 0], dtype=uint8),\n",
       " 11: array([0, 0, 0, 0, 1, 0, 1, 1], dtype=uint8),\n",
       " 12: array([0, 0, 0, 0, 1, 1, 0, 0], dtype=uint8),\n",
       " 13: array([0, 0, 0, 0, 1, 1, 0, 1], dtype=uint8),\n",
       " 14: array([0, 0, 0, 0, 1, 1, 1, 0], dtype=uint8),\n",
       " 15: array([0, 0, 0, 0, 1, 1, 1, 1], dtype=uint8)}"
      ]
     },
     "metadata": {},
     "output_type": "display_data"
    }
   ],
   "source": [
    "# RNN simple\n",
    "\n",
    "def sigmoid (x):\n",
    "    output = 1.0/(1.0+np.exp(-x))\n",
    "    return output\n",
    "\n",
    "def sigmoid_deriv(sigmoid_output):\n",
    "    return sigmoid_output*(1-sigmoid_output)\n",
    "\n",
    "int_to_binary ={}\n",
    "binary_size = 4\n",
    "\n",
    "largest_number = pow(2,binary_size)\n",
    "binary = np.unpackbits(np.array([np.arange(largest_number, dtype=np.uint8)]).T,axis=1)\n",
    "\n",
    "for i in range(largest_number):\n",
    "    int_to_binary[i] = binary[i]\n",
    "\n",
    "display(int_to_binary);"
   ]
  },
  {
   "cell_type": "code",
   "execution_count": 18,
   "id": "9922aadc-8d87-405c-bdd8-6bbb44615f4e",
   "metadata": {},
   "outputs": [],
   "source": [
    "learning_rate = 1\n",
    "input_dim = 2\n",
    "hidden_dim = 16\n",
    "output_dim = 1\n",
    "\n",
    "weights_0 = np.random.random((input_dim,hidden_dim))\n",
    "weights_1 = np.random.random((hidden_dim,output_dim))\n",
    "weights_h = np.random.random((hidden_dim,hidden_dim))\n",
    "\n",
    "delta_w0 = np.zeros_like(weights_0)\n",
    "delta_w1 = np.zeros_like(weights_1)\n",
    "delta_wh = np.zeros_like(weights_h)\n",
    "\n",
    "# не разобрано\n",
    "\n",
    "\n"
   ]
  },
  {
   "cell_type": "code",
   "execution_count": null,
   "id": "ee9faa6d-c4e7-494d-a843-8248f653fee3",
   "metadata": {},
   "outputs": [],
   "source": []
  },
  {
   "cell_type": "code",
   "execution_count": null,
   "id": "4e388d5f-d753-4fa1-ab8a-c6c865505255",
   "metadata": {},
   "outputs": [],
   "source": []
  },
  {
   "cell_type": "code",
   "execution_count": null,
   "id": "2791e9e8-7f66-44b7-8741-6629146f5ffa",
   "metadata": {},
   "outputs": [],
   "source": []
  },
  {
   "cell_type": "code",
   "execution_count": null,
   "id": "a4092fcc-1060-44aa-a26e-2366fdf5c4fd",
   "metadata": {},
   "outputs": [],
   "source": []
  },
  {
   "cell_type": "code",
   "execution_count": null,
   "id": "95cc3c67-c0b1-4c16-8ff7-78aa6e474828",
   "metadata": {},
   "outputs": [],
   "source": []
  },
  {
   "cell_type": "code",
   "execution_count": null,
   "id": "477ac8c0-c52e-426a-9af2-ee5879d46887",
   "metadata": {},
   "outputs": [],
   "source": []
  }
 ],
 "metadata": {
  "kernelspec": {
   "display_name": "Python 3 (ipykernel)",
   "language": "python",
   "name": "python3"
  },
  "language_info": {
   "codemirror_mode": {
    "name": "ipython",
    "version": 3
   },
   "file_extension": ".py",
   "mimetype": "text/x-python",
   "name": "python",
   "nbconvert_exporter": "python",
   "pygments_lexer": "ipython3",
   "version": "3.11.0rc1"
  }
 },
 "nbformat": 4,
 "nbformat_minor": 5
}
