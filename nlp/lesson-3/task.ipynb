{
 "cells": [
  {
   "cell_type": "markdown",
   "id": "6cc6ddf3-67bc-4a36-bb14-b8658fb9df50",
   "metadata": {},
   "source": [
    " ----- Fast Text practice --------------"
   ]
  },
  {
   "cell_type": "code",
   "execution_count": 1,
   "id": "0883999c-47fb-4e8f-9bca-e9f3aca1b580",
   "metadata": {},
   "outputs": [],
   "source": [
    "#!pip install fasttext"
   ]
  },
  {
   "cell_type": "code",
   "execution_count": 1,
   "id": "cc7d13e2-1ddb-48ed-89d5-33ac65219ed0",
   "metadata": {},
   "outputs": [
    {
     "data": {
      "text/html": [
       "<div>\n",
       "<style scoped>\n",
       "    .dataframe tbody tr th:only-of-type {\n",
       "        vertical-align: middle;\n",
       "    }\n",
       "\n",
       "    .dataframe tbody tr th {\n",
       "        vertical-align: top;\n",
       "    }\n",
       "\n",
       "    .dataframe thead th {\n",
       "        text-align: right;\n",
       "    }\n",
       "</style>\n",
       "<table border=\"1\" class=\"dataframe\">\n",
       "  <thead>\n",
       "    <tr style=\"text-align: right;\">\n",
       "      <th></th>\n",
       "      <th>Unnamed: 0</th>\n",
       "      <th>0</th>\n",
       "      <th>a</th>\n",
       "    </tr>\n",
       "  </thead>\n",
       "  <tbody>\n",
       "    <tr>\n",
       "      <th>0</th>\n",
       "      <td>0</td>\n",
       "      <td>Thyroid_Cancer</td>\n",
       "      <td>Thyroid surgery in  children in a single insti...</td>\n",
       "    </tr>\n",
       "    <tr>\n",
       "      <th>1</th>\n",
       "      <td>1</td>\n",
       "      <td>Thyroid_Cancer</td>\n",
       "      <td>\" The adopted strategy was the same as that us...</td>\n",
       "    </tr>\n",
       "    <tr>\n",
       "      <th>2</th>\n",
       "      <td>2</td>\n",
       "      <td>Thyroid_Cancer</td>\n",
       "      <td>coronary arterybypass grafting thrombosis ﬁbri...</td>\n",
       "    </tr>\n",
       "    <tr>\n",
       "      <th>3</th>\n",
       "      <td>3</td>\n",
       "      <td>Thyroid_Cancer</td>\n",
       "      <td>Solitary plasmacytoma SP of the skull is an u...</td>\n",
       "    </tr>\n",
       "    <tr>\n",
       "      <th>4</th>\n",
       "      <td>4</td>\n",
       "      <td>Thyroid_Cancer</td>\n",
       "      <td>This study aimed to investigate serum matrix ...</td>\n",
       "    </tr>\n",
       "  </tbody>\n",
       "</table>\n",
       "</div>"
      ],
      "text/plain": [
       "   Unnamed: 0               0  \\\n",
       "0           0  Thyroid_Cancer   \n",
       "1           1  Thyroid_Cancer   \n",
       "2           2  Thyroid_Cancer   \n",
       "3           3  Thyroid_Cancer   \n",
       "4           4  Thyroid_Cancer   \n",
       "\n",
       "                                                   a  \n",
       "0  Thyroid surgery in  children in a single insti...  \n",
       "1  \" The adopted strategy was the same as that us...  \n",
       "2  coronary arterybypass grafting thrombosis ﬁbri...  \n",
       "3   Solitary plasmacytoma SP of the skull is an u...  \n",
       "4   This study aimed to investigate serum matrix ...  "
      ]
     },
     "execution_count": 1,
     "metadata": {},
     "output_type": "execute_result"
    }
   ],
   "source": [
    "import pandas as pd\n",
    "# https://www.kaggle.com/datasets/falgunipatel19/biomedical-text-publication-classification/code\n",
    "\n",
    "import re\n",
    "\n",
    "def remove_punctuation(txt):\n",
    "    xtr = re.sub(pattern=r'[^\\w\\s]',repl=\" \",string=txt)\n",
    "    return xtr\n",
    "\n",
    "def remove_special_sym(txt):\n",
    "    xtr = re.sub(pattern=r'[^a-zA-Z0-9]',repl=\" \",string=txt)\n",
    "    return xtr\n",
    "\n",
    "file_path = \"/home/alex/dev/AiLearning/DataSetStore/cancer_doc_classification/alldata_1_for_kaggle.csv\"\n",
    "\n",
    "df = pd.read_csv(file_path,encoding_errors='backslashreplace')\n",
    "df['0'].value_counts()\n",
    "df.head()"
   ]
  },
  {
   "cell_type": "code",
   "execution_count": 2,
   "id": "3e2106cd-a0f1-4a71-843a-4360437cbd21",
   "metadata": {},
   "outputs": [],
   "source": [
    "# all categories without spaces and cleaned by the underscore\n",
    "# Attention: space breaks the fasttext API"
   ]
  },
  {
   "cell_type": "code",
   "execution_count": 3,
   "id": "8e8cf870-7274-44c1-8e1c-71603b29a8fe",
   "metadata": {},
   "outputs": [
    {
     "data": {
      "text/plain": [
       "0\n",
       "Thyroid_Cancer    2810\n",
       "Colon_Cancer      2580\n",
       "Lung_Cancer       2180\n",
       "Name: count, dtype: int64"
      ]
     },
     "execution_count": 3,
     "metadata": {},
     "output_type": "execute_result"
    }
   ],
   "source": [
    "df.dropna(inplace=True)\n",
    "df['0'].value_counts()"
   ]
  },
  {
   "cell_type": "code",
   "execution_count": 4,
   "id": "7ef1b4c8-b939-408d-8543-e0463c41e79d",
   "metadata": {},
   "outputs": [
    {
     "data": {
      "text/html": [
       "<div>\n",
       "<style scoped>\n",
       "    .dataframe tbody tr th:only-of-type {\n",
       "        vertical-align: middle;\n",
       "    }\n",
       "\n",
       "    .dataframe tbody tr th {\n",
       "        vertical-align: top;\n",
       "    }\n",
       "\n",
       "    .dataframe thead th {\n",
       "        text-align: right;\n",
       "    }\n",
       "</style>\n",
       "<table border=\"1\" class=\"dataframe\">\n",
       "  <thead>\n",
       "    <tr style=\"text-align: right;\">\n",
       "      <th></th>\n",
       "      <th>label</th>\n",
       "      <th>label_text</th>\n",
       "    </tr>\n",
       "  </thead>\n",
       "  <tbody>\n",
       "    <tr>\n",
       "      <th>0</th>\n",
       "      <td>__label__Thyroid_Cancer</td>\n",
       "      <td>__label__Thyroid_Cancer Thyroid surgery in  ch...</td>\n",
       "    </tr>\n",
       "    <tr>\n",
       "      <th>1</th>\n",
       "      <td>__label__Thyroid_Cancer</td>\n",
       "      <td>__label__Thyroid_Cancer   The adopted strategy...</td>\n",
       "    </tr>\n",
       "    <tr>\n",
       "      <th>2</th>\n",
       "      <td>__label__Thyroid_Cancer</td>\n",
       "      <td>__label__Thyroid_Cancer coronary arterybypass ...</td>\n",
       "    </tr>\n",
       "    <tr>\n",
       "      <th>3</th>\n",
       "      <td>__label__Thyroid_Cancer</td>\n",
       "      <td>__label__Thyroid_Cancer  Solitary plasmacytoma...</td>\n",
       "    </tr>\n",
       "    <tr>\n",
       "      <th>4</th>\n",
       "      <td>__label__Thyroid_Cancer</td>\n",
       "      <td>__label__Thyroid_Cancer  This study aimed to i...</td>\n",
       "    </tr>\n",
       "    <tr>\n",
       "      <th>...</th>\n",
       "      <td>...</td>\n",
       "      <td>...</td>\n",
       "    </tr>\n",
       "    <tr>\n",
       "      <th>7565</th>\n",
       "      <td>__label__Colon_Cancer</td>\n",
       "      <td>__label__Colon_Cancer we report the case of a ...</td>\n",
       "    </tr>\n",
       "    <tr>\n",
       "      <th>7566</th>\n",
       "      <td>__label__Colon_Cancer</td>\n",
       "      <td>__label__Colon_Cancer among synchronous colore...</td>\n",
       "    </tr>\n",
       "    <tr>\n",
       "      <th>7567</th>\n",
       "      <td>__label__Colon_Cancer</td>\n",
       "      <td>__label__Colon_Cancer the heterogeneity of can...</td>\n",
       "    </tr>\n",
       "    <tr>\n",
       "      <th>7568</th>\n",
       "      <td>__label__Colon_Cancer</td>\n",
       "      <td>__label__Colon_Cancer  adipogenesis is the pro...</td>\n",
       "    </tr>\n",
       "    <tr>\n",
       "      <th>7569</th>\n",
       "      <td>__label__Colon_Cancer</td>\n",
       "      <td>__label__Colon_Cancer the periparturient perio...</td>\n",
       "    </tr>\n",
       "  </tbody>\n",
       "</table>\n",
       "<p>7570 rows × 2 columns</p>\n",
       "</div>"
      ],
      "text/plain": [
       "                        label  \\\n",
       "0     __label__Thyroid_Cancer   \n",
       "1     __label__Thyroid_Cancer   \n",
       "2     __label__Thyroid_Cancer   \n",
       "3     __label__Thyroid_Cancer   \n",
       "4     __label__Thyroid_Cancer   \n",
       "...                       ...   \n",
       "7565    __label__Colon_Cancer   \n",
       "7566    __label__Colon_Cancer   \n",
       "7567    __label__Colon_Cancer   \n",
       "7568    __label__Colon_Cancer   \n",
       "7569    __label__Colon_Cancer   \n",
       "\n",
       "                                             label_text  \n",
       "0     __label__Thyroid_Cancer Thyroid surgery in  ch...  \n",
       "1     __label__Thyroid_Cancer   The adopted strategy...  \n",
       "2     __label__Thyroid_Cancer coronary arterybypass ...  \n",
       "3     __label__Thyroid_Cancer  Solitary plasmacytoma...  \n",
       "4     __label__Thyroid_Cancer  This study aimed to i...  \n",
       "...                                                 ...  \n",
       "7565  __label__Colon_Cancer we report the case of a ...  \n",
       "7566  __label__Colon_Cancer among synchronous colore...  \n",
       "7567  __label__Colon_Cancer the heterogeneity of can...  \n",
       "7568  __label__Colon_Cancer  adipogenesis is the pro...  \n",
       "7569  __label__Colon_Cancer the periparturient perio...  \n",
       "\n",
       "[7570 rows x 2 columns]"
      ]
     },
     "execution_count": 4,
     "metadata": {},
     "output_type": "execute_result"
    }
   ],
   "source": [
    "new_df= pd.DataFrame()\n",
    "\n",
    "# making label\n",
    "new_df['label']=\"__label__\"+df['0'].astype(str)\n",
    "\n",
    "# making text\n",
    "new_df['label_text']=df['a'].astype(str)\n",
    "\n",
    "# cleaning text\n",
    "new_df['label_text'] = new_df['label_text'].apply(lambda t: remove_special_sym(remove_punctuation(t)))\n",
    "\n",
    "# adding label\n",
    "new_df['label_text']=new_df['label']+' '+new_df['label_text'].astype(str)\n",
    "new_df"
   ]
  },
  {
   "cell_type": "code",
   "execution_count": 5,
   "id": "cadb87ba-4b86-427f-8560-c0c397fde80d",
   "metadata": {},
   "outputs": [
    {
     "data": {
      "text/html": [
       "<div>\n",
       "<style scoped>\n",
       "    .dataframe tbody tr th:only-of-type {\n",
       "        vertical-align: middle;\n",
       "    }\n",
       "\n",
       "    .dataframe tbody tr th {\n",
       "        vertical-align: top;\n",
       "    }\n",
       "\n",
       "    .dataframe thead th {\n",
       "        text-align: right;\n",
       "    }\n",
       "</style>\n",
       "<table border=\"1\" class=\"dataframe\">\n",
       "  <thead>\n",
       "    <tr style=\"text-align: right;\">\n",
       "      <th></th>\n",
       "      <th>label</th>\n",
       "      <th>label_text</th>\n",
       "    </tr>\n",
       "  </thead>\n",
       "  <tbody>\n",
       "    <tr>\n",
       "      <th>7271</th>\n",
       "      <td>__label__Thyroid_Cancer</td>\n",
       "      <td>__label__Thyroid_Cancer Large cell neuroendocr...</td>\n",
       "    </tr>\n",
       "    <tr>\n",
       "      <th>1901</th>\n",
       "      <td>__label__Colon_Cancer</td>\n",
       "      <td>__label__Colon_Cancer moringa oleifera l from ...</td>\n",
       "    </tr>\n",
       "    <tr>\n",
       "      <th>7322</th>\n",
       "      <td>__label__Colon_Cancer</td>\n",
       "      <td>__label__Colon_Cancer  annual meeting of the e...</td>\n",
       "    </tr>\n",
       "    <tr>\n",
       "      <th>3586</th>\n",
       "      <td>__label__Lung_Cancer</td>\n",
       "      <td>__label__Lung_Cancer  y activation induced by ...</td>\n",
       "    </tr>\n",
       "    <tr>\n",
       "      <th>6268</th>\n",
       "      <td>__label__Thyroid_Cancer</td>\n",
       "      <td>__label__Thyroid_Cancer ShortTerm Consequences...</td>\n",
       "    </tr>\n",
       "  </tbody>\n",
       "</table>\n",
       "</div>"
      ],
      "text/plain": [
       "                        label  \\\n",
       "7271  __label__Thyroid_Cancer   \n",
       "1901    __label__Colon_Cancer   \n",
       "7322    __label__Colon_Cancer   \n",
       "3586     __label__Lung_Cancer   \n",
       "6268  __label__Thyroid_Cancer   \n",
       "\n",
       "                                             label_text  \n",
       "7271  __label__Thyroid_Cancer Large cell neuroendocr...  \n",
       "1901  __label__Colon_Cancer moringa oleifera l from ...  \n",
       "7322  __label__Colon_Cancer  annual meeting of the e...  \n",
       "3586  __label__Lung_Cancer  y activation induced by ...  \n",
       "6268  __label__Thyroid_Cancer ShortTerm Consequences...  "
      ]
     },
     "execution_count": 5,
     "metadata": {},
     "output_type": "execute_result"
    }
   ],
   "source": [
    "from sklearn.model_selection import train_test_split\n",
    "\n",
    "train,test = train_test_split(new_df,test_size=0.2)\n",
    "train.head()\n"
   ]
  },
  {
   "cell_type": "code",
   "execution_count": 6,
   "id": "316adf9b-0b2f-4057-a71a-03684f388c42",
   "metadata": {},
   "outputs": [],
   "source": [
    "# writing special file format for the fasttext reading\n",
    "train.to_csv(\"/home/alex/dev/AiLearning/DataSetStore/cancer_doc_classification/cancer.train\",columns=['label_text'],index=False,header=False)\n",
    "test.to_csv(\"/home/alex/dev/AiLearning/DataSetStore/cancer_doc_classification/cancer.test\",columns=['label_text'],index=False,header=False)"
   ]
  },
  {
   "cell_type": "code",
   "execution_count": 7,
   "id": "38f39e64-86f0-47bd-831a-4048648f33d0",
   "metadata": {},
   "outputs": [
    {
     "name": "stderr",
     "output_type": "stream",
     "text": [
      "Read 21M words\n",
      "Number of words:  228502\n",
      "Number of labels: 3\n",
      "Progress: 100.0% words/sec/thread: 3819218 lr:  0.000000 avg.loss:  0.066126 ETA:   0h 0m 0s\n"
     ]
    }
   ],
   "source": [
    "import fasttext as ft\n",
    "\n",
    "# https://fasttext.cc/docs/en/python-module.html\n",
    "# https://www.youtube.com/watch?v=Cq_pbQYO3M8\n",
    "# https://fasttext.cc/docs/en/supervised-tutorial.html\n",
    "\n",
    "ft_model=ft.train_supervised(input=\"/home/alex/dev/AiLearning/DataSetStore/cancer_doc_classification/cancer.train\",epoch=500,lr=0.01,thread=8)"
   ]
  },
  {
   "cell_type": "code",
   "execution_count": 8,
   "id": "840ad59a-4172-42e3-bfa1-e1364cdc342a",
   "metadata": {},
   "outputs": [
    {
     "data": {
      "text/plain": [
       "(1514, 1.0, 1.0)"
      ]
     },
     "execution_count": 8,
     "metadata": {},
     "output_type": "execute_result"
    }
   ],
   "source": [
    "ft_model.test(\"/home/alex/dev/AiLearning/DataSetStore/cancer_doc_classification/cancer.test\")"
   ]
  },
  {
   "cell_type": "markdown",
   "id": "ceaec1d7-c7a4-4510-a41a-760a852b0bd0",
   "metadata": {},
   "source": [
    "100% accuracy for classifying the text samples by the fasttext libs"
   ]
  },
  {
   "cell_type": "code",
   "execution_count": null,
   "id": "3244a79e-5a4f-44c7-a85d-0c428311d1ca",
   "metadata": {},
   "outputs": [],
   "source": []
  }
 ],
 "metadata": {
  "kernelspec": {
   "display_name": "Python 3 (ipykernel)",
   "language": "python",
   "name": "python3"
  },
  "language_info": {
   "codemirror_mode": {
    "name": "ipython",
    "version": 3
   },
   "file_extension": ".py",
   "mimetype": "text/x-python",
   "name": "python",
   "nbconvert_exporter": "python",
   "pygments_lexer": "ipython3",
   "version": "3.11.2"
  }
 },
 "nbformat": 4,
 "nbformat_minor": 5
}
