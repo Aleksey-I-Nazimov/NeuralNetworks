{
 "cells": [
  {
   "cell_type": "code",
   "execution_count": 107,
   "id": "34bd6712-30c2-4fbf-8e70-cba2f7450d35",
   "metadata": {},
   "outputs": [],
   "source": [
    "# import pandas as pd\n",
    "\n",
    "# file_path_1 = \"/home/alex/dev/AiLearning/DataSetStore/text_classification_2/positive.csv\"\n",
    "# pos_df = pd.read_csv(file_path_1, sep=';', usecols=[3], names=['text'])\n",
    "# pos_df ['label'] = 1\n",
    "\n",
    "# file_path_2 = \"/home/alex/dev/AiLearning/DataSetStore/text_classification_2/negative.csv\"\n",
    "# neg_df = pd.read_csv(file_path_1, sep=';', usecols=[3], names=['text'])\n",
    "# neg_df ['label'] = 0\n",
    "\n",
    "# df = pos_df._append(neg_df)\n",
    "# df['label'].value_counts()\n",
    "\n",
    "#df['text'][0:1].item()"
   ]
  },
  {
   "cell_type": "code",
   "execution_count": 4,
   "id": "d10081bc-e947-4a52-9f65-e1a1ca69da2c",
   "metadata": {},
   "outputs": [],
   "source": [
    "#pip install natasha\n",
    "# ************************************************************************\n",
    "# https://habr.com/ru/articles/516098/"
   ]
  },
  {
   "cell_type": "code",
   "execution_count": 108,
   "id": "dfd76ff4-bce1-4e6c-a817-2ab746a5d112",
   "metadata": {},
   "outputs": [],
   "source": [
    "from natasha import Doc, MorphVocab, Segmenter, NewsEmbedding, NewsMorphTagger\n",
    "\n",
    "segmenter = Segmenter()\n",
    "morph_tagger = NewsMorphTagger(NewsEmbedding())\n",
    "morph_vocab = MorphVocab()\n",
    "\n",
    "def make_text_tokens(text,filter_set,verbose=False):\n",
    "    doc = Doc(text)\n",
    "    doc.segment(segmenter)\n",
    "    doc.tag_morph(morph_tagger)\n",
    "\n",
    "    selected_tokens=[]\n",
    "    for token in doc.tokens:\n",
    "        token.lemmatize(morph_vocab)\n",
    "        if verbose: print (\"i: \", token)\n",
    "        if token.pos in filter_set:\n",
    "            if verbose: print (\"o: \", token)\n",
    "            selected_tokens.append(token.lemma)\n",
    "    if len(selected_tokens)==0:\n",
    "        selected_tokens.append(\"ошибка\")\n",
    "    return selected_tokens\n",
    "\n",
    "#make_text_tokens(text=df['text'][64730:64731].item(),filter_set=(\"ADV\",\"PRON\",\"VERB\",\"CCONJ\",\"NOUN\",\"PUNCT\"),verbose=True)"
   ]
  },
  {
   "cell_type": "code",
   "execution_count": 109,
   "id": "5de38372-1d40-4cf9-853d-d87584b273d2",
   "metadata": {},
   "outputs": [],
   "source": [
    "# from collections import Counter\n",
    "\n",
    "# corpus=[]\n",
    "# for text in df.sample(frac=1)['text'][0:100]:\n",
    "#     for selected_token in make_text_tokens(text,\n",
    "#                                            filter_set=(\"ADV\",\"PRON\",\"VERB\",\"CCONJ\",\"NOUN\",\"PUNCT\")):\n",
    "#         corpus.append(selected_token)\n",
    "\n",
    "# print (\"Corpus length: \",len(corpus))\n",
    "# corpus\n"
   ]
  },
  {
   "cell_type": "code",
   "execution_count": 120,
   "id": "c724633a-90b9-45d8-b22b-77cdd4297e56",
   "metadata": {},
   "outputs": [],
   "source": [
    "# freq_dict = Counter(corpus)\n",
    "\n",
    "# #freq_dict.items()\n",
    "# # sorting by the second element in the reverse order:\n",
    "# freq_items_sorted= sorted(freq_dict.items(), key=lambda x: -x[1])\n",
    "\n",
    "# freq_items_sorted[:100]"
   ]
  },
  {
   "cell_type": "markdown",
   "id": "c6da9fb7-1021-4843-b92b-f584ab11a3af",
   "metadata": {},
   "source": [
    "1) Reading text data. Selecting computational range"
   ]
  },
  {
   "cell_type": "code",
   "execution_count": 102,
   "id": "2ef3fccf-6f55-496d-a96d-3a02b5973905",
   "metadata": {},
   "outputs": [],
   "source": [
    "import pandas as pd\n",
    "\n",
    "file_path_1 = \"/home/alex/dev/AiLearning/DataSetStore/text_classification_2/positive.csv\"\n",
    "pos_df = pd.read_csv(file_path_1, sep=';', usecols=[3], names=['text'])\n",
    "pos_df ['label'] = 1\n",
    "\n",
    "file_path_2 = \"/home/alex/dev/AiLearning/DataSetStore/text_classification_2/negative.csv\"\n",
    "neg_df = pd.read_csv(file_path_1, sep=';', usecols=[3], names=['text'])\n",
    "neg_df ['label'] = 0\n",
    "\n",
    "df = pos_df._append(neg_df)"
   ]
  },
  {
   "cell_type": "code",
   "execution_count": 103,
   "id": "f4d71030-cfcb-40a2-8c20-cbfb52068c51",
   "metadata": {},
   "outputs": [
    {
     "name": "stdout",
     "output_type": "stream",
     "text": [
      "7500 2500\n"
     ]
    },
    {
     "data": {
      "text/plain": [
       "39845    : / / . / это утро чуствовать , паста спирт =)))\n",
       "38988      вернуться и рассказать , круг ад я проходить )\n",
       "8353                искать тот , кто нежность ) : / / . /\n",
       "22548                  , а я бадж выдать стековерфлоу : d\n",
       "45423     , очень день сегодня , что-то я подсказывать :)\n",
       "Name: text, dtype: object"
      ]
     },
     "execution_count": 103,
     "metadata": {},
     "output_type": "execute_result"
    }
   ],
   "source": [
    "from sklearn.model_selection import train_test_split\n",
    "\n",
    "SIZE=10000\n",
    "random_copy = df.sample(frac=1)[0:SIZE]\n",
    "\n",
    "#tokenized_text = random_copy['text']\n",
    "\n",
    "tokenized_text = random_copy['text'].apply(lambda txt:\\\n",
    "                                          \" \".join(make_text_tokens(txt,\n",
    "                                                                    filter_set=(\"ADV\",\"PRON\",\"VERB\",\"CCONJ\",\"NOUN\",\"PUNCT\"))))\n",
    "\n",
    "x_train, x_test, y_train, y_test = train_test_split(tokenized_text, random_copy['label'])\n",
    "\n",
    "print (len(x_train),len(x_test))\n",
    "tokenized_text.head()"
   ]
  },
  {
   "cell_type": "markdown",
   "id": "c9063467-8400-4dcc-9095-43c534621ce4",
   "metadata": {},
   "source": [
    "2) Counting corpus size and ratio"
   ]
  },
  {
   "cell_type": "code",
   "execution_count": 110,
   "id": "fb53958e-12c8-4cf0-929f-4870f39cc6c8",
   "metadata": {},
   "outputs": [
    {
     "name": "stdout",
     "output_type": "stream",
     "text": [
      "Corpus length:  92732\n"
     ]
    }
   ],
   "source": [
    "from collections import Counter\n",
    "\n",
    "corpus=[]\n",
    "for text in x_train:\n",
    "    for selected_token in text.split(\" \"):\n",
    "        corpus.append(selected_token)\n",
    "\n",
    "print (\"Corpus length: \",len(corpus))\n",
    "# corpus\n",
    "\n",
    "freq_dict = Counter(corpus)\n",
    "\n",
    "#freq_dict.items()\n",
    "# sorting by the second element in the reverse order:\n",
    "freq_items_sorted= sorted(freq_dict.items(), key=lambda x: -x[1])\n",
    "\n"
   ]
  },
  {
   "cell_type": "code",
   "execution_count": 111,
   "id": "2d9bbdaa-8cbe-4af4-b2ad-f53ef974ac3d",
   "metadata": {},
   "outputs": [
    {
     "data": {
      "image/png": "[encoded data removed]",
      "text/plain": [
       "<Figure size 640x480 with 1 Axes>"
      ]
     },
     "metadata": {},
     "output_type": "display_data"
    }
   ],
   "source": [
    "import matplotlib.pyplot as plt\n",
    "%matplotlib inline\n",
    "first_25 = [freq for word, freq in freq_items_sorted[:25]]\n",
    "next_50 = [freq for word, freq in freq_items_sorted[25:75]]\n",
    "next_100 = [freq for word, freq in freq_items_sorted[75:175]]\n",
    "plt.plot(first_25)\n",
    "plt.plot(next_50)\n",
    "plt.plot(next_100)\n",
    "plt.show()"
   ]
  },
  {
   "cell_type": "code",
   "execution_count": 114,
   "id": "d056e4fd-f766-4b85-b5cf-24245abf96f6",
   "metadata": {},
   "outputs": [
    {
     "data": {
      "text/plain": [
       "[')',\n",
       " ',',\n",
       " ':',\n",
       " '/',\n",
       " '.',\n",
       " 'я',\n",
       " 'и',\n",
       " '!',\n",
       " ':)',\n",
       " 'ты',\n",
       " 'd',\n",
       " 'а',\n",
       " '?',\n",
       " '\"',\n",
       " '-',\n",
       " '#',\n",
       " 'это',\n",
       " 'весь',\n",
       " '...',\n",
       " 'так',\n",
       " 'мы',\n",
       " 'он',\n",
       " 'что',\n",
       " 'но',\n",
       " '@']"
      ]
     },
     "execution_count": 114,
     "metadata": {},
     "output_type": "execute_result"
    }
   ],
   "source": [
    "first_25 = [word for word, freq in freq_items_sorted[:25]]\n",
    "next_50 = [word for word, freq in freq_items_sorted[25:75]]\n",
    "next_100 = [word for word, freq in freq_items_sorted[75:175]]\n",
    "first_25"
   ]
  },
  {
   "cell_type": "markdown",
   "id": "4b625fba-6918-483b-853e-92e25591ccbd",
   "metadata": {},
   "source": [
    "3. Training with different vocabularies (top25, 50 , 75 and all)"
   ]
  },
  {
   "cell_type": "code",
   "execution_count": 115,
   "id": "b22c0090-8195-4ef9-bb3e-5690bf24d53f",
   "metadata": {},
   "outputs": [
    {
     "name": "stdout",
     "output_type": "stream",
     "text": [
      "  --> Vocabulary: 25\n",
      "               precision    recall  f1-score   support\n",
      "\n",
      "           0       0.83      0.50      0.63      2054\n",
      "           1       0.18      0.51      0.27       446\n",
      "\n",
      "    accuracy                           0.51      2500\n",
      "   macro avg       0.50      0.51      0.45      2500\n",
      "weighted avg       0.71      0.51      0.56      2500\n",
      "\n",
      "  --> Vocabulary: 50\n",
      "               precision    recall  f1-score   support\n",
      "\n",
      "           0       0.74      0.50      0.60      1857\n",
      "           1       0.26      0.50      0.34       643\n",
      "\n",
      "    accuracy                           0.50      2500\n",
      "   macro avg       0.50      0.50      0.47      2500\n",
      "weighted avg       0.62      0.50      0.53      2500\n",
      "\n",
      "  --> Vocabulary: 100\n",
      "               precision    recall  f1-score   support\n",
      "\n",
      "           0       0.78      0.50      0.61      1950\n",
      "           1       0.22      0.49      0.30       550\n",
      "\n",
      "    accuracy                           0.50      2500\n",
      "   macro avg       0.50      0.50      0.45      2500\n",
      "weighted avg       0.65      0.50      0.54      2500\n",
      "\n"
     ]
    }
   ],
   "source": [
    "from sklearn.linear_model import LogisticRegression\n",
    "from sklearn.feature_extraction.text import CountVectorizer\n",
    "from sklearn.metrics import classification_report\n",
    "\n",
    "for vocabulary in (first_25,next_50,next_100):\n",
    "    vec = CountVectorizer(ngram_range=(1, 2),vocabulary=vocabulary)\n",
    "    bow = vec.fit_transform(x_train)\n",
    "\n",
    "    clf = LogisticRegression(random_state=42,max_iter=100000)\n",
    "    clf.fit(bow, y_train)\n",
    "    \n",
    "    pred = clf.predict(vec.transform(x_test))\n",
    "    print(\"  --> Vocabulary: {}\\n\".format(len(vocabulary)),classification_report(pred, y_test))\n"
   ]
  },
  {
   "cell_type": "code",
   "execution_count": 116,
   "id": "20fcbdf8-5f3c-47b5-b6e9-cce0caa0e084",
   "metadata": {},
   "outputs": [
    {
     "name": "stdout",
     "output_type": "stream",
     "text": [
      "  --> Full vocabulary:\n",
      "               precision    recall  f1-score   support\n",
      "\n",
      "           0       0.52      0.49      0.50      1323\n",
      "           1       0.46      0.49      0.47      1177\n",
      "\n",
      "    accuracy                           0.49      2500\n",
      "   macro avg       0.49      0.49      0.49      2500\n",
      "weighted avg       0.49      0.49      0.49      2500\n",
      "\n"
     ]
    }
   ],
   "source": [
    "vec = CountVectorizer(ngram_range=(1, 2))\n",
    "bow = vec.fit_transform(x_train)\n",
    "\n",
    "clf = LogisticRegression(random_state=42,max_iter=100000)\n",
    "clf.fit(bow, y_train)\n",
    "    \n",
    "pred = clf.predict(vec.transform(x_test))\n",
    "print(\"  --> Full vocabulary:\\n\",classification_report(pred, y_test))"
   ]
  },
  {
   "cell_type": "markdown",
   "id": "043f32df-8a06-4cd8-a375-3c989078f379",
   "metadata": {},
   "source": [
    "4. Searching best features"
   ]
  },
  {
   "cell_type": "code",
   "execution_count": 119,
   "id": "d608d5e3-5903-4059-b383-899b3719cbea",
   "metadata": {},
   "outputs": [
    {
     "name": "stdout",
     "output_type": "stream",
     "text": [
      "  (970, 0)\t1\n",
      "  (1252, 0)\t1\n",
      "  (1458, 1)\t1\n",
      "  (1755, 1)\t1\n",
      "  (1823, 1)\t1\n",
      "  (2305, 1)\t1\n",
      "  (2925, 0)\t1\n",
      "  (3109, 1)\t1\n",
      "  (3222, 1)\t1\n",
      "  (3261, 0)\t1\n",
      "  (3410, 0)\t1\n",
      "  (3511, 1)\t1\n",
      "  (4000, 1)\t1\n",
      "  (4041, 0)\t1\n",
      "  (4164, 0)\t1\n",
      "  (4727, 0)\t1\n",
      "  (4801, 1)\t1\n",
      "  (4807, 0)\t1\n",
      "  (4816, 1)\t1\n",
      "  (5006, 0)\t1\n",
      "  (5044, 1)\t1\n",
      "  (5170, 0)\t1\n",
      "  (5252, 1)\t1\n",
      "  (5632, 0)\t1\n",
      "  (5739, 0)\t1\n"
     ]
    }
   ],
   "source": [
    "from sklearn.feature_selection import SelectKBest\n",
    "from sklearn.feature_selection import f_regression\n",
    "\n",
    "vec = CountVectorizer(ngram_range=(1, 2))\n",
    "bow = vec.fit_transform(x_train)\n",
    "fs = SelectKBest(score_func=f_regression, k=2)\n",
    "features = fs.fit_transform(bow, y_train)\n",
    "print(features)\n"
   ]
  },
  {
   "cell_type": "code",
   "execution_count": 95,
   "id": "1841fa22-c6e7-4aa3-a327-18dd46cdada3",
   "metadata": {},
   "outputs": [
    {
     "data": {
      "text/plain": [
       "[('кстати', 13570),\n",
       " ('вы', 4513),\n",
       " ('песня', 23074),\n",
       " ('электричество', 40900),\n",
       " ('кстати вы', 13574),\n",
       " ('вы песня', 4627),\n",
       " ('песня электричество', 23128),\n",
       " ('час', 39604),\n",
       " ('вести', 2567),\n",
       " ('настолько', 17826)]"
      ]
     },
     "execution_count": 95,
     "metadata": {},
     "output_type": "execute_result"
    }
   ],
   "source": [
    "list(vec.vocabulary_.items())[:10]"
   ]
  },
  {
   "cell_type": "code",
   "execution_count": 98,
   "id": "461139d2-88a7-4ffd-a5d8-19b46cbd3b18",
   "metadata": {},
   "outputs": [
    {
     "data": {
      "text/html": [
       "<style>#sk-container-id-13 {color: black;}#sk-container-id-13 pre{padding: 0;}#sk-container-id-13 div.sk-toggleable {background-color: white;}#sk-container-id-13 label.sk-toggleable__label {cursor: pointer;display: block;width: 100%;margin-bottom: 0;padding: 0.3em;box-sizing: border-box;text-align: center;}#sk-container-id-13 label.sk-toggleable__label-arrow:before {content: \"▸\";float: left;margin-right: 0.25em;color: #696969;}#sk-container-id-13 label.sk-toggleable__label-arrow:hover:before {color: black;}#sk-container-id-13 div.sk-estimator:hover label.sk-toggleable__label-arrow:before {color: black;}#sk-container-id-13 div.sk-toggleable__content {max-height: 0;max-width: 0;overflow: hidden;text-align: left;background-color: #f0f8ff;}#sk-container-id-13 div.sk-toggleable__content pre {margin: 0.2em;color: black;border-radius: 0.25em;background-color: #f0f8ff;}#sk-container-id-13 input.sk-toggleable__control:checked~div.sk-toggleable__content {max-height: 200px;max-width: 100%;overflow: auto;}#sk-container-id-13 input.sk-toggleable__control:checked~label.sk-toggleable__label-arrow:before {content: \"▾\";}#sk-container-id-13 div.sk-estimator input.sk-toggleable__control:checked~label.sk-toggleable__label {background-color: #d4ebff;}#sk-container-id-13 div.sk-label input.sk-toggleable__control:checked~label.sk-toggleable__label {background-color: #d4ebff;}#sk-container-id-13 input.sk-hidden--visually {border: 0;clip: rect(1px 1px 1px 1px);clip: rect(1px, 1px, 1px, 1px);height: 1px;margin: -1px;overflow: hidden;padding: 0;position: absolute;width: 1px;}#sk-container-id-13 div.sk-estimator {font-family: monospace;background-color: #f0f8ff;border: 1px dotted black;border-radius: 0.25em;box-sizing: border-box;margin-bottom: 0.5em;}#sk-container-id-13 div.sk-estimator:hover {background-color: #d4ebff;}#sk-container-id-13 div.sk-parallel-item::after {content: \"\";width: 100%;border-bottom: 1px solid gray;flex-grow: 1;}#sk-container-id-13 div.sk-label:hover label.sk-toggleable__label {background-color: #d4ebff;}#sk-container-id-13 div.sk-serial::before {content: \"\";position: absolute;border-left: 1px solid gray;box-sizing: border-box;top: 0;bottom: 0;left: 50%;z-index: 0;}#sk-container-id-13 div.sk-serial {display: flex;flex-direction: column;align-items: center;background-color: white;padding-right: 0.2em;padding-left: 0.2em;position: relative;}#sk-container-id-13 div.sk-item {position: relative;z-index: 1;}#sk-container-id-13 div.sk-parallel {display: flex;align-items: stretch;justify-content: center;background-color: white;position: relative;}#sk-container-id-13 div.sk-item::before, #sk-container-id-13 div.sk-parallel-item::before {content: \"\";position: absolute;border-left: 1px solid gray;box-sizing: border-box;top: 0;bottom: 0;left: 50%;z-index: -1;}#sk-container-id-13 div.sk-parallel-item {display: flex;flex-direction: column;z-index: 1;position: relative;background-color: white;}#sk-container-id-13 div.sk-parallel-item:first-child::after {align-self: flex-end;width: 50%;}#sk-container-id-13 div.sk-parallel-item:last-child::after {align-self: flex-start;width: 50%;}#sk-container-id-13 div.sk-parallel-item:only-child::after {width: 0;}#sk-container-id-13 div.sk-dashed-wrapped {border: 1px dashed gray;margin: 0 0.4em 0.5em 0.4em;box-sizing: border-box;padding-bottom: 0.4em;background-color: white;}#sk-container-id-13 div.sk-label label {font-family: monospace;font-weight: bold;display: inline-block;line-height: 1.2em;}#sk-container-id-13 div.sk-label-container {text-align: center;}#sk-container-id-13 div.sk-container {/* jupyter's `normalize.less` sets `[hidden] { display: none; }` but bootstrap.min.css set `[hidden] { display: none !important; }` so we also need the `!important` here to be able to override the default hidden behavior on the sphinx rendered scikit-learn.org. See: https://github.com/scikit-learn/scikit-learn/issues/21755 */display: inline-block !important;position: relative;}#sk-container-id-13 div.sk-text-repr-fallback {display: none;}</style><div id=\"sk-container-id-13\" class=\"sk-top-container\"><div class=\"sk-text-repr-fallback\"><pre>LogisticRegression(max_iter=100000, random_state=42)</pre><b>In a Jupyter environment, please rerun this cell to show the HTML representation or trust the notebook. <br />On GitHub, the HTML representation is unable to render, please try loading this page with nbviewer.org.</b></div><div class=\"sk-container\" hidden><div class=\"sk-item\"><div class=\"sk-estimator sk-toggleable\"><input class=\"sk-toggleable__control sk-hidden--visually\" id=\"sk-estimator-id-13\" type=\"checkbox\" checked><label for=\"sk-estimator-id-13\" class=\"sk-toggleable__label sk-toggleable__label-arrow\">LogisticRegression</label><div class=\"sk-toggleable__content\"><pre>LogisticRegression(max_iter=100000, random_state=42)</pre></div></div></div></div></div>"
      ],
      "text/plain": [
       "LogisticRegression(max_iter=100000, random_state=42)"
      ]
     },
     "execution_count": 98,
     "metadata": {},
     "output_type": "execute_result"
    }
   ],
   "source": [
    "clf = LogisticRegression(random_state=42,max_iter=100000)\n",
    "clf.fit(bow, y_train)"
   ]
  },
  {
   "cell_type": "code",
   "execution_count": 99,
   "id": "cb266b38-e2f5-4fc7-ae2d-e4860227291e",
   "metadata": {},
   "outputs": [
    {
     "name": "stdout",
     "output_type": "stream",
     "text": [
      "              precision    recall  f1-score   support\n",
      "\n",
      "           0       0.50      0.50      0.50      1289\n",
      "           1       0.47      0.48      0.48      1211\n",
      "\n",
      "    accuracy                           0.49      2500\n",
      "   macro avg       0.49      0.49      0.49      2500\n",
      "weighted avg       0.49      0.49      0.49      2500\n",
      "\n"
     ]
    }
   ],
   "source": [
    "from sklearn.metrics import classification_report\n",
    "pred = clf.predict(vec.transform(x_test))\n",
    "print(classification_report(pred, y_test))"
   ]
  },
  {
   "cell_type": "code",
   "execution_count": null,
   "id": "0b4cacc1-dcbe-46f7-925e-d6f0e414a517",
   "metadata": {},
   "outputs": [],
   "source": []
  }
 ],
 "metadata": {
  "kernelspec": {
   "display_name": "Python 3 (ipykernel)",
   "language": "python",
   "name": "python3"
  },
  "language_info": {
   "codemirror_mode": {
    "name": "ipython",
    "version": 3
   },
   "file_extension": ".py",
   "mimetype": "text/x-python",
   "name": "python",
   "nbconvert_exporter": "python",
   "pygments_lexer": "ipython3",
   "version": "3.11.2"
  }
 },
 "nbformat": 4,
 "nbformat_minor": 5
}
