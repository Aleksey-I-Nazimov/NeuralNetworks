{
 "cells": [
  {
   "cell_type": "markdown",
   "id": "562f6dde-6a9a-4a5a-8383-d05db455fb4a",
   "metadata": {},
   "source": [
    "1. <B>Reading</B>"
   ]
  },
  {
   "cell_type": "code",
   "execution_count": 41,
   "id": "967a3026-1170-4ff3-ba23-997f01a0b125",
   "metadata": {},
   "outputs": [],
   "source": [
    "\n",
    "import os\n",
    "import re\n",
    "import time\n",
    "\n",
    "import tensorflow as tf\n",
    "from tqdm.notebook import tqdm\n",
    "from sklearn.model_selection import train_test_split\n",
    "\n",
    "import matplotlib.pyplot as plt\n",
    "import matplotlib.ticker as ticker\n",
    "\n",
    "import unicodedata\n",
    "import numpy as np\n"
   ]
  },
  {
   "cell_type": "code",
   "execution_count": 42,
   "id": "67b1145a-23b3-40b5-a974-7051c91df8ba",
   "metadata": {},
   "outputs": [],
   "source": [
    "parsed_path=\"/home/alex/dev/AiLearning/DataSetStore/chat_bot/ParsedOtvety.txt\"\n",
    "\n",
    "def get_num_lines(file_path):\n",
    "    fp=open(file_path,\"r+\")\n",
    "    buf = mmap.mmap(fp.fileno(),0)\n",
    "    lines=0\n",
    "    while buf.readline():\n",
    "        lines = lines+1\n",
    "    return lines\n",
    "\n",
    "def parse_qa(input_path: str,\n",
    "             limit: int,\n",
    "             verbose=False) -> list:\n",
    "\n",
    "    result_list=list()\n",
    "    with open(input_path,\"r\") as reader:\n",
    "        answer_list=list()\n",
    "        question=None\n",
    "        for line in tqdm(reader):\n",
    "            if verbose:\n",
    "                print (line)\n",
    "                time.sleep(1)\n",
    "            if line.find(\"===\")>=0:\n",
    "                question = line.split(\"===\")[1]\n",
    "                answer = line.split(\"===\")[0]\n",
    "                result_list.append([question,answer])\n",
    "                if len(result_list)>limit:\n",
    "                    break\n",
    "    return [qa for qa in result_list if len(qa[0])>2 and len(qa[1])>2]\n",
    "\n"
   ]
  },
  {
   "cell_type": "markdown",
   "id": "428ad846-6142-4447-8352-fa7c72e9dbf2",
   "metadata": {},
   "source": [
    "Testing"
   ]
  },
  {
   "cell_type": "code",
   "execution_count": 43,
   "id": "6a7c272d-0377-406a-9084-a3c3156f1b8e",
   "metadata": {},
   "outputs": [
    {
     "data": {
      "application/vnd.jupyter.widget-view+json": {
       "model_id": "b9c10f24f5354541a02831947743440f",
       "version_major": 2,
       "version_minor": 0
      },
      "text/plain": [
       "0it [00:00, ?it/s]"
      ]
     },
     "metadata": {},
     "output_type": "display_data"
    },
    {
     "name": "stdout",
     "output_type": "stream",
     "text": [
      "Test case -1: [['меня вобще прикалывает эта тема :). \\n', 'Как парни относятся к цветным линзам? Если у девушки то зеленые глаза, то голубые...)) .'], ['Если это \"счастье \" действительно на вас свалилось, лучше пойти в милицию и заявить о находке. Такие деньги просто так не терют, а что самое интересное их неприменно будут искать и поверьте мне найдут, видел подобное в жизни. Можно нарваться на бабушку конечно, которая хотела помоч внуку с покупкой квартиры, а можно на бандитов, которые будут с вами разговаривать иначе чем бабушка с милицией. Выбор за вами, есть еще конечно шанс, что это подарок с выше за котрый с вас никто не спросит, тогда лучше отдать хотябы 500 на благотворительность. дабы не спугнуть удачу!. \\n', 'Что делать, сегодня нашёл 2 миллиона рублей? .'], ['ЭБУ — электронный блок управления двигателем автомобиля, его другое название — контроллер. Он принимает информацию от многочисленных датчиков, обрабатывает ее по особым алгоритмам и, отталкиваясь от полученных данных, отдает команды исполнительным устройствам системы.. \\n', 'Эбу в двенашке называется Итэлма что за эбу? .'], ['4. Охотники и Жертвы, Ледяной укус, Поцелуй тьмы, Кровная клятва. \\n', 'академия вампиров. сколько на даный момент частей книги академия вампиров? .'], ['Защита мыслью. <br>Каждый человек должен в отношении вампиров взять для себя за правило: \"Нам не страшен серый волк\", то есть знать, что конкретный \"серый волк\" - вампир существует, но воспринимать его следует не как хищника, а как добрую домашнюю собачку. Такая \"собачка\" быстро почувствует, что вы не \"того поля ягода\" и быстро отстанет сама. <br>\"Витание в облаках\". <br>Тоже хороший способ. Мысленно представить себя находящимся в окружении приятных нашим ощущениям белых облаков или сине-голубого неба. Это просто и эффективно. <br>\"Подкормка негативом\". <br>Вампир хочет кушать? Так дайте ему. Соберите в себе все плохие мысли, эмоции, все то отрицательное, что каким-то образом закралось в организм. И всю эту \"тяжесть\" отдайте вампиру - пусть подавится. <br>Зеркало <br>При встрече или при общении с неприятным человеком мысленно представить, что между вами зеркальная стена, обращенная отражающей поверхностью к этому человеку. <br>\"Дикобраз\" <br>Этот способ выглядит следующим образом: человек, который почувствовал опасность, мысленно покрывает свое биополе иглами и шипами. Энергетический вампир, который попробует высосать вашу биоэнергию, будет ощущать боль при прикосновении биополей. <br>Замыкание контура биополя. <br> <br>Существует два способа. Каждый человек выбирает наиболее удобный ему. Первый способ заключается в скрещивании ног и рук при общении с человеком, от которого можно ждать неприятностей. Второй способ заключается в следующем: большой и указательный пальцы одной руки соединить с большим и указательным пальцами другой руки, образуя кольцо, а остальные пальцы каждой руки наложить друг на друга. Оба эти способа очень эффективны, так как благодаря ним замыкается контур биополя, не оставляя пробоин, и энергетический вампир просто не может пробиться через эту защиту и вытянуть нашу биоэнергию. <br> <br>Все приемы нужно делать незаметно, не демонстрируя своих действий и не привлекая внимания окружающих.. \\n', 'как защититься от энергетического вампира .'], ['Я выращиваю. Хабаровск. ДВ. <br>В кратце. Прочитала на одном сайте метод выращивания магнолии в Средней полосе: если купили черенок растения, то первые 3-4 года выращивается как кадочное растение, как роза. Летом на улице, а на зиму - в погреб или другое прохладное помещение, типа холодильника. До весны. По весне - снова в сад. И так, пока она не нарастит мощную корневую систему. Через 3-4 года ее уже можно высаживать в грунт, а на зиму надо укрывать, по возможности. <br>Моей уже 1 год, так что пока просто ращу. <br>Сорт : магнолия Susan.<br>. \\n', 'Кто выращивает магнолию в открытом грунте в Средней Полосе России ? Какой именно у Вас вид и сорт ? Зимует с укрытием или без укрытия ? Как цветет ? Сколько лет Вашей магнолии ? Каковы размеры деревьев ? Какие особенности выращивания ? Пожалуйста, указывайте в ответе Ваш регион и, если можно, прикрепляйте фото..'], ['скачай программу акронис диск директор, загрузочную версию. \\n', 'Как отформатировать диск C из доса если он в формате NTFS при команде fdisk - жесткие диски не найдены .'], ['Если человек профессионал почему бы нет.Главное остаться довольной результатом.Ситуации разные бывают.Может она мамочка в декрете.Может выгоднее работать на себя,без аренды и других вкусностей.Да как правило цена услуг ниже.А общение свободней.Можно получить еще и хорошего друга и собеседника.. \\n', 'Как вы относитесь к парикмахерам, работающим на дому? Помешает ли вам например присутствие дома ребенка? Или мужа. Нормально ли для вас мыть голову в ванной \"раком\"?.'], ['♦•давно ли Олег стал котом•♦. \\n', 'Кошку Олега не видели)? .'], ['Бог на Руси бережет пьяных и дураков.... \\n', 'Почему пьяному везет больше чем трезвому? .']]\n"
     ]
    }
   ],
   "source": [
    "print (\"Test case -1:\",parse_qa(input_path=parsed_path,limit=10,verbose=False))"
   ]
  },
  {
   "cell_type": "markdown",
   "id": "1b0892c1-c834-422b-bd34-902de527321a",
   "metadata": {},
   "source": [
    "2. <b>Prepocessing</b>"
   ]
  },
  {
   "cell_type": "code",
   "execution_count": 44,
   "id": "fc0191d1-64be-4f22-9036-44bc0b6d1dca",
   "metadata": {},
   "outputs": [],
   "source": [
    "def preprocess_sentence(w: str) -> str:\n",
    "  w = w.lower().strip()\n",
    "\n",
    "  # creating a space between a word and the punctuation following it\n",
    "  # eg: \"he is a boy.\" => \"he is a boy .\"\n",
    "  # Reference:- https://stackoverflow.com/questions/3645931/python-padding-punctuation-with-white-spaces-keeping-punctuation\n",
    "  w = re.sub(r\"([?.!,])\", r\" \\1 \", w)\n",
    "  w = re.sub(r'[\" \"]+', \" \", w)\n",
    "\n",
    "  # replacing everything with space except (a-z, A-Z, \".\", \"?\", \"!\", \",\")\n",
    "  w = re.sub(r\"[^a-zA-Zа-яА-Я?.!,']+\", \" \", w)\n",
    "\n",
    "  w = w.strip()\n",
    "\n",
    "  # adding a start and an end token to the sentence\n",
    "  # so that the model know when to start and stop predicting.\n",
    "  w = '<start> ' + w + ' <end>'\n",
    "  return w\n",
    "\n",
    "def apply_preprocess(line_2d_list: list, verbose = False) -> tuple:\n",
    "    line_2d_list = [[preprocess_sentence(line) for line in line_list]  for line_list in line_2d_list]\n",
    "    if verbose:\n",
    "        print (line_2d_list)\n",
    "    return zip(*line_2d_list)\n",
    "\n",
    "def make_preprocessing(file_path: str, line_limit=None, verbose=False):\n",
    "    return apply_preprocess(\n",
    "        line_2d_list=parse_qa(input_path=file_path,limit=line_limit,verbose=verbose),\n",
    "        verbose=verbose)"
   ]
  },
  {
   "cell_type": "markdown",
   "id": "92000382-ddb8-4708-b9fd-38819b3e6224",
   "metadata": {},
   "source": [
    "<b>Testing</b>\n"
   ]
  },
  {
   "cell_type": "code",
   "execution_count": 45,
   "id": "d0ea5dc4-41ba-4cee-80a8-2d9e92024bc0",
   "metadata": {},
   "outputs": [
    {
     "data": {
      "application/vnd.jupyter.widget-view+json": {
       "model_id": "700c1b20801046549e04359bc946464f",
       "version_major": 2,
       "version_minor": 0
      },
      "text/plain": [
       "0it [00:00, ?it/s]"
      ]
     },
     "metadata": {},
     "output_type": "display_data"
    },
    {
     "name": "stdout",
     "output_type": "stream",
     "text": [
      "===вопрос о ТДВ)) давно и хорошо отдыхаем)) ЛИЧНО ВАМ здесь кого советовали завести?)) . \n",
      "\n",
      "Как парни относятся к цветным линзам? Если у девушки то зеленые глаза, то голубые...)) .===меня вобще прикалывает эта тема :). \n",
      "\n",
      "Что делать, сегодня нашёл 2 миллиона рублей? .===Если это \"счастье \" действительно на вас свалилось, лучше пойти в милицию и заявить о находке. Такие деньги просто так не терют, а что самое интересное их неприменно будут искать и поверьте мне найдут, видел подобное в жизни. Можно нарваться на бабушку конечно, которая хотела помоч внуку с покупкой квартиры, а можно на бандитов, которые будут с вами разговаривать иначе чем бабушка с милицией. Выбор за вами, есть еще конечно шанс, что это подарок с выше за котрый с вас никто не спросит, тогда лучше отдать хотябы 500 на благотворительность. дабы не спугнуть удачу!. \n",
      "\n",
      "Эбу в двенашке называется Итэлма что за эбу? .===ЭБУ — электронный блок управления двигателем автомобиля, его другое название — контроллер. Он принимает информацию от многочисленных датчиков, обрабатывает ее по особым алгоритмам и, отталкиваясь от полученных данных, отдает команды исполнительным устройствам системы.. \n",
      "\n",
      "академия вампиров. сколько на даный момент частей книги академия вампиров? .===4. Охотники и Жертвы, Ледяной укус, Поцелуй тьмы, Кровная клятва. \n",
      "\n",
      "как защититься от энергетического вампира .===Защита мыслью. <br>Каждый человек должен в отношении вампиров взять для себя за правило: \"Нам не страшен серый волк\", то есть знать, что конкретный \"серый волк\" - вампир существует, но воспринимать его следует не как хищника, а как добрую домашнюю собачку. Такая \"собачка\" быстро почувствует, что вы не \"того поля ягода\" и быстро отстанет сама. <br>\"Витание в облаках\". <br>Тоже хороший способ. Мысленно представить себя находящимся в окружении приятных нашим ощущениям белых облаков или сине-голубого неба. Это просто и эффективно. <br>\"Подкормка негативом\". <br>Вампир хочет кушать? Так дайте ему. Соберите в себе все плохие мысли, эмоции, все то отрицательное, что каким-то образом закралось в организм. И всю эту \"тяжесть\" отдайте вампиру - пусть подавится. <br>Зеркало <br>При встрече или при общении с неприятным человеком мысленно представить, что между вами зеркальная стена, обращенная отражающей поверхностью к этому человеку. <br>\"Дикобраз\" <br>Этот способ выглядит следующим образом: человек, который почувствовал опасность, мысленно покрывает свое биополе иглами и шипами. Энергетический вампир, который попробует высосать вашу биоэнергию, будет ощущать боль при прикосновении биополей. <br>Замыкание контура биополя. <br> <br>Существует два способа. Каждый человек выбирает наиболее удобный ему. Первый способ заключается в скрещивании ног и рук при общении с человеком, от которого можно ждать неприятностей. Второй способ заключается в следующем: большой и указательный пальцы одной руки соединить с большим и указательным пальцами другой руки, образуя кольцо, а остальные пальцы каждой руки наложить друг на друга. Оба эти способа очень эффективны, так как благодаря ним замыкается контур биополя, не оставляя пробоин, и энергетический вампир просто не может пробиться через эту защиту и вытянуть нашу биоэнергию. <br> <br>Все приемы нужно делать незаметно, не демонстрируя своих действий и не привлекая внимания окружающих.. \n",
      "\n",
      "Кто выращивает магнолию в открытом грунте в Средней Полосе России ? Какой именно у Вас вид и сорт ? Зимует с укрытием или без укрытия ? Как цветет ? Сколько лет Вашей магнолии ? Каковы размеры деревьев ? Какие особенности выращивания ? Пожалуйста, указывайте в ответе Ваш регион и, если можно, прикрепляйте фото..===Я выращиваю. Хабаровск. ДВ. <br>В кратце. Прочитала на одном сайте метод выращивания магнолии в Средней полосе: если купили черенок растения, то первые 3-4 года выращивается как кадочное растение, как роза. Летом на улице, а на зиму - в погреб или другое прохладное помещение, типа холодильника. До весны. По весне - снова в сад. И так, пока она не нарастит мощную корневую систему. Через 3-4 года ее уже можно высаживать в грунт, а на зиму надо укрывать, по возможности. <br>Моей уже 1 год, так что пока просто ращу. <br>Сорт : магнолия Susan.<br>. \n",
      "\n",
      "Как отформатировать диск C из доса если он в формате NTFS при команде fdisk - жесткие диски не найдены .===скачай программу акронис диск директор, загрузочную версию. \n",
      "\n",
      "Как вы относитесь к парикмахерам, работающим на дому? Помешает ли вам например присутствие дома ребенка? Или мужа. Нормально ли для вас мыть голову в ванной \"раком\"?.===Если человек профессионал почему бы нет.Главное остаться довольной результатом.Ситуации разные бывают.Может она мамочка в декрете.Может выгоднее работать на себя,без аренды и других вкусностей.Да как правило цена услуг ниже.А общение свободней.Можно получить еще и хорошего друга и собеседника.. \n",
      "\n",
      "Кошку Олега не видели)? .===♦•давно ли Олег стал котом•♦. \n",
      "\n",
      "Почему пьяному везет больше чем трезвому? .===Бог на Руси бережет пьяных и дураков.... \n",
      "\n",
      "[['<start> меня вобще прикалывает эта тема . <end>', '<start> как парни относятся к цветным линзам ? если у девушки то зеленые глаза , то голубые . . . . <end>'], ['<start> если это счастье действительно на вас свалилось , лучше пойти в милицию и заявить о находке . такие деньги просто так не терют , а что самое интересное их неприменно будут искать и поверьте мне найдут , видел подобное в жизни . можно нарваться на бабушку конечно , которая хотела помоч внуку с покупкой квартиры , а можно на бандитов , которые будут с вами разговаривать иначе чем бабушка с милицией . выбор за вами , есть еще конечно шанс , что это подарок с выше за котрый с вас никто не спросит , тогда лучше отдать хотябы на благотворительность . дабы не спугнуть удачу ! . <end>', '<start> что делать , сегодня наш л миллиона рублей ? . <end>'], ['<start> эбу электронный блок управления двигателем автомобиля , его другое название контроллер . он принимает информацию от многочисленных датчиков , обрабатывает ее по особым алгоритмам и , отталкиваясь от полученных данных , отдает команды исполнительным устройствам системы . . <end>', '<start> эбу в двенашке называется итэлма что за эбу ? . <end>'], ['<start> . охотники и жертвы , ледяной укус , поцелуй тьмы , кровная клятва . <end>', '<start> академия вампиров . сколько на даный момент частей книги академия вампиров ? . <end>'], ['<start> защита мыслью . br каждый человек должен в отношении вампиров взять для себя за правило нам не страшен серый волк , то есть знать , что конкретный серый волк вампир существует , но воспринимать его следует не как хищника , а как добрую домашнюю собачку . такая собачка быстро почувствует , что вы не того поля ягода и быстро отстанет сама . br витание в облаках . br тоже хороший способ . мысленно представить себя находящимся в окружении приятных нашим ощущениям белых облаков или сине голубого неба . это просто и эффективно . br подкормка негативом . br вампир хочет кушать ? так дайте ему . соберите в себе все плохие мысли , эмоции , все то отрицательное , что каким то образом закралось в организм . и всю эту тяжесть отдайте вампиру пусть подавится . br зеркало br при встрече или при общении с неприятным человеком мысленно представить , что между вами зеркальная стена , обращенная отражающей поверхностью к этому человеку . br дикобраз br этот способ выглядит следующим образом человек , который почувствовал опасность , мысленно покрывает свое биополе иглами и шипами . энергетический вампир , который попробует высосать вашу биоэнергию , будет ощущать боль при прикосновении биополей . br замыкание контура биополя . br br существует два способа . каждый человек выбирает наиболее удобный ему . первый способ заключается в скрещивании ног и рук при общении с человеком , от которого можно ждать неприятностей . второй способ заключается в следующем большой и указательный пальцы одной руки соединить с большим и указательным пальцами другой руки , образуя кольцо , а остальные пальцы каждой руки наложить друг на друга . оба эти способа очень эффективны , так как благодаря ним замыкается контур биополя , не оставляя пробоин , и энергетический вампир просто не может пробиться через эту защиту и вытянуть нашу биоэнергию . br br все приемы нужно делать незаметно , не демонстрируя своих действий и не привлекая внимания окружающих . . <end>', '<start> как защититься от энергетического вампира . <end>'], ['<start> я выращиваю . хабаровск . дв . br в кратце . прочитала на одном сайте метод выращивания магнолии в средней полосе если купили черенок растения , то первые года выращивается как кадочное растение , как роза . летом на улице , а на зиму в погреб или другое прохладное помещение , типа холодильника . до весны . по весне снова в сад . и так , пока она не нарастит мощную корневую систему . через года ее уже можно высаживать в грунт , а на зиму надо укрывать , по возможности . br моей уже год , так что пока просто ращу . br сорт магнолия susan . br . <end>', '<start> кто выращивает магнолию в открытом грунте в средней полосе россии ? какой именно у вас вид и сорт ? зимует с укрытием или без укрытия ? как цветет ? сколько лет вашей магнолии ? каковы размеры деревьев ? какие особенности выращивания ? пожалуйста , указывайте в ответе ваш регион и , если можно , прикрепляйте фото . . <end>'], ['<start> скачай программу акронис диск директор , загрузочную версию . <end>', '<start> как отформатировать диск c из доса если он в формате ntfs при команде fdisk жесткие диски не найдены . <end>'], ['<start> если человек профессионал почему бы нет . главное остаться довольной результатом . ситуации разные бывают . может она мамочка в декрете . может выгоднее работать на себя , без аренды и других вкусностей . да как правило цена услуг ниже . а общение свободней . можно получить еще и хорошего друга и собеседника . . <end>', '<start> как вы относитесь к парикмахерам , работающим на дому ? помешает ли вам например присутствие дома ребенка ? или мужа . нормально ли для вас мыть голову в ванной раком ? . <end>'], ['<start> давно ли олег стал котом . <end>', '<start> кошку олега не видели ? . <end>'], ['<start> бог на руси бережет пьяных и дураков . . . . <end>', '<start> почему пьяному везет больше чем трезвому ? . <end>']]\n",
      "Test make-preprocessing: <zip object at 0x7f9633bc3e00>\n"
     ]
    }
   ],
   "source": [
    "print (\"Test make-preprocessing:\", make_preprocessing(file_path=parsed_path, line_limit=10, verbose=True))"
   ]
  },
  {
   "cell_type": "markdown",
   "id": "0009eaef-f997-42c1-b0da-47b1e3138642",
   "metadata": {},
   "source": [
    "3. <b>Tokenizer</b>"
   ]
  },
  {
   "cell_type": "code",
   "execution_count": 46,
   "id": "6bf8394e-cbd5-4d3d-ab77-de27bc736fed",
   "metadata": {},
   "outputs": [],
   "source": [
    "# https://www.tensorflow.org/api_docs/python/tf/keras/preprocessing/text/Tokenizer\n",
    "\n",
    "# num_words    the maximum number of words to keep, based on word frequency. Only the most common num_words-1 words will be kept.\n",
    "# filters\t   a string where each element is a character that will be filtered from the texts. The default is all punctuation, plus tabs and line breaks, minus the ' character.\n",
    "# lower\t       boolean. Whether to convert the texts to lowercase.\n",
    "# split\tstr.   Separator for word splitting.\n",
    "# char_level   if True, every character will be treated as a token.\n",
    "# oov_token\t   if given, it will be added to word_index and used to replace out-of-vocabulary words during text_to_sequence calls\n",
    "# analyzer\t   function. Custom analyzer to split the text. The default analyzer is text_to_word_sequence\n",
    "\n",
    "# tf.keras.preprocessing.text.Tokenizer(\n",
    "#     num_words=None,\n",
    "#     filters='!\"#$%&()*+,-./:;<=>?@[\\\\]^_`{|}~\\t\\n',\n",
    "#     lower=True,\n",
    "#     split=' ',\n",
    "#     char_level=False,\n",
    "#     oov_token=None,\n",
    "#     analyzer=None,\n",
    "#     **kwargs\n",
    "# )\n",
    "\n",
    "def tokenize(text_list: list) -> tuple:\n",
    "  # overriding default filters and building internal courpus\n",
    "  lang_tokenizer = tf.keras.preprocessing.text.Tokenizer(filters='')\n",
    "  lang_tokenizer.fit_on_texts(text_list)\n",
    "    \n",
    "  # building numerical sequence. Each word is coded as the respective corpus number\n",
    "  tensor = lang_tokenizer.texts_to_sequences(text_list)\n",
    "\n",
    "  # messages have different lenght. Padding allows to make tensors with same length\n",
    "  # length difference is compensated by adding ZEROES before or after\n",
    "  tensor = tf.keras.preprocessing.sequence.pad_sequences(tensor,padding='post')\n",
    "\n",
    "  return tensor, lang_tokenizer\n",
    "\n",
    "\n",
    "def load_dataset(file_path: str, line_limit=None):\n",
    "\n",
    "  targ_lang, inp_lang = make_preprocessing(file_path=file_path,\n",
    "                                           line_limit=line_limit)\n",
    "\n",
    "  input_tensor, inp_lang_tokenizer = tokenize(text_list=inp_lang)\n",
    "  target_tensor, targ_lang_tokenizer = tokenize(text_list=targ_lang)\n",
    "\n",
    "  return input_tensor, target_tensor, inp_lang_tokenizer, targ_lang_tokenizer"
   ]
  },
  {
   "cell_type": "code",
   "execution_count": 47,
   "id": "eb7336da-3526-4922-8ee0-2ef2adb3d829",
   "metadata": {},
   "outputs": [
    {
     "data": {
      "application/vnd.jupyter.widget-view+json": {
       "model_id": "7ddfcae0f91a4e9eab21facec78b19a4",
       "version_major": 2,
       "version_minor": 0
      },
      "text/plain": [
       "0it [00:00, ?it/s]"
      ]
     },
     "metadata": {},
     "output_type": "display_data"
    },
    {
     "name": "stdout",
     "output_type": "stream",
     "text": [
      "16 16 4 4\n",
      "325 60\n"
     ]
    }
   ],
   "source": [
    "LIMIT = 20\n",
    "# Making tensors\n",
    "input_tensor, target_tensor, inp_lang, targ_lang = load_dataset(file_path=parsed_path,line_limit=LIMIT)\n",
    "\n",
    "# Creating training and validation sets using an 80-20 split\n",
    "input_tensor_train, input_tensor_val, target_tensor_train, target_tensor_val = train_test_split(\n",
    "    input_tensor, target_tensor, test_size=0.2)\n",
    "\n",
    "# Show length\n",
    "print(len(input_tensor_train), len(target_tensor_train), len(input_tensor_val), len(target_tensor_val))\n",
    "\n",
    "\n",
    "# Calculate max_length of the target tensors\n",
    "max_length_targ, max_length_inp = target_tensor.shape[1], input_tensor.shape[1]\n",
    "print (max_length_targ,max_length_inp)"
   ]
  },
  {
   "cell_type": "code",
   "execution_count": 48,
   "id": "b3ab9200-422e-42c7-9e4c-4ad5a3064f26",
   "metadata": {},
   "outputs": [],
   "source": [
    "BUFFER_SIZE = len(input_tensor_train)\n",
    "BATCH_SIZE = 10\n",
    "\n",
    "steps_per_epoch = len(input_tensor_train)//BATCH_SIZE\n",
    "embedding_dim = 256\n",
    "units = 1024\n",
    "\n",
    "vocab_inp_size = len(inp_lang.word_index)+1\n",
    "vocab_tar_size = len(targ_lang.word_index)+1\n",
    "\n",
    "dataset = tf.data.Dataset.from_tensor_slices((input_tensor_train, target_tensor_train)).shuffle(BUFFER_SIZE)\n",
    "dataset = dataset.batch(BATCH_SIZE, drop_remainder=True)"
   ]
  },
  {
   "cell_type": "code",
   "execution_count": 49,
   "id": "3b95b511-bab8-4dc7-b418-9c95e8bb085d",
   "metadata": {},
   "outputs": [
    {
     "name": "stdout",
     "output_type": "stream",
     "text": [
      "(10, 60) (10, 325)\n"
     ]
    }
   ],
   "source": [
    "example_input_batch, example_target_batch = next(iter(dataset))\n",
    "\n",
    "print (example_input_batch.shape, example_target_batch.shape)"
   ]
  },
  {
   "cell_type": "markdown",
   "id": "ac98b43c-b2ff-4c04-8988-47bef7c8795a",
   "metadata": {},
   "source": [
    "4. <b>Making Encoder/Decoder NN</b>"
   ]
  },
  {
   "cell_type": "code",
   "execution_count": 50,
   "id": "47d62149-03d9-41a6-b273-7510d27296a9",
   "metadata": {},
   "outputs": [],
   "source": [
    "class Encoder(tf.keras.Model):\n",
    "  def __init__(self, vocab_size, embedding_dim, enc_units, batch_sz):\n",
    "    super(Encoder, self).__init__()\n",
    "    self.batch_sz = batch_sz\n",
    "    self.enc_units = enc_units\n",
    "    self.embedding = tf.keras.layers.Embedding(vocab_size, embedding_dim)\n",
    "    self.gru = tf.keras.layers.GRU(self.enc_units,\n",
    "                                   return_sequences=True,\n",
    "                                   return_state=True,\n",
    "                                   recurrent_initializer='glorot_uniform')\n",
    "\n",
    "  def call(self, x, hidden):\n",
    "    x = self.embedding(x)\n",
    "    output, state = self.gru(x, initial_state = hidden)\n",
    "    return output, state\n",
    "\n",
    "  def initialize_hidden_state(self):\n",
    "    return tf.zeros((self.batch_sz, self.enc_units))"
   ]
  },
  {
   "cell_type": "code",
   "execution_count": 51,
   "id": "0aac9c4c-6fba-4df3-9e86-856b4449934f",
   "metadata": {},
   "outputs": [
    {
     "name": "stdout",
     "output_type": "stream",
     "text": [
      "Encoder output shape: (batch size, sequence length, units) (10, 60, 1024)\n",
      "Encoder Hidden state shape: (batch size, units) (10, 1024)\n"
     ]
    }
   ],
   "source": [
    "# Encoder:\n",
    "encoder = Encoder(vocab_inp_size, embedding_dim, units, BATCH_SIZE)\n",
    "\n",
    "# sample input\n",
    "sample_hidden = encoder.initialize_hidden_state()\n",
    "sample_output, sample_hidden = encoder(example_input_batch, sample_hidden)\n",
    "\n",
    "print ('Encoder output shape: (batch size, sequence length, units) {}'.format(sample_output.shape))\n",
    "print ('Encoder Hidden state shape: (batch size, units) {}'.format(sample_hidden.shape))"
   ]
  },
  {
   "cell_type": "code",
   "execution_count": 52,
   "id": "d9ab07e8-1fd2-4e6d-8ec9-493ba20d91bc",
   "metadata": {},
   "outputs": [],
   "source": [
    "class BahdanauAttention(tf.keras.layers.Layer):\n",
    "  def __init__(self, units):\n",
    "    super(BahdanauAttention, self).__init__()\n",
    "    self.W1 = tf.keras.layers.Dense(units)\n",
    "    self.W2 = tf.keras.layers.Dense(units)\n",
    "    self.V = tf.keras.layers.Dense(1)\n",
    "\n",
    "  def call(self, query, values):\n",
    "    # query hidden state shape == (batch_size, hidden size)\n",
    "    # query_with_time_axis shape == (batch_size, 1, hidden size)\n",
    "    # values shape == (batch_size, max_len, hidden size)\n",
    "    # we are doing this to broadcast addition along the time axis to calculate the score\n",
    "    query_with_time_axis = tf.expand_dims(query, 1)\n",
    "\n",
    "    # score shape == (batch_size, max_length, 1)\n",
    "    # we get 1 at the last axis because we are applying score to self.V\n",
    "    # the shape of the tensor before applying self.V is (batch_size, max_length, units)\n",
    "    score = self.V(tf.nn.tanh(\n",
    "        self.W1(query_with_time_axis) + self.W2(values)))\n",
    "\n",
    "    # attention_weights shape == (batch_size, max_length, 1)\n",
    "    attention_weights = tf.nn.softmax(score, axis=1)\n",
    "\n",
    "    # context_vector shape after sum == (batch_size, hidden_size)\n",
    "    context_vector = attention_weights * values\n",
    "    context_vector = tf.reduce_sum(context_vector, axis=1)\n",
    "\n",
    "    return context_vector, attention_weights"
   ]
  },
  {
   "cell_type": "code",
   "execution_count": 53,
   "id": "a8663096-a3f1-42a2-a7cc-b77b1a804b00",
   "metadata": {},
   "outputs": [],
   "source": [
    "class Decoder(tf.keras.Model):\n",
    "  def __init__(self, vocab_size, embedding_dim, dec_units, batch_sz):\n",
    "    super(Decoder, self).__init__()\n",
    "    self.batch_sz = batch_sz\n",
    "    self.dec_units = dec_units\n",
    "    self.embedding = tf.keras.layers.Embedding(vocab_size, embedding_dim)\n",
    "    self.gru = tf.keras.layers.GRU(self.dec_units,\n",
    "                                   return_sequences=True,\n",
    "                                   return_state=True,\n",
    "                                   recurrent_initializer='glorot_uniform')\n",
    "    self.fc = tf.keras.layers.Dense(vocab_size)\n",
    "\n",
    "    # used for attention\n",
    "    self.attention = BahdanauAttention(self.dec_units)\n",
    "\n",
    "  def call(self, x, hidden, enc_output):\n",
    "    # enc_output shape == (batch_size, max_length, hidden_size)\n",
    "    context_vector, attention_weights = self.attention(hidden, enc_output)\n",
    "\n",
    "    # x shape after passing through embedding == (batch_size, 1, embedding_dim)\n",
    "    x = self.embedding(x)\n",
    "\n",
    "    # x shape after concatenation == (batch_size, 1, embedding_dim + hidden_size)\n",
    "    x = tf.concat([tf.expand_dims(context_vector, 1), x], axis=-1)\n",
    "\n",
    "    # passing the concatenated vector to the GRU\n",
    "    output, state = self.gru(x)\n",
    "\n",
    "    # output shape == (batch_size * 1, hidden_size)\n",
    "    output = tf.reshape(output, (-1, output.shape[2]))\n",
    "\n",
    "    # output shape == (batch_size, vocab)\n",
    "    x = self.fc(output)\n",
    "\n",
    "    return x, state, attention_weights"
   ]
  },
  {
   "cell_type": "code",
   "execution_count": 54,
   "id": "cd122493-0bd3-417d-9bdb-aedb000a22db",
   "metadata": {},
   "outputs": [
    {
     "name": "stdout",
     "output_type": "stream",
     "text": [
      "Decoder output shape: (batch_size, vocab size) (10, 712)\n"
     ]
    }
   ],
   "source": [
    "decoder = Decoder(vocab_tar_size, embedding_dim, units, BATCH_SIZE)\n",
    "\n",
    "sample_decoder_output, _, _ = decoder(tf.random.uniform((BATCH_SIZE, 1)),\n",
    "                                      sample_hidden, sample_output)\n",
    "\n",
    "print ('Decoder output shape: (batch_size, vocab size) {}'.format(sample_decoder_output.shape))"
   ]
  },
  {
   "cell_type": "code",
   "execution_count": 55,
   "id": "9c90394e-fdda-4149-98e1-ce998917df3a",
   "metadata": {},
   "outputs": [],
   "source": [
    "# Define the optimizer and the loss function\n",
    "optimizer = tf.keras.optimizers.Adam()\n",
    "loss_object = tf.keras.losses.SparseCategoricalCrossentropy(\n",
    "    from_logits=True, reduction='none')\n",
    "\n",
    "def loss_function(real, pred):\n",
    "  mask = tf.math.logical_not(tf.math.equal(real, 0))\n",
    "  loss_ = loss_object(real, pred)\n",
    "\n",
    "  mask = tf.cast(mask, dtype=loss_.dtype)\n",
    "  loss_ *= mask\n",
    "\n",
    "  return tf.reduce_mean(loss_)"
   ]
  },
  {
   "cell_type": "code",
   "execution_count": 56,
   "id": "92887f0b-b709-4a16-bd2b-1f48a5ef8637",
   "metadata": {},
   "outputs": [],
   "source": [
    "# Checkpoints (Object-based saving)\n",
    "\n",
    "checkpoint_dir = './training_attention_checkpoints'\n",
    "checkpoint_prefix = os.path.join(checkpoint_dir, \"ckpt\")\n",
    "checkpoint = tf.train.Checkpoint(optimizer=optimizer,\n",
    "                                 encoder=encoder,\n",
    "                                 decoder=decoder)"
   ]
  },
  {
   "cell_type": "code",
   "execution_count": 57,
   "id": "69699dfb-f226-41dd-a9af-9d7e5bc69b31",
   "metadata": {},
   "outputs": [],
   "source": [
    "@tf.function\n",
    "def train_step(inp, targ, enc_hidden):\n",
    "  loss = 0\n",
    "\n",
    "  with tf.GradientTape() as tape:\n",
    "    enc_output, enc_hidden = encoder(inp, enc_hidden)\n",
    "\n",
    "    dec_hidden = enc_hidden\n",
    "\n",
    "    dec_input = tf.expand_dims([targ_lang.word_index['<start>']] * BATCH_SIZE, 1)\n",
    "\n",
    "    # Teacher forcing - feeding the target as the next input\n",
    "    for t in range(1, targ.shape[1]):\n",
    "      # passing enc_output to the decoder\n",
    "      predictions, dec_hidden, _ = decoder(dec_input, dec_hidden, enc_output)\n",
    "\n",
    "      loss += loss_function(targ[:, t], predictions)\n",
    "\n",
    "      # using teacher forcing\n",
    "      dec_input = tf.expand_dims(targ[:, t], 1)\n",
    "\n",
    "  batch_loss = (loss / int(targ.shape[1]))\n",
    "\n",
    "  variables = encoder.trainable_variables + decoder.trainable_variables\n",
    "\n",
    "  gradients = tape.gradient(loss, variables)\n",
    "\n",
    "  optimizer.apply_gradients(zip(gradients, variables))\n",
    "\n",
    "  return batch_loss"
   ]
  },
  {
   "cell_type": "code",
   "execution_count": null,
   "id": "2857ed28-39ea-4c53-be6c-2bdf0a4c2892",
   "metadata": {},
   "outputs": [],
   "source": [
    "EPOCHS = 50\n",
    "\n",
    "for epoch in range(EPOCHS):\n",
    "  start = time.time()\n",
    "\n",
    "  enc_hidden = encoder.initialize_hidden_state()\n",
    "  total_loss = 0\n",
    "\n",
    "  for (batch, (inp, targ)) in enumerate(dataset.take(steps_per_epoch)):\n",
    "    batch_loss = train_step(inp, targ, enc_hidden)\n",
    "    total_loss += batch_loss\n",
    "\n",
    "    print('Epoch {} Batch {} Loss {:.4f}'.format(epoch + 1,\n",
    "                                                 batch,\n",
    "                                                 batch_loss.numpy()))\n",
    "  # saving (checkpoint) the model every 2 epochs\n",
    "  if (epoch + 1) % 2 == 0:\n",
    "    checkpoint.save(file_prefix = checkpoint_prefix)\n",
    "\n",
    "  print('Epoch {} Loss {:.4f}'.format(epoch + 1,\n",
    "                                      total_loss / steps_per_epoch))\n",
    "  print('Time taken for 1 epoch {} sec\\n'.format(time.time() - start))"
   ]
  },
  {
   "cell_type": "code",
   "execution_count": null,
   "id": "95906483-12e4-431a-85af-d1dab24dcea0",
   "metadata": {},
   "outputs": [],
   "source": [
    "def evaluate(sentence):\n",
    "  attention_plot = np.zeros((max_length_targ, max_length_inp))\n",
    "  sentence = preprocess_sentence(sentence)\n",
    "\n",
    "  inputs = [inp_lang.word_index[i] for i in sentence.split(' ')]\n",
    "  inputs = tf.keras.preprocessing.sequence.pad_sequences([inputs],\n",
    "                                                         maxlen=max_length_inp,\n",
    "                                                         padding='post')\n",
    "  inputs = tf.convert_to_tensor(inputs)\n",
    "  result = ''\n",
    "\n",
    "  hidden = [tf.zeros((1, units))]\n",
    "  enc_out, enc_hidden = encoder(inputs, hidden)\n",
    "  dec_hidden = enc_hidden\n",
    "  dec_input = tf.expand_dims([targ_lang.word_index['<start>']], 0)\n",
    "\n",
    "  for t in range(max_length_targ):\n",
    "    predictions, dec_hidden, attention_weights = decoder(dec_input,\n",
    "                                                         dec_hidden,\n",
    "                                                         enc_out)\n",
    "\n",
    "    # storing the attention weights to plot later on\n",
    "    attention_weights = tf.reshape(attention_weights, (-1, ))\n",
    "    attention_plot[t] = attention_weights.numpy()\n",
    "\n",
    "    predicted_id = tf.argmax(predictions[0]).numpy()\n",
    "    result += targ_lang.index_word[predicted_id] + ' '\n",
    "\n",
    "    if targ_lang.index_word[predicted_id] == '<end>':\n",
    "      return result, sentence, attention_plot\n",
    "\n",
    "    # the predicted ID is fed back into the model\n",
    "    dec_input = tf.expand_dims([predicted_id], 0)\n",
    "\n",
    "  return result, sentence, attention_plot"
   ]
  },
  {
   "cell_type": "code",
   "execution_count": null,
   "id": "3665e8bb-4df5-4c65-8fc1-c1240b49a070",
   "metadata": {},
   "outputs": [],
   "source": [
    "def plot_attention(attention, sentence, predicted_sentence):\n",
    "  fig = plt.figure(figsize=(10,10))\n",
    "  ax = fig.add_subplot(1, 1, 1)\n",
    "  ax.matshow(attention, cmap='viridis')\n",
    "\n",
    "  fontdict = {'fontsize': 14}\n",
    "\n",
    "  ax.set_xticklabels([''] + sentence, fontdict=fontdict, rotation=90)\n",
    "  ax.set_yticklabels([''] + predicted_sentence, fontdict=fontdict)\n",
    "\n",
    "  ax.xaxis.set_major_locator(ticker.MultipleLocator(1))\n",
    "  ax.yaxis.set_major_locator(ticker.MultipleLocator(1))\n",
    "\n",
    "  plt.show()\n",
    "\n",
    "def translate(sentence):\n",
    "  result, sentence, attention_plot = evaluate(sentence)\n",
    "\n",
    "  print('Input: %s' % (sentence))\n",
    "  print('Predicted translation: {}'.format(result))\n",
    "\n",
    "  attention_plot = attention_plot[:len(result.split(' ')), :len(sentence.split(' '))]\n",
    "  plot_attention(attention_plot, sentence.split(' '), result.split(' '))"
   ]
  },
  {
   "cell_type": "code",
   "execution_count": null,
   "id": "1d9a348b-6d1d-4e5d-98cd-e2ec031bf868",
   "metadata": {},
   "outputs": [],
   "source": [
    "inp_lang.word_index"
   ]
  },
  {
   "cell_type": "code",
   "execution_count": 40,
   "id": "fd7839cf-b7ba-4db5-b2e1-d8d8e28ca071",
   "metadata": {},
   "outputs": [
    {
     "name": "stdout",
     "output_type": "stream",
     "text": [
      "Input: <start> человек искать счастье <end>\n",
      "Predicted translation: как отформатировать диск c из доса если он в формате ntfs при команде fdisk жесткие диски не видели ? . <end> \n"
     ]
    },
    {
     "name": "stderr",
     "output_type": "stream",
     "text": [
      "/tmp/ipykernel_67847/2287643495.py:8: UserWarning: set_ticklabels() should only be used with a fixed number of ticks, i.e. after set_ticks() or using a FixedLocator.\n",
      "  ax.set_xticklabels([''] + sentence, fontdict=fontdict, rotation=90)\n",
      "/tmp/ipykernel_67847/2287643495.py:9: UserWarning: set_ticklabels() should only be used with a fixed number of ticks, i.e. after set_ticks() or using a FixedLocator.\n",
      "  ax.set_yticklabels([''] + predicted_sentence, fontdict=fontdict)\n"
     ]
    },
    {
     "data": {
      "image/png": "[encoded data removed]",
      "text/plain": [
       "<Figure size 1000x1000 with 1 Axes>"
      ]
     },
     "metadata": {},
     "output_type": "display_data"
    }
   ],
   "source": [
    "translate('человек искать счастье')"
   ]
  },
  {
   "cell_type": "code",
   "execution_count": 36,
   "id": "4e74472e-d81a-4c95-a1c0-9df0c0762fbf",
   "metadata": {},
   "outputs": [
    {
     "name": "stdout",
     "output_type": "stream",
     "text": [
      "Input: <start> волос <end>\n",
      "Predicted translation: как отформатировать диск c из доса если он в формате ntfs при команде fdisk жесткие диски не видели ? . <end> \n"
     ]
    },
    {
     "name": "stderr",
     "output_type": "stream",
     "text": [
      "/tmp/ipykernel_67847/2287643495.py:8: UserWarning: set_ticklabels() should only be used with a fixed number of ticks, i.e. after set_ticks() or using a FixedLocator.\n",
      "  ax.set_xticklabels([''] + sentence, fontdict=fontdict, rotation=90)\n",
      "/tmp/ipykernel_67847/2287643495.py:9: UserWarning: set_ticklabels() should only be used with a fixed number of ticks, i.e. after set_ticks() or using a FixedLocator.\n",
      "  ax.set_yticklabels([''] + predicted_sentence, fontdict=fontdict)\n"
     ]
    },
    {
     "data": {
      "image/png": "[encoded data removed]",
      "text/plain": [
       "<Figure size 1000x1000 with 1 Axes>"
      ]
     },
     "metadata": {},
     "output_type": "display_data"
    }
   ],
   "source": [
    "translate('волос')"
   ]
  },
  {
   "cell_type": "code",
   "execution_count": 37,
   "id": "99e25174-9a1a-4062-a16b-6f3e53b5de65",
   "metadata": {},
   "outputs": [
    {
     "name": "stdout",
     "output_type": "stream",
     "text": [
      "Input: <start> император <end>\n",
      "Predicted translation: как отформатировать диск c из доса если он в формате ntfs при команде fdisk жесткие диски не видели ? . <end> \n"
     ]
    },
    {
     "name": "stderr",
     "output_type": "stream",
     "text": [
      "/tmp/ipykernel_67847/2287643495.py:8: UserWarning: set_ticklabels() should only be used with a fixed number of ticks, i.e. after set_ticks() or using a FixedLocator.\n",
      "  ax.set_xticklabels([''] + sentence, fontdict=fontdict, rotation=90)\n",
      "/tmp/ipykernel_67847/2287643495.py:9: UserWarning: set_ticklabels() should only be used with a fixed number of ticks, i.e. after set_ticks() or using a FixedLocator.\n",
      "  ax.set_yticklabels([''] + predicted_sentence, fontdict=fontdict)\n"
     ]
    },
    {
     "data": {
      "image/png": "[encoded data removed]",
      "text/plain": [
       "<Figure size 1000x1000 with 1 Axes>"
      ]
     },
     "metadata": {},
     "output_type": "display_data"
    }
   ],
   "source": [
    "translate('император')"
   ]
  },
  {
   "cell_type": "code",
   "execution_count": null,
   "id": "87f80ad2-0569-4673-8632-2e1f7991f580",
   "metadata": {},
   "outputs": [],
   "source": []
  },
  {
   "cell_type": "code",
   "execution_count": null,
   "id": "9703a32a-d753-4c69-8155-6ec424c52452",
   "metadata": {},
   "outputs": [],
   "source": []
  },
  {
   "cell_type": "code",
   "execution_count": null,
   "id": "51498667-637c-459d-8e5e-8543af94a509",
   "metadata": {},
   "outputs": [],
   "source": []
  }
 ],
 "metadata": {
  "kernelspec": {
   "display_name": "Python 3 (ipykernel)",
   "language": "python",
   "name": "python3"
  },
  "language_info": {
   "codemirror_mode": {
    "name": "ipython",
    "version": 3
   },
   "file_extension": ".py",
   "mimetype": "text/x-python",
   "name": "python",
   "nbconvert_exporter": "python",
   "pygments_lexer": "ipython3",
   "version": "3.11.2"
  }
 },
 "nbformat": 4,
 "nbformat_minor": 5
}
