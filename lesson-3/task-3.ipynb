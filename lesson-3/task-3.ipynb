{
 "cells": [
  {
   "cell_type": "code",
   "execution_count": 128,
   "id": "3dfe0d9c",
   "metadata": {},
   "outputs": [],
   "source": [
    "from tensorflow.keras.layers import Input, Flatten, Dense\n",
    "from tensorflow.keras.models import Model, Sequential\n",
    "from tensorflow.keras.optimizers import Adam, SGD\n",
    "from tensorflow.keras.utils import to_categorical\n",
    "\n",
    "#from tensorflow.keras.losses import CategoricalCrossentropy, SparseCategoricalCrossentropy\n",
    "\n",
    "from tensorflow.keras.losses import MeanSquaredError\n",
    "from tensorflow.keras.metrics import Accuracy\n",
    "\n",
    "import matplotlib.pyplot as plt\n"
   ]
  },
  {
   "cell_type": "code",
   "execution_count": 129,
   "id": "1d8199c1",
   "metadata": {},
   "outputs": [],
   "source": [
    "from keras.datasets import fashion_mnist\n",
    "(x_train, y_train_labels), (x_test, y_test_labels) = fashion_mnist.load_data()"
   ]
  },
  {
   "cell_type": "code",
   "execution_count": 130,
   "id": "8c7476ab",
   "metadata": {},
   "outputs": [],
   "source": [
    "class_names = ['T-shirt/top','Trouser','Pullover','Dress','Coat','Sandal','Shirt','Sneaker','Bag','Ankle boot']"
   ]
  },
  {
   "cell_type": "code",
   "execution_count": 131,
   "id": "06fb2b8a",
   "metadata": {},
   "outputs": [
    {
     "data": {
      "text/plain": [
       "array([[0., 0., 0., ..., 0., 0., 1.],\n",
       "       [1., 0., 0., ..., 0., 0., 0.],\n",
       "       [1., 0., 0., ..., 0., 0., 0.],\n",
       "       ...,\n",
       "       [0., 0., 0., ..., 0., 0., 0.],\n",
       "       [1., 0., 0., ..., 0., 0., 0.],\n",
       "       [0., 0., 0., ..., 0., 0., 0.]], dtype=float32)"
      ]
     },
     "execution_count": 131,
     "metadata": {},
     "output_type": "execute_result"
    }
   ],
   "source": [
    "y_train = to_categorical(y_train_labels)\n",
    "y_test = to_categorical(y_test_labels)\n",
    "y_train"
   ]
  },
  {
   "cell_type": "code",
   "execution_count": 132,
   "id": "dc41cf94",
   "metadata": {},
   "outputs": [],
   "source": [
    "x_train = x_train/255.0\n",
    "x_test = x_test/255.0"
   ]
  },
  {
   "cell_type": "code",
   "execution_count": 144,
   "id": "6cf31475",
   "metadata": {},
   "outputs": [
    {
     "data": {
      "image/png": "[encoded data removed]",
      "text/plain": [
       "<Figure size 1000x1000 with 5 Axes>"
      ]
     },
     "metadata": {},
     "output_type": "display_data"
    }
   ],
   "source": [
    "plt.figure(figsize=(10,10))\n",
    "\n",
    "for i in range(5):\n",
    "    plt.subplot(1,5,i+1)\n",
    "    plt.xticks([])\n",
    "    plt.yticks([])\n",
    "    plt.imshow(x_train[i],cmap=plt.cm.binary)\n",
    "    plt.xlabel(class_names[y_train_labels[i]])\n",
    "\n",
    "plt.show()"
   ]
  },
  {
   "cell_type": "code",
   "execution_count": 149,
   "id": "91a4b341",
   "metadata": {},
   "outputs": [
    {
     "name": "stdout",
     "output_type": "stream",
     "text": [
      "Model: \"sequential_18\"\n",
      "_________________________________________________________________\n",
      " Layer (type)                Output Shape              Param #   \n",
      "=================================================================\n",
      " flatten_18 (Flatten)        (None, 784)               0         \n",
      "                                                                 \n",
      " dense_49 (Dense)            (None, 200)               157000    \n",
      "                                                                 \n",
      " dense_50 (Dense)            (None, 200)               40200     \n",
      "                                                                 \n",
      " dense_51 (Dense)            (None, 10)                2010      \n",
      "                                                                 \n",
      "=================================================================\n",
      "Total params: 199210 (778.16 KB)\n",
      "Trainable params: 199210 (778.16 KB)\n",
      "Non-trainable params: 0 (0.00 Byte)\n",
      "_________________________________________________________________\n"
     ]
    }
   ],
   "source": [
    "model = Sequential([\n",
    "    # transforming 2d -> to 1d vector by flatten\n",
    "    # it's not NN layer it's just transform\n",
    "    Flatten(input_shape=(28,28)),\n",
    "    # The first NN layer\n",
    "    Dense(200, activation='relu'),\n",
    "    Dense(200, activation='relu'),\n",
    "    # The second (output) NN layer\n",
    "    Dense(10, activation='sigmoid')\n",
    "])\n",
    "\n",
    "model.summary()"
   ]
  },
  {
   "cell_type": "code",
   "execution_count": 150,
   "id": "5122a31f",
   "metadata": {},
   "outputs": [],
   "source": [
    "model.compile(optimizer=Adam(),loss='mse',metrics=['accuracy'])"
   ]
  },
  {
   "cell_type": "code",
   "execution_count": 151,
   "id": "5a53a201",
   "metadata": {},
   "outputs": [
    {
     "name": "stdout",
     "output_type": "stream",
     "text": [
      "Epoch 1/100\n",
      "235/235 [==============================] - 2s 7ms/step - loss: 0.0421 - accuracy: 0.7011 - val_loss: 0.0268 - val_accuracy: 0.8189\n",
      "Epoch 2/100\n",
      "235/235 [==============================] - 2s 6ms/step - loss: 0.0227 - accuracy: 0.8480 - val_loss: 0.0223 - val_accuracy: 0.8497\n",
      "Epoch 3/100\n",
      "235/235 [==============================] - 2s 7ms/step - loss: 0.0200 - accuracy: 0.8669 - val_loss: 0.0212 - val_accuracy: 0.8556\n",
      "Epoch 4/100\n",
      "235/235 [==============================] - 2s 6ms/step - loss: 0.0183 - accuracy: 0.8781 - val_loss: 0.0210 - val_accuracy: 0.8574\n",
      "Epoch 5/100\n",
      "235/235 [==============================] - 2s 6ms/step - loss: 0.0174 - accuracy: 0.8829 - val_loss: 0.0195 - val_accuracy: 0.8666\n",
      "Epoch 6/100\n",
      "235/235 [==============================] - 2s 7ms/step - loss: 0.0164 - accuracy: 0.8906 - val_loss: 0.0186 - val_accuracy: 0.8752\n",
      "Epoch 7/100\n",
      "235/235 [==============================] - 2s 6ms/step - loss: 0.0157 - accuracy: 0.8943 - val_loss: 0.0188 - val_accuracy: 0.8724\n",
      "Epoch 8/100\n",
      "235/235 [==============================] - 2s 7ms/step - loss: 0.0152 - accuracy: 0.8978 - val_loss: 0.0181 - val_accuracy: 0.8746\n",
      "Epoch 9/100\n",
      "235/235 [==============================] - 2s 7ms/step - loss: 0.0148 - accuracy: 0.9006 - val_loss: 0.0175 - val_accuracy: 0.8814\n",
      "Epoch 10/100\n",
      "235/235 [==============================] - 2s 7ms/step - loss: 0.0143 - accuracy: 0.9046 - val_loss: 0.0171 - val_accuracy: 0.8840\n",
      "Epoch 11/100\n",
      "235/235 [==============================] - 2s 7ms/step - loss: 0.0140 - accuracy: 0.9065 - val_loss: 0.0173 - val_accuracy: 0.8816\n",
      "Epoch 12/100\n",
      "235/235 [==============================] - 2s 7ms/step - loss: 0.0133 - accuracy: 0.9111 - val_loss: 0.0172 - val_accuracy: 0.8820\n",
      "Epoch 13/100\n",
      "235/235 [==============================] - 2s 7ms/step - loss: 0.0130 - accuracy: 0.9135 - val_loss: 0.0173 - val_accuracy: 0.8844\n",
      "Epoch 14/100\n",
      "235/235 [==============================] - 2s 6ms/step - loss: 0.0126 - accuracy: 0.9169 - val_loss: 0.0172 - val_accuracy: 0.8836\n",
      "Epoch 15/100\n",
      "235/235 [==============================] - 2s 6ms/step - loss: 0.0122 - accuracy: 0.9190 - val_loss: 0.0165 - val_accuracy: 0.8879\n",
      "Epoch 16/100\n",
      "235/235 [==============================] - 2s 7ms/step - loss: 0.0118 - accuracy: 0.9214 - val_loss: 0.0166 - val_accuracy: 0.8879\n",
      "Epoch 17/100\n",
      "235/235 [==============================] - 2s 6ms/step - loss: 0.0117 - accuracy: 0.9229 - val_loss: 0.0169 - val_accuracy: 0.8866\n",
      "Epoch 18/100\n",
      "235/235 [==============================] - 2s 7ms/step - loss: 0.0114 - accuracy: 0.9250 - val_loss: 0.0163 - val_accuracy: 0.8896\n",
      "Epoch 19/100\n",
      "235/235 [==============================] - 2s 7ms/step - loss: 0.0111 - accuracy: 0.9277 - val_loss: 0.0163 - val_accuracy: 0.8918\n",
      "Epoch 20/100\n",
      "235/235 [==============================] - 2s 7ms/step - loss: 0.0108 - accuracy: 0.9291 - val_loss: 0.0178 - val_accuracy: 0.8814\n",
      "Epoch 21/100\n",
      "235/235 [==============================] - 2s 7ms/step - loss: 0.0105 - accuracy: 0.9318 - val_loss: 0.0171 - val_accuracy: 0.8841\n",
      "Epoch 22/100\n",
      "235/235 [==============================] - 2s 7ms/step - loss: 0.0102 - accuracy: 0.9346 - val_loss: 0.0160 - val_accuracy: 0.8943\n",
      "Epoch 23/100\n",
      "235/235 [==============================] - 2s 7ms/step - loss: 0.0101 - accuracy: 0.9341 - val_loss: 0.0158 - val_accuracy: 0.8951\n",
      "Epoch 24/100\n",
      "235/235 [==============================] - 2s 7ms/step - loss: 0.0098 - accuracy: 0.9376 - val_loss: 0.0164 - val_accuracy: 0.8918\n",
      "Epoch 25/100\n",
      "235/235 [==============================] - 2s 7ms/step - loss: 0.0096 - accuracy: 0.9380 - val_loss: 0.0177 - val_accuracy: 0.8850\n",
      "Epoch 26/100\n",
      "235/235 [==============================] - 2s 7ms/step - loss: 0.0095 - accuracy: 0.9391 - val_loss: 0.0159 - val_accuracy: 0.8930\n",
      "Epoch 27/100\n",
      "235/235 [==============================] - 2s 7ms/step - loss: 0.0090 - accuracy: 0.9423 - val_loss: 0.0159 - val_accuracy: 0.8957\n",
      "Epoch 28/100\n",
      "235/235 [==============================] - 2s 7ms/step - loss: 0.0089 - accuracy: 0.9432 - val_loss: 0.0168 - val_accuracy: 0.8874\n",
      "Epoch 29/100\n",
      "235/235 [==============================] - 2s 7ms/step - loss: 0.0087 - accuracy: 0.9445 - val_loss: 0.0168 - val_accuracy: 0.8910\n",
      "Epoch 30/100\n",
      "235/235 [==============================] - 2s 7ms/step - loss: 0.0086 - accuracy: 0.9455 - val_loss: 0.0159 - val_accuracy: 0.8941\n",
      "Epoch 31/100\n",
      "235/235 [==============================] - 2s 7ms/step - loss: 0.0084 - accuracy: 0.9460 - val_loss: 0.0160 - val_accuracy: 0.8960\n",
      "Epoch 32/100\n",
      "235/235 [==============================] - 2s 7ms/step - loss: 0.0078 - accuracy: 0.9507 - val_loss: 0.0165 - val_accuracy: 0.8921\n",
      "Epoch 33/100\n",
      "235/235 [==============================] - 2s 6ms/step - loss: 0.0079 - accuracy: 0.9501 - val_loss: 0.0175 - val_accuracy: 0.8862\n",
      "Epoch 34/100\n",
      "235/235 [==============================] - 2s 7ms/step - loss: 0.0078 - accuracy: 0.9502 - val_loss: 0.0160 - val_accuracy: 0.8963\n",
      "Epoch 35/100\n",
      "235/235 [==============================] - 2s 7ms/step - loss: 0.0075 - accuracy: 0.9532 - val_loss: 0.0160 - val_accuracy: 0.8961\n",
      "Epoch 36/100\n",
      "235/235 [==============================] - 2s 6ms/step - loss: 0.0075 - accuracy: 0.9530 - val_loss: 0.0164 - val_accuracy: 0.8949\n",
      "Epoch 37/100\n",
      "235/235 [==============================] - 2s 7ms/step - loss: 0.0073 - accuracy: 0.9550 - val_loss: 0.0161 - val_accuracy: 0.8951\n",
      "Epoch 38/100\n",
      "235/235 [==============================] - 2s 7ms/step - loss: 0.0071 - accuracy: 0.9561 - val_loss: 0.0165 - val_accuracy: 0.8925\n",
      "Epoch 39/100\n",
      "235/235 [==============================] - 2s 7ms/step - loss: 0.0070 - accuracy: 0.9563 - val_loss: 0.0162 - val_accuracy: 0.8943\n",
      "Epoch 40/100\n",
      "235/235 [==============================] - 2s 7ms/step - loss: 0.0067 - accuracy: 0.9575 - val_loss: 0.0160 - val_accuracy: 0.8968\n",
      "Epoch 41/100\n",
      "235/235 [==============================] - 2s 7ms/step - loss: 0.0066 - accuracy: 0.9595 - val_loss: 0.0163 - val_accuracy: 0.8965\n",
      "Epoch 42/100\n",
      "235/235 [==============================] - 2s 7ms/step - loss: 0.0066 - accuracy: 0.9589 - val_loss: 0.0168 - val_accuracy: 0.8918\n",
      "Epoch 43/100\n",
      "235/235 [==============================] - 2s 7ms/step - loss: 0.0064 - accuracy: 0.9599 - val_loss: 0.0161 - val_accuracy: 0.8962\n",
      "Epoch 44/100\n",
      "235/235 [==============================] - 2s 7ms/step - loss: 0.0063 - accuracy: 0.9615 - val_loss: 0.0161 - val_accuracy: 0.8949\n",
      "Epoch 45/100\n",
      "235/235 [==============================] - 2s 7ms/step - loss: 0.0062 - accuracy: 0.9621 - val_loss: 0.0165 - val_accuracy: 0.8938\n",
      "Epoch 46/100\n",
      "235/235 [==============================] - 2s 7ms/step - loss: 0.0060 - accuracy: 0.9638 - val_loss: 0.0176 - val_accuracy: 0.8888\n",
      "Epoch 47/100\n",
      "235/235 [==============================] - 2s 7ms/step - loss: 0.0060 - accuracy: 0.9631 - val_loss: 0.0165 - val_accuracy: 0.8925\n",
      "Epoch 48/100\n",
      "235/235 [==============================] - 2s 8ms/step - loss: 0.0058 - accuracy: 0.9646 - val_loss: 0.0162 - val_accuracy: 0.8972\n",
      "Epoch 49/100\n",
      "235/235 [==============================] - 2s 8ms/step - loss: 0.0057 - accuracy: 0.9653 - val_loss: 0.0171 - val_accuracy: 0.8903\n",
      "Epoch 50/100\n",
      "235/235 [==============================] - 2s 8ms/step - loss: 0.0056 - accuracy: 0.9654 - val_loss: 0.0167 - val_accuracy: 0.8935\n",
      "Epoch 51/100\n",
      "235/235 [==============================] - 2s 7ms/step - loss: 0.0053 - accuracy: 0.9678 - val_loss: 0.0165 - val_accuracy: 0.8977\n",
      "Epoch 52/100\n",
      "235/235 [==============================] - 2s 7ms/step - loss: 0.0051 - accuracy: 0.9689 - val_loss: 0.0163 - val_accuracy: 0.8957\n",
      "Epoch 53/100\n",
      "235/235 [==============================] - 2s 7ms/step - loss: 0.0052 - accuracy: 0.9680 - val_loss: 0.0168 - val_accuracy: 0.8934\n",
      "Epoch 54/100\n",
      "235/235 [==============================] - 2s 7ms/step - loss: 0.0052 - accuracy: 0.9687 - val_loss: 0.0166 - val_accuracy: 0.8951\n",
      "Epoch 55/100\n",
      "235/235 [==============================] - 2s 7ms/step - loss: 0.0053 - accuracy: 0.9671 - val_loss: 0.0166 - val_accuracy: 0.8965\n",
      "Epoch 56/100\n",
      "235/235 [==============================] - 2s 7ms/step - loss: 0.0052 - accuracy: 0.9684 - val_loss: 0.0176 - val_accuracy: 0.8895\n",
      "Epoch 57/100\n",
      "235/235 [==============================] - 2s 8ms/step - loss: 0.0050 - accuracy: 0.9699 - val_loss: 0.0169 - val_accuracy: 0.8950\n"
     ]
    },
    {
     "name": "stdout",
     "output_type": "stream",
     "text": [
      "Epoch 58/100\n",
      "235/235 [==============================] - 2s 7ms/step - loss: 0.0048 - accuracy: 0.9710 - val_loss: 0.0170 - val_accuracy: 0.8934\n",
      "Epoch 59/100\n",
      "235/235 [==============================] - 2s 7ms/step - loss: 0.0046 - accuracy: 0.9722 - val_loss: 0.0172 - val_accuracy: 0.8921\n",
      "Epoch 60/100\n",
      "235/235 [==============================] - 2s 7ms/step - loss: 0.0045 - accuracy: 0.9724 - val_loss: 0.0172 - val_accuracy: 0.8942\n",
      "Epoch 61/100\n",
      "235/235 [==============================] - 2s 7ms/step - loss: 0.0046 - accuracy: 0.9725 - val_loss: 0.0164 - val_accuracy: 0.8982\n",
      "Epoch 62/100\n",
      "235/235 [==============================] - 2s 6ms/step - loss: 0.0047 - accuracy: 0.9714 - val_loss: 0.0171 - val_accuracy: 0.8941\n",
      "Epoch 63/100\n",
      "235/235 [==============================] - 1s 6ms/step - loss: 0.0044 - accuracy: 0.9736 - val_loss: 0.0168 - val_accuracy: 0.8972\n",
      "Epoch 64/100\n",
      "235/235 [==============================] - 2s 6ms/step - loss: 0.0044 - accuracy: 0.9735 - val_loss: 0.0175 - val_accuracy: 0.8930\n",
      "Epoch 65/100\n",
      "235/235 [==============================] - 2s 6ms/step - loss: 0.0045 - accuracy: 0.9729 - val_loss: 0.0176 - val_accuracy: 0.8914\n",
      "Epoch 66/100\n",
      "235/235 [==============================] - 2s 7ms/step - loss: 0.0041 - accuracy: 0.9756 - val_loss: 0.0167 - val_accuracy: 0.8984\n",
      "Epoch 67/100\n",
      "235/235 [==============================] - 2s 8ms/step - loss: 0.0045 - accuracy: 0.9727 - val_loss: 0.0168 - val_accuracy: 0.8959\n",
      "Epoch 68/100\n",
      "235/235 [==============================] - 2s 7ms/step - loss: 0.0040 - accuracy: 0.9765 - val_loss: 0.0170 - val_accuracy: 0.8959\n",
      "Epoch 69/100\n",
      "235/235 [==============================] - 2s 7ms/step - loss: 0.0042 - accuracy: 0.9747 - val_loss: 0.0166 - val_accuracy: 0.8999\n",
      "Epoch 70/100\n",
      "235/235 [==============================] - 2s 7ms/step - loss: 0.0040 - accuracy: 0.9763 - val_loss: 0.0165 - val_accuracy: 0.8982\n",
      "Epoch 71/100\n",
      "235/235 [==============================] - 2s 7ms/step - loss: 0.0041 - accuracy: 0.9754 - val_loss: 0.0179 - val_accuracy: 0.8910\n",
      "Epoch 72/100\n",
      "235/235 [==============================] - 2s 7ms/step - loss: 0.0038 - accuracy: 0.9772 - val_loss: 0.0168 - val_accuracy: 0.8982\n",
      "Epoch 73/100\n",
      "235/235 [==============================] - 2s 7ms/step - loss: 0.0036 - accuracy: 0.9784 - val_loss: 0.0170 - val_accuracy: 0.8967\n",
      "Epoch 74/100\n",
      "235/235 [==============================] - 2s 7ms/step - loss: 0.0037 - accuracy: 0.9778 - val_loss: 0.0172 - val_accuracy: 0.8951\n",
      "Epoch 75/100\n",
      "235/235 [==============================] - 2s 7ms/step - loss: 0.0038 - accuracy: 0.9768 - val_loss: 0.0177 - val_accuracy: 0.8932\n",
      "Epoch 76/100\n",
      "235/235 [==============================] - 2s 7ms/step - loss: 0.0036 - accuracy: 0.9782 - val_loss: 0.0174 - val_accuracy: 0.8950\n",
      "Epoch 77/100\n",
      "235/235 [==============================] - 2s 8ms/step - loss: 0.0041 - accuracy: 0.9751 - val_loss: 0.0176 - val_accuracy: 0.8938\n",
      "Epoch 78/100\n",
      "235/235 [==============================] - 2s 7ms/step - loss: 0.0035 - accuracy: 0.9791 - val_loss: 0.0175 - val_accuracy: 0.8945\n",
      "Epoch 79/100\n",
      "235/235 [==============================] - 2s 7ms/step - loss: 0.0035 - accuracy: 0.9793 - val_loss: 0.0173 - val_accuracy: 0.8969\n",
      "Epoch 80/100\n",
      "235/235 [==============================] - 2s 7ms/step - loss: 0.0035 - accuracy: 0.9790 - val_loss: 0.0173 - val_accuracy: 0.8961\n",
      "Epoch 81/100\n",
      "235/235 [==============================] - 2s 7ms/step - loss: 0.0034 - accuracy: 0.9800 - val_loss: 0.0168 - val_accuracy: 0.8994\n",
      "Epoch 82/100\n",
      "235/235 [==============================] - 2s 7ms/step - loss: 0.0035 - accuracy: 0.9793 - val_loss: 0.0173 - val_accuracy: 0.8969\n",
      "Epoch 83/100\n",
      "235/235 [==============================] - 2s 6ms/step - loss: 0.0034 - accuracy: 0.9798 - val_loss: 0.0173 - val_accuracy: 0.8957\n",
      "Epoch 84/100\n",
      "235/235 [==============================] - 2s 7ms/step - loss: 0.0033 - accuracy: 0.9802 - val_loss: 0.0169 - val_accuracy: 0.8992\n",
      "Epoch 85/100\n",
      "235/235 [==============================] - 2s 7ms/step - loss: 0.0033 - accuracy: 0.9801 - val_loss: 0.0177 - val_accuracy: 0.8948\n",
      "Epoch 86/100\n",
      "235/235 [==============================] - 2s 8ms/step - loss: 0.0034 - accuracy: 0.9797 - val_loss: 0.0172 - val_accuracy: 0.8980\n",
      "Epoch 87/100\n",
      "235/235 [==============================] - 2s 7ms/step - loss: 0.0031 - accuracy: 0.9813 - val_loss: 0.0174 - val_accuracy: 0.8967\n",
      "Epoch 88/100\n",
      "235/235 [==============================] - 2s 7ms/step - loss: 0.0032 - accuracy: 0.9809 - val_loss: 0.0174 - val_accuracy: 0.8952\n",
      "Epoch 89/100\n",
      "235/235 [==============================] - 2s 7ms/step - loss: 0.0031 - accuracy: 0.9810 - val_loss: 0.0175 - val_accuracy: 0.8980\n",
      "Epoch 90/100\n",
      "235/235 [==============================] - 2s 7ms/step - loss: 0.0032 - accuracy: 0.9804 - val_loss: 0.0178 - val_accuracy: 0.8943\n",
      "Epoch 91/100\n",
      "235/235 [==============================] - 2s 7ms/step - loss: 0.0031 - accuracy: 0.9814 - val_loss: 0.0177 - val_accuracy: 0.8935\n",
      "Epoch 92/100\n",
      "235/235 [==============================] - 2s 6ms/step - loss: 0.0030 - accuracy: 0.9822 - val_loss: 0.0178 - val_accuracy: 0.8958\n",
      "Epoch 93/100\n",
      "235/235 [==============================] - 2s 7ms/step - loss: 0.0033 - accuracy: 0.9804 - val_loss: 0.0175 - val_accuracy: 0.8949\n",
      "Epoch 94/100\n",
      "235/235 [==============================] - 2s 7ms/step - loss: 0.0027 - accuracy: 0.9838 - val_loss: 0.0174 - val_accuracy: 0.8959\n",
      "Epoch 95/100\n",
      "235/235 [==============================] - 2s 7ms/step - loss: 0.0029 - accuracy: 0.9823 - val_loss: 0.0176 - val_accuracy: 0.8942\n",
      "Epoch 96/100\n",
      "235/235 [==============================] - 2s 8ms/step - loss: 0.0029 - accuracy: 0.9826 - val_loss: 0.0176 - val_accuracy: 0.8972\n",
      "Epoch 97/100\n",
      "235/235 [==============================] - 2s 7ms/step - loss: 0.0030 - accuracy: 0.9819 - val_loss: 0.0184 - val_accuracy: 0.8915\n",
      "Epoch 98/100\n",
      "235/235 [==============================] - 2s 7ms/step - loss: 0.0028 - accuracy: 0.9830 - val_loss: 0.0180 - val_accuracy: 0.8945\n",
      "Epoch 99/100\n",
      "235/235 [==============================] - 2s 7ms/step - loss: 0.0029 - accuracy: 0.9827 - val_loss: 0.0179 - val_accuracy: 0.8940\n",
      "Epoch 100/100\n",
      "235/235 [==============================] - 2s 7ms/step - loss: 0.0027 - accuracy: 0.9836 - val_loss: 0.0180 - val_accuracy: 0.8944\n"
     ]
    },
    {
     "data": {
      "text/plain": [
       "<keras.src.callbacks.History at 0x20638efb7f0>"
      ]
     },
     "execution_count": 151,
     "metadata": {},
     "output_type": "execute_result"
    }
   ],
   "source": [
    "model.fit(x_train, y_train, epochs=100, batch_size=256, validation_data=(x_test,y_test) )"
   ]
  },
  {
   "cell_type": "code",
   "execution_count": 154,
   "id": "bb1caafb",
   "metadata": {},
   "outputs": [
    {
     "name": "stdout",
     "output_type": "stream",
     "text": [
      "313/313 - 1s - loss: 0.0180 - accuracy: 0.8944 - 544ms/epoch - 2ms/step\n",
      "0.017965883016586304 0.8944000005722046\n"
     ]
    }
   ],
   "source": [
    "loss, accuracy = model.evaluate(x_test,y_test,verbose=2)\n",
    "print (loss,accuracy)"
   ]
  },
  {
   "cell_type": "code",
   "execution_count": 153,
   "id": "4e27c453",
   "metadata": {},
   "outputs": [
    {
     "name": "stdout",
     "output_type": "stream",
     "text": [
      "313/313 [==============================] - 1s 2ms/step\n"
     ]
    }
   ],
   "source": [
    "y_pred=model.predict(x_test)"
   ]
  },
  {
   "cell_type": "code",
   "execution_count": 95,
   "id": "b32b1785",
   "metadata": {},
   "outputs": [
    {
     "data": {
      "text/plain": [
       "array([1.02740705e-05, 5.38050301e-07, 1.24230337e-06, 2.01738862e-06,\n",
       "       2.65081940e-06, 4.35018956e-05, 1.24577957e-06, 7.20225798e-05,\n",
       "       1.75911446e-05, 9.99958992e-01], dtype=float32)"
      ]
     },
     "execution_count": 95,
     "metadata": {},
     "output_type": "execute_result"
    }
   ],
   "source": [
    "y_pred[0]"
   ]
  },
  {
   "cell_type": "code",
   "execution_count": null,
   "id": "4195f06d",
   "metadata": {},
   "outputs": [],
   "source": []
  },
  {
   "cell_type": "code",
   "execution_count": null,
   "id": "c2e2206d",
   "metadata": {},
   "outputs": [],
   "source": []
  },
  {
   "cell_type": "code",
   "execution_count": null,
   "id": "bcea7f6f",
   "metadata": {},
   "outputs": [],
   "source": []
  }
 ],
 "metadata": {
  "kernelspec": {
   "display_name": "Python 3 (ipykernel)",
   "language": "python",
   "name": "python3"
  },
  "language_info": {
   "codemirror_mode": {
    "name": "ipython",
    "version": 3
   },
   "file_extension": ".py",
   "mimetype": "text/x-python",
   "name": "python",
   "nbconvert_exporter": "python",
   "pygments_lexer": "ipython3",
   "version": "3.9.17"
  }
 },
 "nbformat": 4,
 "nbformat_minor": 5
}
