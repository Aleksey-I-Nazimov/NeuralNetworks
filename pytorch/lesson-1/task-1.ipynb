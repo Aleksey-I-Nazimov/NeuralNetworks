{
 "cells": [
  {
   "cell_type": "code",
   "execution_count": 6,
   "id": "3b6f0e0a-57cd-4014-93b4-9e8a8b7bb28f",
   "metadata": {},
   "outputs": [
    {
     "data": {
      "text/plain": [
       "array([0.66738987, 0.9777037 , 0.45395446, 0.5301901 , 0.03547311,\n",
       "       0.18578017, 0.8583889 , 0.36249352, 0.20142579, 0.13796115],\n",
       "      dtype=float32)"
      ]
     },
     "execution_count": 6,
     "metadata": {},
     "output_type": "execute_result"
    }
   ],
   "source": [
    "import torch as tc\n",
    "\n",
    "# 1 Making random tensor:-------------------\n",
    "tc.rand(5)\n",
    "tc.rand(10).numpy()"
   ]
  },
  {
   "cell_type": "code",
   "execution_count": 8,
   "id": "6382d3c2-1d0d-4fc4-bf7b-34819ea02ab4",
   "metadata": {},
   "outputs": [
    {
     "data": {
      "text/plain": [
       "(19,)"
      ]
     },
     "execution_count": 8,
     "metadata": {},
     "output_type": "execute_result"
    }
   ],
   "source": [
    "# 2 Shape of the tensor:--------------------\n",
    "tc.rand(19).shape\n",
    "tc.rand(19).numpy().shape"
   ]
  },
  {
   "cell_type": "code",
   "execution_count": 9,
   "id": "ae7142e1-9be3-47ca-aa93-c54d68db3954",
   "metadata": {},
   "outputs": [
    {
     "data": {
      "text/plain": [
       "tensor([[0.7004, 0.7959, 0.9531, 0.4753, 0.6075, 0.4575, 0.3031, 0.8824, 0.5021,\n",
       "         0.6939],\n",
       "        [0.9010, 0.8240, 0.6793, 0.6363, 0.8306, 0.1943, 0.3076, 0.1357, 0.2766,\n",
       "         0.1707],\n",
       "        [0.9325, 0.1258, 0.8545, 0.3613, 0.9838, 0.7362, 0.7177, 0.1931, 0.5414,\n",
       "         0.0734],\n",
       "        [0.4442, 0.6884, 0.5868, 0.6348, 0.5869, 0.9787, 0.9085, 0.2643, 0.5659,\n",
       "         0.0423],\n",
       "        [0.2794, 0.4368, 0.5770, 0.8729, 0.3854, 0.3341, 0.0457, 0.3998, 0.0692,\n",
       "         0.2551],\n",
       "        [0.2365, 0.7020, 0.6406, 0.4629, 0.3890, 0.1275, 0.0104, 0.9198, 0.6587,\n",
       "         0.8836]])"
      ]
     },
     "execution_count": 9,
     "metadata": {},
     "output_type": "execute_result"
    }
   ],
   "source": [
    "# 3 Reshaping 6x10:-------------------------\n",
    "tc.rand(60).reshape((6,10))"
   ]
  },
  {
   "cell_type": "code",
   "execution_count": 15,
   "id": "085fdbe2-8633-4fa2-89de-586fd40f2f74",
   "metadata": {},
   "outputs": [
    {
     "data": {
      "text/plain": [
       "tensor([2])"
      ]
     },
     "execution_count": 15,
     "metadata": {},
     "output_type": "execute_result"
    }
   ],
   "source": [
    "# 4 Making the integer random tensor of size = 10\n",
    "tc.randint(10, size=(10,4,3))\n",
    "tc.randint(10, size=(1,))"
   ]
  },
  {
   "cell_type": "code",
   "execution_count": 17,
   "id": "01f1baa5-8c1f-40e8-aa4f-ef8d2dcc9b29",
   "metadata": {},
   "outputs": [
    {
     "name": "stdout",
     "output_type": "stream",
     "text": [
      "tensor([[0.7445, 0.0933, 0.1087, 0.6215, 0.5904, 0.8370, 0.1863, 0.9411, 0.0631,\n",
      "         0.4011],\n",
      "        [0.3699, 0.6541, 0.5289, 0.3324, 0.0602, 0.4340, 0.6898, 0.3352, 0.8420,\n",
      "         0.5257],\n",
      "        [0.4075, 0.9910, 0.4540, 0.1868, 0.0143, 0.8039, 0.1071, 0.8299, 0.2793,\n",
      "         0.5003],\n",
      "        [0.3267, 0.6043, 0.5183, 0.0903, 0.8360, 0.2240, 0.6105, 0.3607, 0.3120,\n",
      "         0.7878],\n",
      "        [0.3302, 0.2988, 0.0546, 0.4497, 0.2168, 0.1869, 0.3965, 0.4669, 0.2590,\n",
      "         0.0493],\n",
      "        [0.7808, 0.8077, 0.2409, 0.5226, 0.2464, 0.3789, 0.3613, 0.6669, 0.9281,\n",
      "         0.9861]]) tensor([0, 6, 6, 8, 0, 1, 4, 4, 8, 2])\n"
     ]
    }
   ],
   "source": [
    "tn_6_10=tc.rand(60).reshape((6,10))\n",
    "tn_10=tc.randint(10, size=(10,))\n",
    "print(tn_6_10,tn_10)"
   ]
  },
  {
   "cell_type": "code",
   "execution_count": 18,
   "id": "fe1bca06-68ed-44df-b1d8-3213adddcdff",
   "metadata": {},
   "outputs": [
    {
     "data": {
      "text/plain": [
       "tensor([[0.0000, 0.5597, 0.6523, 4.9718, 0.0000, 0.8370, 0.7452, 3.7645, 0.5049,\n",
       "         0.8023],\n",
       "        [0.0000, 3.9248, 3.1733, 2.6595, 0.0000, 0.4340, 2.7592, 1.3410, 6.7362,\n",
       "         1.0514],\n",
       "        [0.0000, 5.9457, 2.7242, 1.4945, 0.0000, 0.8039, 0.4284, 3.3195, 2.2341,\n",
       "         1.0006],\n",
       "        [0.0000, 3.6257, 3.1095, 0.7222, 0.0000, 0.2240, 2.4420, 1.4427, 2.4959,\n",
       "         1.5757],\n",
       "        [0.0000, 1.7930, 0.3276, 3.5975, 0.0000, 0.1869, 1.5860, 1.8677, 2.0720,\n",
       "         0.0985],\n",
       "        [0.0000, 4.8462, 1.4451, 4.1807, 0.0000, 0.3789, 1.4451, 2.6675, 7.4244,\n",
       "         1.9722]])"
      ]
     },
     "execution_count": 18,
     "metadata": {},
     "output_type": "execute_result"
    }
   ],
   "source": [
    "# 5 Element multiplication:------------\n",
    "tn_6_10*tn_10"
   ]
  },
  {
   "cell_type": "code",
   "execution_count": 23,
   "id": "61a10959-43d5-4d48-a859-c88654d9de99",
   "metadata": {},
   "outputs": [
    {
     "data": {
      "text/plain": [
       "tensor([12.8378, 22.0792, 17.9509, 15.6376, 11.5292, 24.3602])"
      ]
     },
     "execution_count": 23,
     "metadata": {},
     "output_type": "execute_result"
    }
   ],
   "source": [
    "# 6 Matrix multiplication:--------------\n",
    "tn_6_10@(tn_10.float())\n",
    "tn_6_10.matmul(tn_10.float())"
   ]
  },
  {
   "cell_type": "code",
   "execution_count": 25,
   "id": "de2d367c-1b29-4b9b-b6bb-7942af320d46",
   "metadata": {},
   "outputs": [
    {
     "name": "stdout",
     "output_type": "stream",
     "text": [
      "tensor([12.]) tensor([1.]) tensor([-75.])\n"
     ]
    }
   ],
   "source": [
    "# 7 calculating diff from:--------------\n",
    "\n",
    "x = torch.tensor([2.], requires_grad=True)\n",
    "z = torch.tensor([0.5], requires_grad=True)\n",
    "t = torch.tensor([2.], requires_grad=True)\n",
    "\n",
    "y = x**3 + z - 75*t\n",
    "y.backward()\n",
    "print (x.grad,z.grad,t.grad)"
   ]
  },
  {
   "cell_type": "code",
   "execution_count": 27,
   "id": "e1db588e-e209-4a80-a56f-9c179dc188b6",
   "metadata": {},
   "outputs": [
    {
     "data": {
      "text/plain": [
       "array([[1., 1., 1., 1., 1., 1.],\n",
       "       [1., 1., 1., 1., 1., 1.],\n",
       "       [1., 1., 1., 1., 1., 1.],\n",
       "       [1., 1., 1., 1., 1., 1.],\n",
       "       [1., 1., 1., 1., 1., 1.]], dtype=float32)"
      ]
     },
     "execution_count": 27,
     "metadata": {},
     "output_type": "execute_result"
    }
   ],
   "source": [
    "# 8-9 numerical vector:-----------------\n",
    "x = tc.ones((5,6))\n",
    "x.numpy()"
   ]
  },
  {
   "cell_type": "code",
   "execution_count": null,
   "id": "60918a31-f6f3-44e6-ad0c-be4c368e40ed",
   "metadata": {},
   "outputs": [],
   "source": []
  },
  {
   "cell_type": "code",
   "execution_count": null,
   "id": "d25e3f02-f8df-472e-99d7-c37b7b195908",
   "metadata": {},
   "outputs": [],
   "source": []
  },
  {
   "cell_type": "code",
   "execution_count": null,
   "id": "8c946cbf-8958-460f-a2b0-9e97cccf0a20",
   "metadata": {},
   "outputs": [],
   "source": []
  },
  {
   "cell_type": "code",
   "execution_count": null,
   "id": "beaab1f3-697d-4c02-9a49-27f6978757ea",
   "metadata": {},
   "outputs": [],
   "source": []
  },
  {
   "cell_type": "code",
   "execution_count": null,
   "id": "addf88b8-dc40-43ad-98a9-830597d5ad6d",
   "metadata": {},
   "outputs": [],
   "source": []
  },
  {
   "cell_type": "code",
   "execution_count": null,
   "id": "76e2990d-0ae9-4593-b8af-0d38b182566e",
   "metadata": {},
   "outputs": [],
   "source": []
  },
  {
   "cell_type": "code",
   "execution_count": null,
   "id": "5ef4d7f1-32ac-4ae1-9300-b56e81bd5568",
   "metadata": {},
   "outputs": [],
   "source": []
  },
  {
   "cell_type": "code",
   "execution_count": null,
   "id": "cd86ff82-8246-4a88-a9c9-46ab03c8232c",
   "metadata": {},
   "outputs": [],
   "source": []
  },
  {
   "cell_type": "code",
   "execution_count": null,
   "id": "227baa1a-d7c1-4c19-9e98-74cfccb83619",
   "metadata": {},
   "outputs": [],
   "source": []
  },
  {
   "cell_type": "code",
   "execution_count": null,
   "id": "f6c32390-6da2-4e6f-b953-cf4f738b8cfd",
   "metadata": {},
   "outputs": [],
   "source": []
  },
  {
   "cell_type": "code",
   "execution_count": null,
   "id": "f0dfdd6f-f97e-4a2f-b54b-86d84f3bf976",
   "metadata": {},
   "outputs": [],
   "source": []
  },
  {
   "cell_type": "code",
   "execution_count": null,
   "id": "f2a0f1fa-1446-45f3-9f34-cc6126970727",
   "metadata": {},
   "outputs": [],
   "source": []
  }
 ],
 "metadata": {
  "kernelspec": {
   "display_name": "Python 3 (ipykernel)",
   "language": "python",
   "name": "python3"
  },
  "language_info": {
   "codemirror_mode": {
    "name": "ipython",
    "version": 3
   },
   "file_extension": ".py",
   "mimetype": "text/x-python",
   "name": "python",
   "nbconvert_exporter": "python",
   "pygments_lexer": "ipython3",
   "version": "3.11.2"
  }
 },
 "nbformat": 4,
 "nbformat_minor": 5
}
