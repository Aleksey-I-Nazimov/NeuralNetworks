{
 "cells": [
  {
   "cell_type": "markdown",
   "metadata": {
    "id": "V8FsvOED8UlF"
   },
   "source": [
    "# Нейросети в обработке текста\n",
    "\n",
    "Нейросети могут выделить сложные паттерны — взаимоотношения в данных. Для текстов, паттерны проявляются, как именно слова употребляются вместе, как построены фразы. Другими словами, нейросети нужны для того, чтобы представить контекст в виде математического объекта — вектора или матрицы. \n",
    "\n",
    "### Основные блоки\n",
    "\n",
    "1. **Свёрточные блоки** \n",
    "  * Для текстов используются одномерные свёртки.\n",
    "  * Хорошо подходят для нахождения в данных локальных паттернов.\n",
    "  * Эффективно распараллеливаются на видеокартах \n",
    "  * Достаточно быстрые и простые \n",
    "  * Хорошо учатся \n",
    "  * Недостаточно гибкие и мощные, для широких паттернов — например, сравнивать первое слово в предложении и последнее, игнорируя при этом слова между ними. А также, чтобы увеличить максимальную длину паттерна, нужно существенно увеличить количество параметров свёрточной сети.\n",
    "\n",
    "2. **Рекуррентные блоки**\n",
    "  * Последовательно токен за токеном\n",
    "  * Информация обо всём предложении\n",
    "  * В результате могут учитываться достаточно длинные зависимости. \n",
    "  * Учить гораздо сложнее.\n",
    "\n",
    "3. **Блоки пулинга**\n",
    "  * убирает мелкие детали и оставляет только значимые. \n",
    "  * соседние элементы матриц усредняются или заменяются на один — например, максимальный.\n",
    "\n",
    "4. **Блоки внимания**\n",
    "  * По сути, механизм внимания осуществляет попарное сравнение элементов двух последовательностей, и позволяет выбрать только наиболее значимые их элементы, чтобы продолжить работу только с ними, а всё остальное убрать. \n",
    "  * Сети \"с вниманием\", как правило, хорошо учатся. "
   ]
  },
  {
   "cell_type": "markdown",
   "metadata": {
    "id": "nQglPQH2Rncq"
   },
   "source": [
    "### Общее описание сверток\n",
    "\n",
    "\n",
    "Работают они примерно так:  \n",
    "<img src='https://drive.google.com/uc?export=view&id=1edbW-Y4y61tSaPIfN7YGGx5eHCxc4p1o'>\n",
    "\n",
    "From [Feature extraction using convolution](http://deeplearning.stanford.edu/wiki/index.php/Feature_extraction_using_convolution).\n",
    "\n",
    "Формально - учатся наборы фильтров, каждый из которых скалярно умножается на элементы матрицы признаков. На картинке выше исходная матрица сворачивается с фильтром\n",
    "$$\n",
    " \\begin{pmatrix}\n",
    "  1 & 0 & 1 \\\\\n",
    "  0 & 1 & 0 \\\\\n",
    "  1 & 0 & 1\n",
    " \\end{pmatrix}\n",
    "$$\n",
    "\n",
    "Но нужно не забывать, что свертки обычно имеют ещё такую размерность, как число каналов. Например, картинки имеют обычно три канала: RGB.  \n",
    "Наглядно демонстрируется как выглядят при этом фильтры [здесь](http://cs231n.github.io/convolutional-networks/#conv).\n",
    "\n",
    "После сверток обычно следуют pooling-слои. Они помогают уменьшить размерность тензора, с которым приходится работать. Самым частым является max-pooling:  \n",
    "\n",
    "<img src='https://drive.google.com/uc?export=view&id=10TwIuQzfB52xBRkEhDSoIRctsXpyytoX'>\n",
    "\n",
    "From [CS231n Convolutional Neural Networks for Visual Recognition](http://cs231n.github.io/convolutional-networks/#pool)"
   ]
  },
  {
   "cell_type": "markdown",
   "metadata": {
    "id": "hdPE2FBHSXZt"
   },
   "source": [
    "### Свёртки для текстов\n",
    "\n",
    "Каноничный пример одномерной свертки:\n",
    "\n",
    "<img src='https://drive.google.com/uc?export=view&id=1H_G0v7H_bzpAXcWNV1b6rsSwnOFX1XDy'>\n",
    "\n",
    "\n",
    "Как использовать **одномерную свертку при работе с текстами**:\n",
    "\n",
    "(Текст закодирован через частотное кодирование)\n",
    "\n",
    "<img src='https://drive.google.com/uc?export=view&id=1DzYTxl4eiNWHUMskM-MUjvbKrTbArqV1'>\n",
    "\n",
    "Затем окно свертки сдвигается на один элемент вправо и всё повторяется по новой.\n",
    "\n"
   ]
  },
  {
   "cell_type": "code",
   "execution_count": 1,
   "metadata": {
    "colab": {
     "base_uri": "https://localhost:8080/"
    },
    "executionInfo": {
     "elapsed": 2149,
     "status": "ok",
     "timestamp": 1657301093695,
     "user": {
      "displayName": "Mariia Korliakova",
      "userId": "14165537686129864864"
     },
     "user_tz": -180
    },
    "id": "nSIsH59K9cLD",
    "outputId": "17437f75-ae8a-44c3-8024-dc65b064679b"
   },
   "outputs": [
    {
     "data": {
      "text/plain": [
       "(Parameter containing:\n",
       " tensor([[[0.2000, 0.2000, 0.2000, 0.2000, 0.2000]]], requires_grad=True),\n",
       " None)"
      ]
     },
     "execution_count": 1,
     "metadata": {},
     "output_type": "execute_result"
    }
   ],
   "source": [
    "import torch\n",
    "\n",
    "conv_1 = torch.nn.Conv1d( 1, 1, kernel_size=5, bias=False)\n",
    "conv_1.weight = torch.nn.Parameter(torch.FloatTensor([[[0.2, 0.2, 0.2, 0.2, 0.2]]]))\n",
    "\n",
    "conv_1.weight, conv_1.bias"
   ]
  },
  {
   "cell_type": "code",
   "execution_count": 2,
   "metadata": {
    "colab": {
     "base_uri": "https://localhost:8080/"
    },
    "executionInfo": {
     "elapsed": 236,
     "status": "ok",
     "timestamp": 1657301236418,
     "user": {
      "displayName": "Mariia Korliakova",
      "userId": "14165537686129864864"
     },
     "user_tz": -180
    },
    "id": "Bpm4BZ6E-BPn",
    "outputId": "4ab6b021-ddb7-4ebd-d3dc-241432f7e2a9"
   },
   "outputs": [
    {
     "data": {
      "text/plain": [
       "tensor([[[411.2000, 425.2000]]], grad_fn=<ConvolutionBackward0>)"
      ]
     },
     "execution_count": 2,
     "metadata": {},
     "output_type": "execute_result"
    }
   ],
   "source": [
    "tens = torch.FloatTensor([[93, 1655, 16, 288, 4, 163]])\n",
    "conv_1(tens[None])"
   ]
  },
  {
   "cell_type": "code",
   "execution_count": 3,
   "metadata": {
    "colab": {
     "base_uri": "https://localhost:8080/"
    },
    "executionInfo": {
     "elapsed": 255,
     "status": "ok",
     "timestamp": 1657301311708,
     "user": {
      "displayName": "Mariia Korliakova",
      "userId": "14165537686129864864"
     },
     "user_tz": -180
    },
    "id": "BiE9e9HC2p36",
    "outputId": "78647ec8-7200-48c6-befc-fdba7ae18c3a"
   },
   "outputs": [
    {
     "data": {
      "text/plain": [
       "torch.Size([1, 6])"
      ]
     },
     "execution_count": 3,
     "metadata": {},
     "output_type": "execute_result"
    }
   ],
   "source": [
    "tens.shape"
   ]
  },
  {
   "cell_type": "markdown",
   "metadata": {
    "id": "gcfOSDrve4LU"
   },
   "source": [
    "Чуть сложнее, когда слова представлены не через частотное кодирование, а через **эмбеддинги** (векторное представление):\n",
    "\n",
    "Возьмем эмбеддинг размерности два для примера. \n",
    "\n",
    "В этом случае окно свертки остается таким же - равным 5, а вот размерность ядра свертки увеличивается: по одной размерности сохраняется размер окна, а по второй размерности элементов становится столько, сколько элементов в размерности эмбеддинга, то есть два.\n",
    "\n",
    "<img src='https://drive.google.com/uc?id=1iuu_oMkSVlM93msmB3RcUv1_u8B2_qT3'>"
   ]
  },
  {
   "cell_type": "code",
   "execution_count": 4,
   "metadata": {
    "colab": {
     "base_uri": "https://localhost:8080/"
    },
    "executionInfo": {
     "elapsed": 263,
     "status": "ok",
     "timestamp": 1657301934983,
     "user": {
      "displayName": "Mariia Korliakova",
      "userId": "14165537686129864864"
     },
     "user_tz": -180
    },
    "id": "go3riF-s_kRv",
    "outputId": "b5265572-53c9-443b-f07d-7004ca480713"
   },
   "outputs": [
    {
     "data": {
      "text/plain": [
       "(Parameter containing:\n",
       " tensor([[[0.1000, 0.1000, 0.1000, 0.1000, 0.1000],\n",
       "          [0.1000, 0.1000, 0.1000, 0.1000, 0.1000]]], requires_grad=True),\n",
       " None)"
      ]
     },
     "execution_count": 4,
     "metadata": {},
     "output_type": "execute_result"
    }
   ],
   "source": [
    "import torch\n",
    "\n",
    "conv_1 = torch.nn.Conv1d(1, 2, kernel_size=5, bias=False)\n",
    "conv_1.weight = torch.nn.Parameter(torch.FloatTensor([[\n",
    "                                    [0.1, 0.1, 0.1, 0.1, 0.1],\n",
    "                                    [0.1, 0.1, 0.1, 0.1, 0.1]\n",
    "]]))\n",
    "\n",
    "conv_1.weight, conv_1.bias"
   ]
  },
  {
   "cell_type": "code",
   "execution_count": 5,
   "metadata": {
    "colab": {
     "base_uri": "https://localhost:8080/"
    },
    "executionInfo": {
     "elapsed": 235,
     "status": "ok",
     "timestamp": 1657302016118,
     "user": {
      "displayName": "Mariia Korliakova",
      "userId": "14165537686129864864"
     },
     "user_tz": -180
    },
    "id": "bZHmaArv_kSK",
    "outputId": "45f31495-7e67-4ac5-b6af-38a3e7ca8a59"
   },
   "outputs": [
    {
     "data": {
      "text/plain": [
       "tensor([[0.0090]], grad_fn=<SqueezeBackward1>)"
      ]
     },
     "execution_count": 5,
     "metadata": {},
     "output_type": "execute_result"
    }
   ],
   "source": [
    "tens = torch.FloatTensor([[0.13, -0.11], [0.24, -0.19], [-0.01, -0.05], [0.07, -0.01], [0.01, 0.01]]).permute(1, 0)\n",
    "conv_1(tens)\n",
    "# bs, w, h"
   ]
  },
  {
   "cell_type": "code",
   "execution_count": 6,
   "metadata": {
    "colab": {
     "base_uri": "https://localhost:8080/"
    },
    "executionInfo": {
     "elapsed": 244,
     "status": "ok",
     "timestamp": 1657302017467,
     "user": {
      "displayName": "Mariia Korliakova",
      "userId": "14165537686129864864"
     },
     "user_tz": -180
    },
    "id": "rscaJI4z-A_3",
    "outputId": "888cfba5-730a-47d8-d169-75cc865358a5"
   },
   "outputs": [
    {
     "data": {
      "text/plain": [
       "torch.Size([2, 5])"
      ]
     },
     "execution_count": 6,
     "metadata": {},
     "output_type": "execute_result"
    }
   ],
   "source": [
    "tens.shape"
   ]
  },
  {
   "cell_type": "markdown",
   "metadata": {
    "id": "i3Cy0hrd0215"
   },
   "source": [
    "Эмбединг:"
   ]
  },
  {
   "cell_type": "code",
   "execution_count": 7,
   "metadata": {
    "colab": {
     "base_uri": "https://localhost:8080/"
    },
    "executionInfo": {
     "elapsed": 221,
     "status": "ok",
     "timestamp": 1657302096677,
     "user": {
      "displayName": "Mariia Korliakova",
      "userId": "14165537686129864864"
     },
     "user_tz": -180
    },
    "id": "ArBSd52Uzi-4",
    "outputId": "d5270d05-9cd1-4def-c6a7-d0b12b42b824"
   },
   "outputs": [
    {
     "name": "stdout",
     "output_type": "stream",
     "text": [
      "tensor([[ 41,  52,  85, 132,  96,  34, 132,  16,   6, 110],\n",
      "        [ 47,  61,   3,  88,   6,  58,  18, 176,  96,  77]])\n"
     ]
    },
    {
     "data": {
      "text/plain": [
       "torch.Size([2, 10, 16])"
      ]
     },
     "execution_count": 7,
     "metadata": {},
     "output_type": "execute_result"
    }
   ],
   "source": [
    "tens = torch.randint( 0,200,(2,10))\n",
    "print(tens)\n",
    "emb_1 = torch.nn.Embedding(200, 16)\n",
    "\n",
    "x = emb_1(tens)\n",
    "x.shape"
   ]
  },
  {
   "cell_type": "markdown",
   "metadata": {
    "id": "dzBO64HehEim"
   },
   "source": [
    "И еще при работе с одномерной сверткой могу использоваться слои подвыборки, как и в CNN для картинок, чаще используется операция взятия максимума из двух элементов.\n",
    "\n",
    "<img src='https://drive.google.com/uc?export=view&id=1TKx1C-Tk1yN5xMBDQ1L_iLbRg5Rgjwan'>\n",
    "\n",
    "В сетях таких блоков может быть несколько.\n"
   ]
  },
  {
   "cell_type": "markdown",
   "metadata": {
    "id": "l7nStS2UgDqm"
   },
   "source": [
    "**Как теперь подбирать значения в ядре свертки?**\n",
    "\n",
    "Для картинок мы могли вручную подобрать значения для нахожения границ объектов, для размытия, для увеличения четкости и т.д.\n",
    "\n",
    "Для текстов так не получится, как собственно и не получается подобрать вручную фильтры для более сложных операций с картинками.\n",
    "\n"
   ]
  },
  {
   "cell_type": "markdown",
   "metadata": {
    "id": "9eHK0K1Lw6nb"
   },
   "source": [
    "## Задача (Sentiment Analysis)\n",
    "\n",
    "Собраны твиты 2-ух тональностей, необходимо произвести классификацию на 2-а класса."
   ]
  },
  {
   "cell_type": "code",
   "execution_count": 8,
   "metadata": {
    "executionInfo": {
     "elapsed": 239,
     "status": "ok",
     "timestamp": 1657302419415,
     "user": {
      "displayName": "Mariia Korliakova",
      "userId": "14165537686129864864"
     },
     "user_tz": -180
    },
    "id": "2H5tFUEMCE7d"
   },
   "outputs": [],
   "source": [
    "max_words = 2000\n",
    "max_len = 20\n",
    "num_classes = 1\n",
    "\n",
    "# Training\n",
    "epochs = 5\n",
    "batch_size = 512\n",
    "print_batch_n = 100"
   ]
  },
  {
   "cell_type": "markdown",
   "metadata": {
    "id": "XzAye9tJRPaH"
   },
   "source": [
    "Ссылка на google drive: https://docs.google.com/spreadsheets/d/1yBeCq1mw9BHMdmxMlPEIUI0S235Q-evm/edit?usp=sharing&ouid=109954320369852068736&rtpof=true&sd=true"
   ]
  },
  {
   "cell_type": "code",
   "execution_count": 9,
   "metadata": {
    "colab": {
     "base_uri": "https://localhost:8080/"
    },
    "executionInfo": {
     "elapsed": 20892,
     "status": "ok",
     "timestamp": 1657302708985,
     "user": {
      "displayName": "Mariia Korliakova",
      "userId": "14165537686129864864"
     },
     "user_tz": -180
    },
    "id": "2GEcEDVgl0Zw",
    "outputId": "9ed81a73-25ac-45be-a22f-e18970b8d94b"
   },
   "outputs": [],
   "source": [
    "# from google.colab import drive\n",
    "# drive.mount('/gdrive')\n"
   ]
  },
  {
   "cell_type": "code",
   "execution_count": 10,
   "metadata": {
    "executionInfo": {
     "elapsed": 238,
     "status": "ok",
     "timestamp": 1657302712692,
     "user": {
      "displayName": "Mariia Korliakova",
      "userId": "14165537686129864864"
     },
     "user_tz": -180
    },
    "id": "6s8T50cVl47n"
   },
   "outputs": [],
   "source": [
    "#path = '/gdrive/MyDrive/geekbrain/PyTorch/web6/'\n",
    "path = ''"
   ]
  },
  {
   "cell_type": "code",
   "execution_count": 11,
   "metadata": {
    "executionInfo": {
     "elapsed": 2125,
     "status": "ok",
     "timestamp": 1657302744307,
     "user": {
      "displayName": "Mariia Korliakova",
      "userId": "14165537686129864864"
     },
     "user_tz": -180
    },
    "id": "LUCk-5M2yg3S"
   },
   "outputs": [],
   "source": [
    "import pandas as pd\n",
    "\n",
    "df_train = pd.read_csv(path+\"data/train.csv\")\n",
    "df_val = pd.read_csv(path+\"data/val.csv\")"
   ]
  },
  {
   "cell_type": "code",
   "execution_count": 12,
   "metadata": {
    "colab": {
     "base_uri": "https://localhost:8080/",
     "height": 206
    },
    "executionInfo": {
     "elapsed": 265,
     "status": "ok",
     "timestamp": 1657302746562,
     "user": {
      "displayName": "Mariia Korliakova",
      "userId": "14165537686129864864"
     },
     "user_tz": -180
    },
    "id": "KBSf-OfDzWOI",
    "outputId": "a9550221-9913-4014-e106-1617d4f731db"
   },
   "outputs": [
    {
     "data": {
      "text/html": [
       "<div>\n",
       "<style scoped>\n",
       "    .dataframe tbody tr th:only-of-type {\n",
       "        vertical-align: middle;\n",
       "    }\n",
       "\n",
       "    .dataframe tbody tr th {\n",
       "        vertical-align: top;\n",
       "    }\n",
       "\n",
       "    .dataframe thead th {\n",
       "        text-align: right;\n",
       "    }\n",
       "</style>\n",
       "<table border=\"1\" class=\"dataframe\">\n",
       "  <thead>\n",
       "    <tr style=\"text-align: right;\">\n",
       "      <th></th>\n",
       "      <th>id</th>\n",
       "      <th>text</th>\n",
       "      <th>class</th>\n",
       "    </tr>\n",
       "  </thead>\n",
       "  <tbody>\n",
       "    <tr>\n",
       "      <th>0</th>\n",
       "      <td>0</td>\n",
       "      <td>@alisachachka не уезжаааааааай. :(❤ я тоже не ...</td>\n",
       "      <td>0</td>\n",
       "    </tr>\n",
       "    <tr>\n",
       "      <th>1</th>\n",
       "      <td>1</td>\n",
       "      <td>RT @GalyginVadim: Ребята и девчата!\\nВсе в кин...</td>\n",
       "      <td>1</td>\n",
       "    </tr>\n",
       "    <tr>\n",
       "      <th>2</th>\n",
       "      <td>2</td>\n",
       "      <td>RT @ARTEM_KLYUSHIN: Кто ненавидит пробки ретви...</td>\n",
       "      <td>0</td>\n",
       "    </tr>\n",
       "    <tr>\n",
       "      <th>3</th>\n",
       "      <td>3</td>\n",
       "      <td>RT @epupybobv: Хочется котлету по-киевски. Зап...</td>\n",
       "      <td>1</td>\n",
       "    </tr>\n",
       "    <tr>\n",
       "      <th>4</th>\n",
       "      <td>4</td>\n",
       "      <td>@KarineKurganova @Yess__Boss босапопа есбоса н...</td>\n",
       "      <td>1</td>\n",
       "    </tr>\n",
       "  </tbody>\n",
       "</table>\n",
       "</div>"
      ],
      "text/plain": [
       "   id                                               text  class\n",
       "0   0  @alisachachka не уезжаааааааай. :(❤ я тоже не ...      0\n",
       "1   1  RT @GalyginVadim: Ребята и девчата!\\nВсе в кин...      1\n",
       "2   2  RT @ARTEM_KLYUSHIN: Кто ненавидит пробки ретви...      0\n",
       "3   3  RT @epupybobv: Хочется котлету по-киевски. Зап...      1\n",
       "4   4  @KarineKurganova @Yess__Boss босапопа есбоса н...      1"
      ]
     },
     "execution_count": 12,
     "metadata": {},
     "output_type": "execute_result"
    }
   ],
   "source": [
    "df_train.head()"
   ]
  },
  {
   "cell_type": "markdown",
   "metadata": {
    "id": "CRaO-Ub5e8hx"
   },
   "source": [
    "0 - negative<br>\n",
    "1 - positive"
   ]
  },
  {
   "cell_type": "code",
   "execution_count": 13,
   "metadata": {
    "colab": {
     "base_uri": "https://localhost:8080/"
    },
    "executionInfo": {
     "elapsed": 274,
     "status": "ok",
     "timestamp": 1657302829468,
     "user": {
      "displayName": "Mariia Korliakova",
      "userId": "14165537686129864864"
     },
     "user_tz": -180
    },
    "id": "8lYmshAoT57x",
    "outputId": "b18c3b1a-2f50-4ea8-cddf-d826c0f05b95"
   },
   "outputs": [
    {
     "data": {
      "text/plain": [
       "1    92063\n",
       "0    89404\n",
       "Name: class, dtype: int64"
      ]
     },
     "execution_count": 13,
     "metadata": {},
     "output_type": "execute_result"
    }
   ],
   "source": [
    "df_train['class'].value_counts()"
   ]
  },
  {
   "cell_type": "code",
   "execution_count": 14,
   "metadata": {
    "colab": {
     "base_uri": "https://localhost:8080/",
     "height": 206
    },
    "executionInfo": {
     "elapsed": 236,
     "status": "ok",
     "timestamp": 1657302840887,
     "user": {
      "displayName": "Mariia Korliakova",
      "userId": "14165537686129864864"
     },
     "user_tz": -180
    },
    "id": "_9l0iHhaI0O1",
    "outputId": "f7f9056f-604f-4e4c-d33b-69cd35b15277"
   },
   "outputs": [
    {
     "data": {
      "text/html": [
       "<div>\n",
       "<style scoped>\n",
       "    .dataframe tbody tr th:only-of-type {\n",
       "        vertical-align: middle;\n",
       "    }\n",
       "\n",
       "    .dataframe tbody tr th {\n",
       "        vertical-align: top;\n",
       "    }\n",
       "\n",
       "    .dataframe thead th {\n",
       "        text-align: right;\n",
       "    }\n",
       "</style>\n",
       "<table border=\"1\" class=\"dataframe\">\n",
       "  <thead>\n",
       "    <tr style=\"text-align: right;\">\n",
       "      <th></th>\n",
       "      <th>id</th>\n",
       "      <th>text</th>\n",
       "      <th>class</th>\n",
       "    </tr>\n",
       "  </thead>\n",
       "  <tbody>\n",
       "    <tr>\n",
       "      <th>22678</th>\n",
       "      <td>204145</td>\n",
       "      <td>А я знаю из-за кого такая паршивая погода была...</td>\n",
       "      <td>1</td>\n",
       "    </tr>\n",
       "    <tr>\n",
       "      <th>22679</th>\n",
       "      <td>204146</td>\n",
       "      <td>ааа.... что с Гмейлом. не ужто он умер сегодня...</td>\n",
       "      <td>0</td>\n",
       "    </tr>\n",
       "    <tr>\n",
       "      <th>22680</th>\n",
       "      <td>204147</td>\n",
       "      <td>в учебники химии написано \"Пруст Жозеф Луи\"\\nя...</td>\n",
       "      <td>1</td>\n",
       "    </tr>\n",
       "    <tr>\n",
       "      <th>22681</th>\n",
       "      <td>204148</td>\n",
       "      <td>Вот все любят,а я не люблю..как дура..говорю,ч...</td>\n",
       "      <td>0</td>\n",
       "    </tr>\n",
       "    <tr>\n",
       "      <th>22682</th>\n",
       "      <td>204149</td>\n",
       "      <td>уххх спасибо дорогой Леле Евгеньевне и Штепуху...</td>\n",
       "      <td>1</td>\n",
       "    </tr>\n",
       "  </tbody>\n",
       "</table>\n",
       "</div>"
      ],
      "text/plain": [
       "           id                                               text  class\n",
       "22678  204145  А я знаю из-за кого такая паршивая погода была...      1\n",
       "22679  204146  ааа.... что с Гмейлом. не ужто он умер сегодня...      0\n",
       "22680  204147  в учебники химии написано \"Пруст Жозеф Луи\"\\nя...      1\n",
       "22681  204148  Вот все любят,а я не люблю..как дура..говорю,ч...      0\n",
       "22682  204149  уххх спасибо дорогой Леле Евгеньевне и Штепуху...      1"
      ]
     },
     "execution_count": 14,
     "metadata": {},
     "output_type": "execute_result"
    }
   ],
   "source": [
    "df_val.tail()"
   ]
  },
  {
   "cell_type": "code",
   "execution_count": 15,
   "metadata": {
    "colab": {
     "base_uri": "https://localhost:8080/"
    },
    "executionInfo": {
     "elapsed": 253,
     "status": "ok",
     "timestamp": 1657302848278,
     "user": {
      "displayName": "Mariia Korliakova",
      "userId": "14165537686129864864"
     },
     "user_tz": -180
    },
    "id": "F3lecy8oT-rJ",
    "outputId": "754e974d-ea9c-4bf0-efe7-39aade94849c"
   },
   "outputs": [
    {
     "data": {
      "text/plain": [
       "1    11449\n",
       "0    11234\n",
       "Name: class, dtype: int64"
      ]
     },
     "execution_count": 15,
     "metadata": {},
     "output_type": "execute_result"
    }
   ],
   "source": [
    "df_val['class'].value_counts()"
   ]
  },
  {
   "cell_type": "markdown",
   "metadata": {
    "id": "qEyvOxoOJDTP"
   },
   "source": [
    "### Предобработка"
   ]
  },
  {
   "cell_type": "code",
   "execution_count": 16,
   "metadata": {
    "colab": {
     "base_uri": "https://localhost:8080/"
    },
    "executionInfo": {
     "elapsed": 5666,
     "status": "ok",
     "timestamp": 1657302914645,
     "user": {
      "displayName": "Mariia Korliakova",
      "userId": "14165537686129864864"
     },
     "user_tz": -180
    },
    "id": "JimEynHhitb4",
    "outputId": "1f7f817b-831a-49da-abe4-ce14ec0ca57f"
   },
   "outputs": [
    {
     "name": "stdout",
     "output_type": "stream",
     "text": [
      "Requirement already satisfied: stop-words in /home/mariya/PycharmProjects/base/venv/lib/python3.8/site-packages (2018.7.23)\n",
      "Requirement already satisfied: pymorphy2 in /home/mariya/PycharmProjects/base/venv/lib/python3.8/site-packages (0.9.1)\n",
      "Requirement already satisfied: pymorphy2-dicts-ru<3.0,>=2.4 in /home/mariya/PycharmProjects/base/venv/lib/python3.8/site-packages (from pymorphy2) (2.4.417127.4579844)\n",
      "Requirement already satisfied: dawg-python>=0.7.1 in /home/mariya/PycharmProjects/base/venv/lib/python3.8/site-packages (from pymorphy2) (0.7.2)\n",
      "Requirement already satisfied: docopt>=0.6 in /home/mariya/PycharmProjects/base/venv/lib/python3.8/site-packages (from pymorphy2) (0.6.2)\n",
      "\n",
      "\u001b[1m[\u001b[0m\u001b[34;49mnotice\u001b[0m\u001b[1;39;49m]\u001b[0m\u001b[39;49m A new release of pip is available: \u001b[0m\u001b[31;49m23.0.1\u001b[0m\u001b[39;49m -> \u001b[0m\u001b[32;49m23.3\u001b[0m\n",
      "\u001b[1m[\u001b[0m\u001b[34;49mnotice\u001b[0m\u001b[1;39;49m]\u001b[0m\u001b[39;49m To update, run: \u001b[0m\u001b[32;49mpip install --upgrade pip\u001b[0m\n"
     ]
    }
   ],
   "source": [
    "!pip install stop-words pymorphy2"
   ]
  },
  {
   "cell_type": "code",
   "execution_count": 17,
   "metadata": {
    "executionInfo": {
     "elapsed": 226,
     "status": "ok",
     "timestamp": 1657302997453,
     "user": {
      "displayName": "Mariia Korliakova",
      "userId": "14165537686129864864"
     },
     "user_tz": -180
    },
    "id": "zuPoTViZRHlM"
   },
   "outputs": [],
   "source": [
    "from string import punctuation\n",
    "from stop_words import get_stop_words\n",
    "from pymorphy2 import MorphAnalyzer\n",
    "import re"
   ]
  },
  {
   "cell_type": "code",
   "execution_count": 18,
   "metadata": {
    "executionInfo": {
     "elapsed": 236,
     "status": "ok",
     "timestamp": 1657303210726,
     "user": {
      "displayName": "Mariia Korliakova",
      "userId": "14165537686129864864"
     },
     "user_tz": -180
    },
    "id": "MrICmUgeRHlO"
   },
   "outputs": [],
   "source": [
    "sw = set(get_stop_words(\"ru\"))\n",
    "# sw"
   ]
  },
  {
   "cell_type": "code",
   "execution_count": 19,
   "metadata": {
    "id": "6ZEP0Iy0-EyM"
   },
   "outputs": [
    {
     "data": {
      "text/plain": [
       "{'а',\n",
       " 'алло',\n",
       " 'без',\n",
       " 'близко',\n",
       " 'более',\n",
       " 'больше',\n",
       " 'будем',\n",
       " 'будет',\n",
       " 'будете',\n",
       " 'будешь',\n",
       " 'будто',\n",
       " 'буду',\n",
       " 'будут',\n",
       " 'будь',\n",
       " 'бы',\n",
       " 'бывает',\n",
       " 'бывь',\n",
       " 'был',\n",
       " 'была',\n",
       " 'были',\n",
       " 'было',\n",
       " 'быть',\n",
       " 'в',\n",
       " 'важная',\n",
       " 'важное',\n",
       " 'важные',\n",
       " 'важный',\n",
       " 'вам',\n",
       " 'вами',\n",
       " 'вас',\n",
       " 'ваш',\n",
       " 'ваша',\n",
       " 'ваше',\n",
       " 'ваши',\n",
       " 'вверх',\n",
       " 'вдали',\n",
       " 'вдруг',\n",
       " 'ведь',\n",
       " 'везде',\n",
       " 'весь',\n",
       " 'вниз',\n",
       " 'внизу',\n",
       " 'во',\n",
       " 'вокруг',\n",
       " 'вон',\n",
       " 'восемнадцатый',\n",
       " 'восемнадцать',\n",
       " 'восемь',\n",
       " 'восьмой',\n",
       " 'вот',\n",
       " 'впрочем',\n",
       " 'времени',\n",
       " 'время',\n",
       " 'все',\n",
       " 'всегда',\n",
       " 'всего',\n",
       " 'всем',\n",
       " 'всеми',\n",
       " 'всему',\n",
       " 'всех',\n",
       " 'всею',\n",
       " 'всю',\n",
       " 'всюду',\n",
       " 'вся',\n",
       " 'всё',\n",
       " 'второй',\n",
       " 'вы',\n",
       " 'г',\n",
       " 'где',\n",
       " 'говорил',\n",
       " 'говорит',\n",
       " 'год',\n",
       " 'года',\n",
       " 'году',\n",
       " 'да',\n",
       " 'давно',\n",
       " 'даже',\n",
       " 'далеко',\n",
       " 'дальше',\n",
       " 'даром',\n",
       " 'два',\n",
       " 'двадцатый',\n",
       " 'двадцать',\n",
       " 'две',\n",
       " 'двенадцатый',\n",
       " 'двенадцать',\n",
       " 'двух',\n",
       " 'девятнадцатый',\n",
       " 'девятнадцать',\n",
       " 'девятый',\n",
       " 'девять',\n",
       " 'действительно',\n",
       " 'дел',\n",
       " 'день',\n",
       " 'десятый',\n",
       " 'десять',\n",
       " 'для',\n",
       " 'до',\n",
       " 'довольно',\n",
       " 'долго',\n",
       " 'должно',\n",
       " 'другая',\n",
       " 'другие',\n",
       " 'других',\n",
       " 'друго',\n",
       " 'другое',\n",
       " 'другой',\n",
       " 'е',\n",
       " 'его',\n",
       " 'ее',\n",
       " 'ей',\n",
       " 'ему',\n",
       " 'если',\n",
       " 'есть',\n",
       " 'еще',\n",
       " 'ещё',\n",
       " 'ею',\n",
       " 'её',\n",
       " 'ж',\n",
       " 'же',\n",
       " 'жизнь',\n",
       " 'за',\n",
       " 'занят',\n",
       " 'занята',\n",
       " 'занято',\n",
       " 'заняты',\n",
       " 'затем',\n",
       " 'зато',\n",
       " 'зачем',\n",
       " 'здесь',\n",
       " 'значит',\n",
       " 'и',\n",
       " 'из',\n",
       " 'или',\n",
       " 'им',\n",
       " 'именно',\n",
       " 'иметь',\n",
       " 'ими',\n",
       " 'имя',\n",
       " 'иногда',\n",
       " 'их',\n",
       " 'к',\n",
       " 'каждая',\n",
       " 'каждое',\n",
       " 'каждые',\n",
       " 'каждый',\n",
       " 'кажется',\n",
       " 'как',\n",
       " 'какая',\n",
       " 'какой',\n",
       " 'кем',\n",
       " 'когда',\n",
       " 'кого',\n",
       " 'ком',\n",
       " 'кому',\n",
       " 'конечно',\n",
       " 'которая',\n",
       " 'которого',\n",
       " 'которой',\n",
       " 'которые',\n",
       " 'который',\n",
       " 'которых',\n",
       " 'кроме',\n",
       " 'кругом',\n",
       " 'кто',\n",
       " 'куда',\n",
       " 'лет',\n",
       " 'ли',\n",
       " 'лишь',\n",
       " 'лучше',\n",
       " 'люди',\n",
       " 'м',\n",
       " 'мало',\n",
       " 'между',\n",
       " 'меля',\n",
       " 'менее',\n",
       " 'меньше',\n",
       " 'меня',\n",
       " 'миллионов',\n",
       " 'мимо',\n",
       " 'мира',\n",
       " 'мне',\n",
       " 'много',\n",
       " 'многочисленная',\n",
       " 'многочисленное',\n",
       " 'многочисленные',\n",
       " 'многочисленный',\n",
       " 'мной',\n",
       " 'мною',\n",
       " 'мог',\n",
       " 'могут',\n",
       " 'мож',\n",
       " 'может',\n",
       " 'можно',\n",
       " 'можхо',\n",
       " 'мои',\n",
       " 'мой',\n",
       " 'мор',\n",
       " 'мочь',\n",
       " 'моя',\n",
       " 'моё',\n",
       " 'мы',\n",
       " 'на',\n",
       " 'наверху',\n",
       " 'над',\n",
       " 'надо',\n",
       " 'назад',\n",
       " 'наиболее',\n",
       " 'наконец',\n",
       " 'нам',\n",
       " 'нами',\n",
       " 'нас',\n",
       " 'начала',\n",
       " 'наш',\n",
       " 'наша',\n",
       " 'наше',\n",
       " 'наши',\n",
       " 'не',\n",
       " 'него',\n",
       " 'недавно',\n",
       " 'недалеко',\n",
       " 'нее',\n",
       " 'ней',\n",
       " 'нельзя',\n",
       " 'нем',\n",
       " 'немного',\n",
       " 'нему',\n",
       " 'непрерывно',\n",
       " 'нередко',\n",
       " 'несколько',\n",
       " 'нет',\n",
       " 'нею',\n",
       " 'неё',\n",
       " 'ни',\n",
       " 'нибудь',\n",
       " 'ниже',\n",
       " 'низко',\n",
       " 'никогда',\n",
       " 'никуда',\n",
       " 'ними',\n",
       " 'них',\n",
       " 'ничего',\n",
       " 'но',\n",
       " 'ну',\n",
       " 'нужно',\n",
       " 'нх',\n",
       " 'о',\n",
       " 'об',\n",
       " 'оба',\n",
       " 'обычно',\n",
       " 'один',\n",
       " 'одиннадцатый',\n",
       " 'одиннадцать',\n",
       " 'однажды',\n",
       " 'однако',\n",
       " 'одного',\n",
       " 'одной',\n",
       " 'около',\n",
       " 'он',\n",
       " 'она',\n",
       " 'они',\n",
       " 'оно',\n",
       " 'опять',\n",
       " 'особенно',\n",
       " 'от',\n",
       " 'отовсюду',\n",
       " 'отсюда',\n",
       " 'очень',\n",
       " 'первый',\n",
       " 'перед',\n",
       " 'по',\n",
       " 'под',\n",
       " 'пожалуйста',\n",
       " 'позже',\n",
       " 'пока',\n",
       " 'пор',\n",
       " 'пора',\n",
       " 'после',\n",
       " 'посреди',\n",
       " 'потом',\n",
       " 'потому',\n",
       " 'почему',\n",
       " 'почти',\n",
       " 'прекрасно',\n",
       " 'при',\n",
       " 'про',\n",
       " 'просто',\n",
       " 'против',\n",
       " 'процентов',\n",
       " 'пятнадцатый',\n",
       " 'пятнадцать',\n",
       " 'пятый',\n",
       " 'пять',\n",
       " 'раз',\n",
       " 'разве',\n",
       " 'рано',\n",
       " 'раньше',\n",
       " 'рядом',\n",
       " 'с',\n",
       " 'сам',\n",
       " 'сама',\n",
       " 'сами',\n",
       " 'самим',\n",
       " 'самими',\n",
       " 'самих',\n",
       " 'само',\n",
       " 'самого',\n",
       " 'самой',\n",
       " 'самом',\n",
       " 'самому',\n",
       " 'саму',\n",
       " 'свое',\n",
       " 'своего',\n",
       " 'своей',\n",
       " 'свои',\n",
       " 'своих',\n",
       " 'свою',\n",
       " 'сеаой',\n",
       " 'себе',\n",
       " 'себя',\n",
       " 'сегодня',\n",
       " 'седьмой',\n",
       " 'сейчас',\n",
       " 'семнадцатый',\n",
       " 'семнадцать',\n",
       " 'семь',\n",
       " 'сих',\n",
       " 'сказал',\n",
       " 'сказала',\n",
       " 'сказать',\n",
       " 'сколько',\n",
       " 'слишком',\n",
       " 'сначала',\n",
       " 'снова',\n",
       " 'со',\n",
       " 'собой',\n",
       " 'собою',\n",
       " 'совсем',\n",
       " 'спасибо',\n",
       " 'стал',\n",
       " 'суть',\n",
       " 'т',\n",
       " 'та',\n",
       " 'так',\n",
       " 'такая',\n",
       " 'также',\n",
       " 'такие',\n",
       " 'такое',\n",
       " 'такой',\n",
       " 'там',\n",
       " 'твой',\n",
       " 'твоя',\n",
       " 'твоё',\n",
       " 'те',\n",
       " 'тебе',\n",
       " 'тебя',\n",
       " 'тем',\n",
       " 'теми',\n",
       " 'теперь',\n",
       " 'тех',\n",
       " 'то',\n",
       " 'тобой',\n",
       " 'тобою',\n",
       " 'тогда',\n",
       " 'того',\n",
       " 'тоже',\n",
       " 'только',\n",
       " 'том',\n",
       " 'тому',\n",
       " 'тот',\n",
       " 'тою',\n",
       " 'третий',\n",
       " 'три',\n",
       " 'тринадцатый',\n",
       " 'тринадцать',\n",
       " 'ту',\n",
       " 'туда',\n",
       " 'тут',\n",
       " 'ты',\n",
       " 'тысяч',\n",
       " 'у',\n",
       " 'уж',\n",
       " 'уже',\n",
       " 'уметь',\n",
       " 'хорошо',\n",
       " 'хотеть',\n",
       " 'хоть',\n",
       " 'хотя',\n",
       " 'хочешь',\n",
       " 'часто',\n",
       " 'чаще',\n",
       " 'чего',\n",
       " 'человек',\n",
       " 'чем',\n",
       " 'чему',\n",
       " 'через',\n",
       " 'четвертый',\n",
       " 'четыре',\n",
       " 'четырнадцатый',\n",
       " 'четырнадцать',\n",
       " 'что',\n",
       " 'чтоб',\n",
       " 'чтобы',\n",
       " 'чуть',\n",
       " 'шестнадцатый',\n",
       " 'шестнадцать',\n",
       " 'шестой',\n",
       " 'шесть',\n",
       " 'эта',\n",
       " 'эти',\n",
       " 'этим',\n",
       " 'этими',\n",
       " 'этих',\n",
       " 'это',\n",
       " 'этого',\n",
       " 'этой',\n",
       " 'этом',\n",
       " 'этому',\n",
       " 'этот',\n",
       " 'эту',\n",
       " 'я'}"
      ]
     },
     "execution_count": 19,
     "metadata": {},
     "output_type": "execute_result"
    }
   ],
   "source": [
    "sw"
   ]
  },
  {
   "cell_type": "code",
   "execution_count": 20,
   "metadata": {
    "colab": {
     "base_uri": "https://localhost:8080/"
    },
    "executionInfo": {
     "elapsed": 248,
     "status": "ok",
     "timestamp": 1657303162253,
     "user": {
      "displayName": "Mariia Korliakova",
      "userId": "14165537686129864864"
     },
     "user_tz": -180
    },
    "id": "Kdmt_DVPjN4j",
    "outputId": "502fafd3-a407-49f6-8e67-0efb204935a1"
   },
   "outputs": [
    {
     "data": {
      "text/plain": [
       "{'!',\n",
       " '\"',\n",
       " '#',\n",
       " '$',\n",
       " '%',\n",
       " '&',\n",
       " \"'\",\n",
       " '(',\n",
       " ')',\n",
       " '*',\n",
       " '+',\n",
       " ',',\n",
       " '-',\n",
       " '.',\n",
       " '/',\n",
       " ':',\n",
       " ';',\n",
       " '<',\n",
       " '=',\n",
       " '>',\n",
       " '?',\n",
       " '@',\n",
       " '[',\n",
       " '\\\\',\n",
       " ']',\n",
       " '^',\n",
       " '_',\n",
       " '`',\n",
       " '{',\n",
       " '|',\n",
       " '}',\n",
       " '~'}"
      ]
     },
     "execution_count": 20,
     "metadata": {},
     "output_type": "execute_result"
    }
   ],
   "source": [
    "puncts = set(punctuation)\n",
    "puncts"
   ]
  },
  {
   "cell_type": "markdown",
   "metadata": {
    "id": "hdO_4D8_kPWm"
   },
   "source": [
    "**ПОЗАВТРАКАЛИ**\n",
    "\n",
    "Стемминг (убираем лишнии куски слова):\n",
    "**завтрак**<br>\n",
    "Очень быстро, очень дешево и очень слабо.\n",
    "\n",
    "Лемматизация (перевод в неопределенную форму для гл. и в им.падеж для сущ.):\n",
    "**позавтракать**<br>\n",
    "Небыстро, сложно."
   ]
  },
  {
   "cell_type": "code",
   "execution_count": 21,
   "metadata": {
    "colab": {
     "base_uri": "https://localhost:8080/"
    },
    "executionInfo": {
     "elapsed": 9,
     "status": "ok",
     "timestamp": 1657303549459,
     "user": {
      "displayName": "Mariia Korliakova",
      "userId": "14165537686129864864"
     },
     "user_tz": -180
    },
    "id": "Q2nWhCfzkTCH",
    "outputId": "48e21de4-8b9c-4c98-fa42-0f78c341102d"
   },
   "outputs": [
    {
     "data": {
      "text/plain": [
       "'завтракать'"
      ]
     },
     "execution_count": 21,
     "metadata": {},
     "output_type": "execute_result"
    }
   ],
   "source": [
    "morpher = MorphAnalyzer()\n",
    "morpher.parse('завтракаем')[0].normal_form"
   ]
  },
  {
   "cell_type": "code",
   "execution_count": 22,
   "metadata": {
    "executionInfo": {
     "elapsed": 251,
     "status": "ok",
     "timestamp": 1657303290984,
     "user": {
      "displayName": "Mariia Korliakova",
      "userId": "14165537686129864864"
     },
     "user_tz": -180
    },
    "id": "A5aTsDZxjPym"
   },
   "outputs": [],
   "source": [
    "morpher = MorphAnalyzer()\n",
    "\n",
    "\n",
    "def preprocess_text(txt):\n",
    "    txt = str(txt)\n",
    "    txt = \"\".join(c for c in txt if c not in puncts)\n",
    "    txt = txt.lower()\n",
    "    txt = re.sub(\"не\\s\", \"не\", txt)\n",
    "    txt = [morpher.parse(word)[0].normal_form for word in txt.split() if word not in sw]\n",
    "    return \" \".join(txt)"
   ]
  },
  {
   "cell_type": "code",
   "execution_count": 23,
   "metadata": {
    "colab": {
     "base_uri": "https://localhost:8080/"
    },
    "executionInfo": {
     "elapsed": 247,
     "status": "ok",
     "timestamp": 1657303292939,
     "user": {
      "displayName": "Mariia Korliakova",
      "userId": "14165537686129864864"
     },
     "user_tz": -180
    },
    "id": "6J4Ybdk-jC-n",
    "outputId": "bdbced58-e7d8-4e36-9768-9e3cdf41f7ec"
   },
   "outputs": [
    {
     "data": {
      "text/plain": [
       "array(['@alisachachka не уезжаааааааай. :(❤ я тоже не хочу, чтобы ты уезжала.'],\n",
       "      dtype=object)"
      ]
     },
     "execution_count": 23,
     "metadata": {},
     "output_type": "execute_result"
    }
   ],
   "source": [
    "df_train['text'].iloc[:1].values"
   ]
  },
  {
   "cell_type": "code",
   "execution_count": 24,
   "metadata": {
    "colab": {
     "base_uri": "https://localhost:8080/"
    },
    "executionInfo": {
     "elapsed": 244,
     "status": "ok",
     "timestamp": 1657303295742,
     "user": {
      "displayName": "Mariia Korliakova",
      "userId": "14165537686129864864"
     },
     "user_tz": -180
    },
    "id": "UFDyfZLpi8BR",
    "outputId": "25fb7291-9f19-4a50-8ab0-964ea5455003"
   },
   "outputs": [
    {
     "data": {
      "text/plain": [
       "array(['alisachachka неуезжаааааааать ❤ нехотеть уезжать'], dtype=object)"
      ]
     },
     "execution_count": 24,
     "metadata": {},
     "output_type": "execute_result"
    }
   ],
   "source": [
    "df_train['text'].iloc[:1].apply(preprocess_text).values"
   ]
  },
  {
   "cell_type": "code",
   "execution_count": 25,
   "metadata": {
    "colab": {
     "base_uri": "https://localhost:8080/"
    },
    "executionInfo": {
     "elapsed": 242442,
     "status": "ok",
     "timestamp": 1657303549458,
     "user": {
      "displayName": "Mariia Korliakova",
      "userId": "14165537686129864864"
     },
     "user_tz": -180
    },
    "id": "iWrPbjNzi7pB",
    "outputId": "15e418e5-8b8d-4e9d-9a13-88b4693f5b53"
   },
   "outputs": [
    {
     "name": "stderr",
     "output_type": "stream",
     "text": [
      "100%|█████████████████████████████████| 181467/181467 [01:31<00:00, 1972.77it/s]\n",
      "100%|███████████████████████████████████| 22683/22683 [00:11<00:00, 1957.52it/s]\n"
     ]
    }
   ],
   "source": [
    "from tqdm import tqdm \n",
    "tqdm.pandas()\n",
    "\n",
    "df_train['text'] = df_train['text'].progress_apply(preprocess_text)\n",
    "df_val['text'] = df_val['text'].progress_apply(preprocess_text)"
   ]
  },
  {
   "cell_type": "code",
   "execution_count": 26,
   "metadata": {
    "executionInfo": {
     "elapsed": 227,
     "status": "ok",
     "timestamp": 1657303797623,
     "user": {
      "displayName": "Mariia Korliakova",
      "userId": "14165537686129864864"
     },
     "user_tz": -180
    },
    "id": "C4o9QgmWI3Pw"
   },
   "outputs": [],
   "source": [
    "train_corpus = \" \".join(df_train[\"text\"])\n",
    "train_corpus = train_corpus.lower()"
   ]
  },
  {
   "cell_type": "code",
   "execution_count": 27,
   "metadata": {},
   "outputs": [
    {
     "name": "stdout",
     "output_type": "stream",
     "text": [
      "Requirement already satisfied: nltk in /home/mariya/PycharmProjects/base/venv/lib/python3.8/site-packages (3.8.1)\n",
      "Requirement already satisfied: click in /home/mariya/PycharmProjects/base/venv/lib/python3.8/site-packages (from nltk) (8.1.3)\n",
      "Requirement already satisfied: joblib in /home/mariya/PycharmProjects/base/venv/lib/python3.8/site-packages (from nltk) (1.1.0)\n",
      "Requirement already satisfied: tqdm in /home/mariya/PycharmProjects/base/venv/lib/python3.8/site-packages (from nltk) (4.64.0)\n",
      "Requirement already satisfied: regex>=2021.8.3 in /home/mariya/PycharmProjects/base/venv/lib/python3.8/site-packages (from nltk) (2023.8.8)\n",
      "\n",
      "\u001b[1m[\u001b[0m\u001b[34;49mnotice\u001b[0m\u001b[1;39;49m]\u001b[0m\u001b[39;49m A new release of pip is available: \u001b[0m\u001b[31;49m23.0.1\u001b[0m\u001b[39;49m -> \u001b[0m\u001b[32;49m23.3\u001b[0m\n",
      "\u001b[1m[\u001b[0m\u001b[34;49mnotice\u001b[0m\u001b[1;39;49m]\u001b[0m\u001b[39;49m To update, run: \u001b[0m\u001b[32;49mpip install --upgrade pip\u001b[0m\n"
     ]
    }
   ],
   "source": [
    "!pip install nltk"
   ]
  },
  {
   "cell_type": "code",
   "execution_count": 28,
   "metadata": {
    "colab": {
     "base_uri": "https://localhost:8080/"
    },
    "executionInfo": {
     "elapsed": 6382,
     "status": "ok",
     "timestamp": 1657303822905,
     "user": {
      "displayName": "Mariia Korliakova",
      "userId": "14165537686129864864"
     },
     "user_tz": -180
    },
    "id": "Hed2ySbwJH6B",
    "outputId": "f42fc2c4-3976-450a-84a2-47eb71e1aa2c"
   },
   "outputs": [
    {
     "name": "stderr",
     "output_type": "stream",
     "text": [
      "[nltk_data] Downloading package punkt to /home/mariya/nltk_data...\n",
      "[nltk_data]   Package punkt is already up-to-date!\n"
     ]
    },
    {
     "data": {
      "text/plain": [
       "['alisachachka', 'неуезжаааааааать', '❤', 'нехотеть', 'уезжать']"
      ]
     },
     "execution_count": 28,
     "metadata": {},
     "output_type": "execute_result"
    }
   ],
   "source": [
    "import nltk\n",
    "from nltk.tokenize import word_tokenize\n",
    "nltk.download(\"punkt\")\n",
    "\n",
    "tokens = word_tokenize(train_corpus)\n",
    "tokens[:5]"
   ]
  },
  {
   "cell_type": "markdown",
   "metadata": {
    "id": "yJ8T0fwYJYJX"
   },
   "source": [
    "Отфильтруем данные\n",
    "\n",
    "и соберём в корпус N наиболее частых токенов"
   ]
  },
  {
   "cell_type": "code",
   "execution_count": 29,
   "metadata": {
    "executionInfo": {
     "elapsed": 238,
     "status": "ok",
     "timestamp": 1657303906704,
     "user": {
      "displayName": "Mariia Korliakova",
      "userId": "14165537686129864864"
     },
     "user_tz": -180
    },
    "id": "EXOLVK1tJLT8"
   },
   "outputs": [],
   "source": [
    "tokens_filtered = [word for word in tokens if word.isalnum()]"
   ]
  },
  {
   "cell_type": "code",
   "execution_count": 30,
   "metadata": {
    "colab": {
     "base_uri": "https://localhost:8080/"
    },
    "executionInfo": {
     "elapsed": 1139,
     "status": "ok",
     "timestamp": 1657303939484,
     "user": {
      "displayName": "Mariia Korliakova",
      "userId": "14165537686129864864"
     },
     "user_tz": -180
    },
    "id": "8qCQH5nIJoiB",
    "outputId": "f059b974-c153-431c-ff80-9a2b31ea02b5"
   },
   "outputs": [
    {
     "data": {
      "text/plain": [
       "1999"
      ]
     },
     "execution_count": 30,
     "metadata": {},
     "output_type": "execute_result"
    }
   ],
   "source": [
    "from nltk.probability import FreqDist\n",
    "\n",
    "dist = FreqDist(tokens_filtered)\n",
    "tokens_filtered_top = [pair[0] for pair in dist.most_common(max_words-1)]  # вычитание 1 для padding\n",
    "len(tokens_filtered_top)"
   ]
  },
  {
   "cell_type": "code",
   "execution_count": 31,
   "metadata": {
    "colab": {
     "base_uri": "https://localhost:8080/"
    },
    "executionInfo": {
     "elapsed": 243,
     "status": "ok",
     "timestamp": 1657304044365,
     "user": {
      "displayName": "Mariia Korliakova",
      "userId": "14165537686129864864"
     },
     "user_tz": -180
    },
    "id": "bRQ-6wwjJrGo",
    "outputId": "47975bb4-43e6-43bd-d7e9-b83e1ef1f9e9"
   },
   "outputs": [
    {
     "data": {
      "text/plain": [
       "['rt',\n",
       " 'd',\n",
       " 'хотеть',\n",
       " 'новый',\n",
       " 'завтра',\n",
       " 'мой',\n",
       " 'вообще',\n",
       " 'хороший',\n",
       " 'любить',\n",
       " 'немочь']"
      ]
     },
     "execution_count": 31,
     "metadata": {},
     "output_type": "execute_result"
    }
   ],
   "source": [
    "tokens_filtered_top[:10]"
   ]
  },
  {
   "cell_type": "code",
   "execution_count": 32,
   "metadata": {
    "colab": {
     "base_uri": "https://localhost:8080/"
    },
    "executionInfo": {
     "elapsed": 292,
     "status": "ok",
     "timestamp": 1657304064353,
     "user": {
      "displayName": "Mariia Korliakova",
      "userId": "14165537686129864864"
     },
     "user_tz": -180
    },
    "id": "Tdk777qGJtz4",
    "outputId": "e5c2d941-7a06-407b-cf06-02fe96b4318a"
   },
   "outputs": [
    {
     "data": {
      "text/plain": [
       "{'rt': 1,\n",
       " 'd': 2,\n",
       " 'хотеть': 3,\n",
       " 'новый': 4,\n",
       " 'завтра': 5,\n",
       " 'мой': 6,\n",
       " 'вообще': 7,\n",
       " 'хороший': 8,\n",
       " 'любить': 9,\n",
       " 'немочь': 10,\n",
       " 'день': 11,\n",
       " 'делать': 12,\n",
       " 'смотреть': 13,\n",
       " 'блин': 14,\n",
       " 'самый': 15,\n",
       " 'знать': 16,\n",
       " 'идти': 17,\n",
       " 'думать': 18,\n",
       " 'дом': 19,\n",
       " '3': 20,\n",
       " 'сидеть': 21,\n",
       " 'небыть': 22,\n",
       " 'друг': 23,\n",
       " 'спать': 24,\n",
       " 'утро': 25,\n",
       " 'незнать': 26,\n",
       " 'один': 27,\n",
       " 'школа': 28,\n",
       " '2': 29,\n",
       " 'сделать': 30,\n",
       " 'настроение': 31,\n",
       " 'такой': 32,\n",
       " 'человек': 33,\n",
       " 'пойти': 34,\n",
       " 'писать': 35,\n",
       " 'ждать': 36,\n",
       " 'час': 37,\n",
       " 'мама': 38,\n",
       " 'нехотеть': 39,\n",
       " 'любимый': 40,\n",
       " 'работа': 41,\n",
       " 'болеть': 42,\n",
       " 'последний': 43,\n",
       " 'написать': 44,\n",
       " 'никто': 45,\n",
       " 'ночь': 46,\n",
       " 'свой': 47,\n",
       " 'посмотреть': 48,\n",
       " 'добрый': 49,\n",
       " 'говорить': 50,\n",
       " 'чтоть': 51,\n",
       " 'неделя': 52,\n",
       " 'какой': 53,\n",
       " 'прийти': 54,\n",
       " 'купить': 55,\n",
       " 'вчера': 56,\n",
       " 'мочь': 57,\n",
       " 'дело': 58,\n",
       " 'скучать': 59,\n",
       " 'найти': 60,\n",
       " 'скоро': 61,\n",
       " 'хотеться': 62,\n",
       " 'урок': 63,\n",
       " 'фильм': 64,\n",
       " 'снег': 65,\n",
       " 'первый': 66,\n",
       " 'голова': 67,\n",
       " 'остаться': 68,\n",
       " 'оо': 69,\n",
       " 'жить': 70,\n",
       " 'видеть': 71,\n",
       " 'читать': 72,\n",
       " 'вечер': 73,\n",
       " 'домой': 74,\n",
       " 'понять': 75,\n",
       " 'твой': 76,\n",
       " 'стать': 77,\n",
       " 'пара': 78,\n",
       " 'жизнь': 79,\n",
       " 'давать': 80,\n",
       " 'плохо': 81,\n",
       " 'равно': 82,\n",
       " 'нг': 83,\n",
       " '5': 84,\n",
       " 'забыть': 85,\n",
       " 'надеяться': 86,\n",
       " 'слово': 87,\n",
       " 'ходить': 88,\n",
       " 'бля': 89,\n",
       " 'жаль': 90,\n",
       " '4': 91,\n",
       " 'улица': 92,\n",
       " 'правда': 93,\n",
       " 'ахи': 94,\n",
       " 'твиттер': 95,\n",
       " 'сон': 96,\n",
       " 'работать': 97,\n",
       " 'изз': 98,\n",
       " 'телефон': 99,\n",
       " 'вроде': 100,\n",
       " 'рука': 101,\n",
       " 'песня': 102,\n",
       " 'наш': 103,\n",
       " 'что': 104,\n",
       " 'место': 105,\n",
       " 'парень': 106,\n",
       " 'плохой': 107,\n",
       " 'новогодний': 108,\n",
       " 'фотка': 109,\n",
       " 'минута': 110,\n",
       " 'твит': 111,\n",
       " 'ахах': 112,\n",
       " '1': 113,\n",
       " 'привет': 114,\n",
       " 'рождение': 115,\n",
       " 'девушка': 116,\n",
       " '10': 117,\n",
       " 'понимать': 118,\n",
       " 'решить': 119,\n",
       " 'крутой': 120,\n",
       " 'х': 121,\n",
       " 'пройти': 122,\n",
       " 'точно': 123,\n",
       " 'ехать': 124,\n",
       " 'сейчас': 125,\n",
       " 'сразу': 126,\n",
       " 'подарок': 127,\n",
       " 'играть': 128,\n",
       " 'увидеть': 129,\n",
       " 'дать': 130,\n",
       " 'выходной': 131,\n",
       " 'круто': 132,\n",
       " 'сказать': 133,\n",
       " 'приехать': 134,\n",
       " 'кстати': 135,\n",
       " 'класс': 136,\n",
       " 'ненавидеть': 137,\n",
       " 'глаз': 138,\n",
       " 'вопрос': 139,\n",
       " 'лента': 140,\n",
       " 'деньга': 141,\n",
       " 'конец': 142,\n",
       " 'папа': 143,\n",
       " 'город': 144,\n",
       " 'начать': 145,\n",
       " 'ребёнок': 146,\n",
       " 'столько': 147,\n",
       " 'както': 148,\n",
       " 'бог': 149,\n",
       " 'месяц': 150,\n",
       " 'выйти': 151,\n",
       " 'слушать': 152,\n",
       " 'прям': 153,\n",
       " 'ладный': 154,\n",
       " 'блядь': 155,\n",
       " 'наверное': 156,\n",
       " 'сильно': 157,\n",
       " 'взять': 158,\n",
       " 'еда': 159,\n",
       " 'нужный': 160,\n",
       " 'любовь': 161,\n",
       " 'момент': 162,\n",
       " 'русский': 163,\n",
       " 'прийтись': 164,\n",
       " 'нравиться': 165,\n",
       " 'красивый': 166,\n",
       " 'бояться': 167,\n",
       " 'должный': 168,\n",
       " 'зима': 169,\n",
       " 'вк': 170,\n",
       " 'нога': 171,\n",
       " 'чувствовать': 172,\n",
       " 'простить': 173,\n",
       " 'маленький': 174,\n",
       " 'че': 175,\n",
       " 'большой': 176,\n",
       " 'девочка': 177,\n",
       " 'ёлка': 178,\n",
       " 'уйти': 179,\n",
       " 'серия': 180,\n",
       " 'нелюбить': 181,\n",
       " 'праздник': 182,\n",
       " 'стоить': 183,\n",
       " 'душа': 184,\n",
       " 'мир': 185,\n",
       " 'экзамен': 186,\n",
       " 'отличный': 187,\n",
       " 'история': 188,\n",
       " 'музыка': 189,\n",
       " 'пиздец': 190,\n",
       " 'счастие': 191,\n",
       " 'целый': 192,\n",
       " 'закончиться': 193,\n",
       " 'проснуться': 194,\n",
       " 'россия': 195,\n",
       " 'ребята': 196,\n",
       " 'норма': 197,\n",
       " 'ктоть': 198,\n",
       " 'сука': 199,\n",
       " 'нормально': 200,\n",
       " 'ахахи': 201,\n",
       " 'ибо': 202,\n",
       " 'гулять': 203,\n",
       " 'фото': 204,\n",
       " 'игра': 205,\n",
       " 'ужасно': 206,\n",
       " 'получить': 207,\n",
       " 'чувство': 208,\n",
       " 'нев': 209,\n",
       " '8': 210,\n",
       " 'учить': 211,\n",
       " 'каникулы': 212,\n",
       " 'сходить': 213,\n",
       " 'вспомнить': 214,\n",
       " 'начинать': 215,\n",
       " 'поставить': 216,\n",
       " 'жалко': 217,\n",
       " 'милый': 218,\n",
       " 'проблема': 219,\n",
       " 'приятно': 220,\n",
       " 'подруга': 221,\n",
       " 'помнить': 222,\n",
       " 'интересно': 223,\n",
       " 'они': 224,\n",
       " 'dd': 225,\n",
       " 'интересный': 226,\n",
       " 'узнать': 227,\n",
       " 'погода': 228,\n",
       " 'вместе': 229,\n",
       " 'интернет': 230,\n",
       " 'эх': 231,\n",
       " 'главное': 232,\n",
       " 'нечего': 233,\n",
       " '6': 234,\n",
       " 'прекрасный': 235,\n",
       " 'устать': 236,\n",
       " 'к': 237,\n",
       " 'заболеть': 238,\n",
       " 'пол': 239,\n",
       " 'поход': 240,\n",
       " 'таки': 241,\n",
       " 'лето': 242,\n",
       " 'нетак': 243,\n",
       " 'поехать': 244,\n",
       " 'ой': 245,\n",
       " 'классный': 246,\n",
       " 'пусть': 247,\n",
       " 'который': 248,\n",
       " 'учиться': 249,\n",
       " 'ага': 250,\n",
       " 'старый': 251,\n",
       " 'пить': 252,\n",
       " 'никак': 253,\n",
       " 'желание': 254,\n",
       " 'группа': 255,\n",
       " 'обидно': 256,\n",
       " 'кот': 257,\n",
       " 'видео': 258,\n",
       " 'полный': 259,\n",
       " 'родитель': 260,\n",
       " 'тип': 261,\n",
       " 'счастливый': 262,\n",
       " 'утром': 263,\n",
       " 'непонимать': 264,\n",
       " 'быстро': 265,\n",
       " 'новость': 266,\n",
       " 'зачёт': 267,\n",
       " 'скучно': 268,\n",
       " 'пятница': 269,\n",
       " 'ненадо': 270,\n",
       " 'несмочь': 271,\n",
       " 'отлично': 272,\n",
       " 'каждый': 273,\n",
       " 'брат': 274,\n",
       " 'следующий': 275,\n",
       " 'понедельник': 276,\n",
       " 'концерт': 277,\n",
       " 'мысль': 278,\n",
       " 'москва': 279,\n",
       " 'лицо': 280,\n",
       " 'раз': 281,\n",
       " 'умереть': 282,\n",
       " 'понравиться': 283,\n",
       " 'нету': 284,\n",
       " 'голос': 285,\n",
       " '7': 286,\n",
       " 'невидеть': 287,\n",
       " 'офигенный': 288,\n",
       " 'боль': 289,\n",
       " 'начаться': 290,\n",
       " 'дорога': 291,\n",
       " 'учёба': 292,\n",
       " 'поэтому': 293,\n",
       " 'б': 294,\n",
       " 'ужасный': 295,\n",
       " 'книга': 296,\n",
       " 'сериал': 297,\n",
       " 'помочь': 298,\n",
       " 'нормальный': 299,\n",
       " '9': 300,\n",
       " 'бесить': 301,\n",
       " 'нехватать': 302,\n",
       " 'сезон': 303,\n",
       " 'тема': 304,\n",
       " 'встать': 305,\n",
       " 'зайти': 306,\n",
       " 'получиться': 307,\n",
       " 'др': 308,\n",
       " 'капец': 309,\n",
       " 'скорее': 310,\n",
       " 'нести': 311,\n",
       " 'собираться': 312,\n",
       " 'рада': 313,\n",
       " 'окно': 314,\n",
       " 'сдать': 315,\n",
       " 'обожать': 316,\n",
       " 'плакать': 317,\n",
       " 'вставать': 318,\n",
       " 'план': 319,\n",
       " 'какойтый': 320,\n",
       " 'пытаться': 321,\n",
       " 'второй': 322,\n",
       " 'мороз': 323,\n",
       " 'ох': 324,\n",
       " 'суббота': 325,\n",
       " 'машина': 326,\n",
       " 'убить': 327,\n",
       " 'мозг': 328,\n",
       " 'удача': 329,\n",
       " 'приходить': 330,\n",
       " 'весело': 331,\n",
       " 'євромайдан': 332,\n",
       " 'искать': 333,\n",
       " 'никакой': 334,\n",
       " 'реально': 335,\n",
       " 'неочень': 336,\n",
       " 'подарить': 337,\n",
       " 'сердце': 338,\n",
       " 'чувак': 339,\n",
       " 'приятный': 340,\n",
       " 'всякий': 341,\n",
       " 'з': 342,\n",
       " 'поздравлять': 343,\n",
       " 'грустно': 344,\n",
       " 'ужас': 345,\n",
       " '15': 346,\n",
       " 'жопа': 347,\n",
       " 'холодно': 348,\n",
       " '20': 349,\n",
       " 'мальчик': 350,\n",
       " 'провести': 351,\n",
       " 'свет': 352,\n",
       " 'подумать': 353,\n",
       " 'декабрь': 354,\n",
       " 'уехать': 355,\n",
       " 'нехотеться': 356,\n",
       " 'лежать': 357,\n",
       " 'вернуться': 358,\n",
       " 'магазин': 359,\n",
       " 'видимо': 360,\n",
       " 'близкий': 361,\n",
       " 'oo': 362,\n",
       " 'любой': 363,\n",
       " 'сессия': 364,\n",
       " 'другой': 365,\n",
       " 'тупой': 366,\n",
       " 'английский': 367,\n",
       " 'сила': 368,\n",
       " 'родный': 369,\n",
       " 'выходить': 370,\n",
       " 'молодец': 371,\n",
       " 'короче': 372,\n",
       " 'женщина': 373,\n",
       " 'тви': 374,\n",
       " 'чай': 375,\n",
       " 'мужик': 376,\n",
       " 'часть': 377,\n",
       " 'ааа': 378,\n",
       " 'комп': 379,\n",
       " 'мнеказаться': 380,\n",
       " 'вещь': 381,\n",
       " 'черта': 382,\n",
       " 'больший': 383,\n",
       " 'соскучиться': 384,\n",
       " 'рассказать': 385,\n",
       " '30': 386,\n",
       " 'некоторый': 387,\n",
       " 'билет': 388,\n",
       " 'бабушка': 389,\n",
       " 'весёлый': 390,\n",
       " 'дорогой': 391,\n",
       " 'оказываться': 392,\n",
       " 'скорый': 393,\n",
       " 'аж': 394,\n",
       " 'желать': 395,\n",
       " 'потерять': 396,\n",
       " 'детство': 397,\n",
       " 'готовый': 398,\n",
       " 'слеза': 399,\n",
       " 'ненужный': 400,\n",
       " 'спокойный': 401,\n",
       " 'куча': 402,\n",
       " 'сайт': 403,\n",
       " 'вместо': 404,\n",
       " 'хах': 405,\n",
       " 'лень': 406,\n",
       " 'хд': 407,\n",
       " 'похоже': 408,\n",
       " '12': 409,\n",
       " 'оказаться': 410,\n",
       " 'семья': 411,\n",
       " 'непонять': 412,\n",
       " 'ахахах': 413,\n",
       " 'ночью': 414,\n",
       " 'наконецтый': 415,\n",
       " 'позвонить': 416,\n",
       " 'настоящий': 417,\n",
       " 'картинка': 418,\n",
       " 'волос': 419,\n",
       " 'наверно': 420,\n",
       " 'народ': 421,\n",
       " 'вечером': 422,\n",
       " 'мужчина': 423,\n",
       " 'мнетак': 424,\n",
       " 'непойти': 425,\n",
       " 'смысл': 426,\n",
       " 'кофе': 427,\n",
       " 'ваш': 428,\n",
       " 'кино': 429,\n",
       " 'есть': 430,\n",
       " 'печаль': 431,\n",
       " 'считать': 432,\n",
       " 'верить': 433,\n",
       " 'общий': 434,\n",
       " 'мненравиться': 435,\n",
       " 'сторона': 436,\n",
       " 'лечь': 437,\n",
       " 'вид': 438,\n",
       " 'мнеочень': 439,\n",
       " 'уснуть': 440,\n",
       " 'физика': 441,\n",
       " 'петь': 442,\n",
       " 'послать': 443,\n",
       " 'уходить': 444,\n",
       " 'танец': 445,\n",
       " 'случай': 446,\n",
       " 'просить': 447,\n",
       " 'добро': 448,\n",
       " 'неуспеть': 449,\n",
       " 'быстрый': 450,\n",
       " 'чёрный': 451,\n",
       " 'больно': 452,\n",
       " 'температура': 453,\n",
       " 'прочитать': 454,\n",
       " 'квартира': 455,\n",
       " 'правильно': 456,\n",
       " 'сестра': 457,\n",
       " 'успеть': 458,\n",
       " 'брать': 459,\n",
       " 'попасть': 460,\n",
       " 'общаться': 461,\n",
       " 'январь': 462,\n",
       " 'каток': 463,\n",
       " 'постоянно': 464,\n",
       " 'номер': 465,\n",
       " 'появиться': 466,\n",
       " 'страшно': 467,\n",
       " 'больница': 468,\n",
       " 'открыть': 469,\n",
       " 'мечта': 470,\n",
       " 'перестать': 471,\n",
       " 'ответ': 472,\n",
       " 'радость': 473,\n",
       " 'единственный': 474,\n",
       " 'остальной': 475,\n",
       " 'автобус': 476,\n",
       " 'ставить': 477,\n",
       " 'право': 478,\n",
       " 'комната': 479,\n",
       " 'ddd': 480,\n",
       " 'лох': 481,\n",
       " 'непомнить': 482,\n",
       " 'погулять': 483,\n",
       " 'готовиться': 484,\n",
       " 'обещать': 485,\n",
       " 'бегать': 486,\n",
       " 'говно': 487,\n",
       " 'бедный': 488,\n",
       " 'разный': 489,\n",
       " 'либо': 490,\n",
       " 'огромный': 491,\n",
       " 'настя': 492,\n",
       " 'честно': 493,\n",
       " 'пропустить': 494,\n",
       " 'звонить': 495,\n",
       " 'звать': 496,\n",
       " 'забрать': 497,\n",
       " 'письмо': 498,\n",
       " 'вода': 499,\n",
       " 'сообщение': 500,\n",
       " 'придумать': 501,\n",
       " 'замечательный': 502,\n",
       " 'дождь': 503,\n",
       " 'надоесть': 504,\n",
       " 'хватить': 505,\n",
       " 'поговорить': 506,\n",
       " 'даа': 507,\n",
       " 'около': 508,\n",
       " 'знакомый': 509,\n",
       " 'ура': 510,\n",
       " 'заходить': 511,\n",
       " 'половина': 512,\n",
       " 'гость': 513,\n",
       " '11': 514,\n",
       " 'химия': 515,\n",
       " 'печально': 516,\n",
       " 'ощущение': 517,\n",
       " 'страшный': 518,\n",
       " 'неработать': 519,\n",
       " 'кинуть': 520,\n",
       " 'одноклассник': 521,\n",
       " 'готовить': 522,\n",
       " 'итог': 523,\n",
       " 'показать': 524,\n",
       " 'страна': 525,\n",
       " 'попробовать': 526,\n",
       " 'странный': 527,\n",
       " 'похожий': 528,\n",
       " 'недумать': 529,\n",
       " 'курс': 530,\n",
       " 'a': 531,\n",
       " 'начинаться': 532,\n",
       " 'обратно': 533,\n",
       " 'оставаться': 534,\n",
       " 'упасть': 535,\n",
       " 'спросить': 536,\n",
       " 'нос': 537,\n",
       " 'идиот': 538,\n",
       " 'рабочий': 539,\n",
       " 'контрольный': 540,\n",
       " 'радовать': 541,\n",
       " 'супер': 542,\n",
       " 'тренировка': 543,\n",
       " 'неписать': 544,\n",
       " 'ретвит': 545,\n",
       " 'начало': 546,\n",
       " 'слышать': 547,\n",
       " 'фотография': 548,\n",
       " 'собака': 549,\n",
       " 'состояние': 550,\n",
       " 'ум': 551,\n",
       " 'саша': 552,\n",
       " 'заниматься': 553,\n",
       " 'становиться': 554,\n",
       " 'ващий': 555,\n",
       " 'вспоминать': 556,\n",
       " 'жена': 557,\n",
       " 'помощь': 558,\n",
       " 'простой': 559,\n",
       " 'фигня': 560,\n",
       " 'неговорить': 561,\n",
       " 'встретить': 562,\n",
       " 'смочь': 563,\n",
       " 'страница': 564,\n",
       " 'год': 565,\n",
       " 'мнеть': 566,\n",
       " 'нить': 567,\n",
       " 'встреча': 568,\n",
       " 'шок': 569,\n",
       " 'сожаление': 570,\n",
       " 'покупать': 571,\n",
       " 'сильный': 572,\n",
       " 'безумно': 573,\n",
       " 'сдавать': 574,\n",
       " 'лола': 575,\n",
       " 'стоять': 576,\n",
       " 'прямо': 577,\n",
       " 'кушать': 578,\n",
       " 'вкусный': 579,\n",
       " 'неуметь': 580,\n",
       " 'обязательно': 581,\n",
       " 'шикарный': 582,\n",
       " 'ответить': 583,\n",
       " 'горло': 584,\n",
       " 'число': 585,\n",
       " 'лёгкий': 586,\n",
       " 'уезжать': 587,\n",
       " 'странно': 588,\n",
       " 'кровать': 589,\n",
       " 'пост': 590,\n",
       " 'мненужный': 591,\n",
       " 'нахуй': 592,\n",
       " 'сладкий': 593,\n",
       " 'идея': 594,\n",
       " 'язык': 595,\n",
       " 'стол': 596,\n",
       " 'происходить': 597,\n",
       " 'испортить': 598,\n",
       " 'воскресение': 599,\n",
       " 'уметь': 600,\n",
       " '100': 601,\n",
       " 'прошлый': 602,\n",
       " 'прислать': 603,\n",
       " 'универ': 604,\n",
       " 'красный': 605,\n",
       " 'съесть': 606,\n",
       " 'алгебра': 607,\n",
       " 'живой': 608,\n",
       " 'сегодняшний': 609,\n",
       " 'достать': 610,\n",
       " 'муж': 611,\n",
       " 'пробка': 612,\n",
       " 'жрать': 613,\n",
       " 'ради': 614,\n",
       " 'тяжёлый': 615,\n",
       " 'белый': 616,\n",
       " 'метро': 617,\n",
       " 'л': 618,\n",
       " 'тёплый': 619,\n",
       " 'нето': 620,\n",
       " 'наушник': 621,\n",
       " 'весь': 622,\n",
       " 'отношение': 623,\n",
       " 'называть': 624,\n",
       " 'случиться': 625,\n",
       " 'всетаки': 626,\n",
       " 'очередной': 627,\n",
       " 'палец': 628,\n",
       " 'шк': 629,\n",
       " 'повод': 630,\n",
       " 'недать': 631,\n",
       " 'выглядеть': 632,\n",
       " 'классно': 633,\n",
       " 'lt3': 634,\n",
       " 'выспаться': 635,\n",
       " 'вести': 636,\n",
       " '13': 637,\n",
       " 'мать': 638,\n",
       " 'молодёжка': 639,\n",
       " 'tukvasociopat': 640,\n",
       " 'ездить': 641,\n",
       " 'дед': 642,\n",
       " 'удалить': 643,\n",
       " 'мило': 644,\n",
       " 'баба': 645,\n",
       " 'платье': 646,\n",
       " 'читатель': 647,\n",
       " 'вернуть': 648,\n",
       " 'получаться': 649,\n",
       " 'встретиться': 650,\n",
       " 'приезжать': 651,\n",
       " 'называться': 652,\n",
       " 'нетолько': 653,\n",
       " 'выздоравливать': 654,\n",
       " 'дура': 655,\n",
       " 'оставить': 656,\n",
       " 'заметить': 657,\n",
       " 'смеяться': 658,\n",
       " 'несмотреть': 659,\n",
       " 'волгоград': 660,\n",
       " 'неделать': 661,\n",
       " 'мнить': 662,\n",
       " 'аааа': 663,\n",
       " 'вчерашний': 664,\n",
       " 'отправить': 665,\n",
       " 'оценка': 666,\n",
       " 'учитель': 667,\n",
       " 'хуй': 668,\n",
       " 'попросить': 669,\n",
       " 'сложно': 670,\n",
       " 'путин': 671,\n",
       " 'ошибка': 672,\n",
       " 'сниться': 673,\n",
       " 'follow': 674,\n",
       " 'ток': 675,\n",
       " 'скинуть': 676,\n",
       " 'дааа': 677,\n",
       " 'хуйня': 678,\n",
       " 'неидти': 679,\n",
       " 'ооо': 680,\n",
       " 'цвет': 681,\n",
       " 'киев': 682,\n",
       " 'радоваться': 683,\n",
       " 'олимпиада': 684,\n",
       " 'настолько': 685,\n",
       " 'разговаривать': 686,\n",
       " 'питер': 687,\n",
       " 'недавать': 688,\n",
       " 'поднять': 689,\n",
       " 'проспать': 690,\n",
       " 'незабыть': 691,\n",
       " 'жуйк': 692,\n",
       " 'поздно': 693,\n",
       " 'несказать': 694,\n",
       " 'сломать': 695,\n",
       " 'кароч': 696,\n",
       " 'контакт': 697,\n",
       " 'рубль': 698,\n",
       " 'отвечать': 699,\n",
       " 'гдеть': 700,\n",
       " 'мечтать': 701,\n",
       " 'позитив': 702,\n",
       " 'ложиться': 703,\n",
       " 'список': 704,\n",
       " 'сосед': 705,\n",
       " 'катя': 706,\n",
       " 'спрашивать': 707,\n",
       " 'физр': 708,\n",
       " 'реклама': 709,\n",
       " 'ухо': 710,\n",
       " 'неполучиться': 711,\n",
       " 'кошка': 712,\n",
       " 'включить': 713,\n",
       " 'q': 714,\n",
       " 'неполучаться': 715,\n",
       " 'господь': 716,\n",
       " 'грустный': 717,\n",
       " 'ржать': 718,\n",
       " 'танцевать': 719,\n",
       " 'тепло': 720,\n",
       " 'смешно': 721,\n",
       " 'жизньболь': 722,\n",
       " 'показывать': 723,\n",
       " 'например': 724,\n",
       " 'инет': 725,\n",
       " 'отдать': 726,\n",
       " 'разговор': 727,\n",
       " 'коготь': 728,\n",
       " 'спасть': 729,\n",
       " 'почемуть': 730,\n",
       " 'умный': 731,\n",
       " 'время': 732,\n",
       " 'ненравиться': 733,\n",
       " 'заставить': 734,\n",
       " 'проходить': 735,\n",
       " 'откуда': 736,\n",
       " 'поздравить': 737,\n",
       " 'ах': 738,\n",
       " 'пацан': 739,\n",
       " 'зимний': 740,\n",
       " 'рисовать': 741,\n",
       " 'проводить': 742,\n",
       " 'нь': 743,\n",
       " 'собраться': 744,\n",
       " 'какаять': 745,\n",
       " 'футбол': 746,\n",
       " 'хрен': 747,\n",
       " 'врач': 748,\n",
       " 'кровь': 749,\n",
       " 'память': 750,\n",
       " 'больной': 751,\n",
       " 'ппц': 752,\n",
       " 'выпить': 753,\n",
       " 'принести': 754,\n",
       " 'альбом': 755,\n",
       " 'красиво': 756,\n",
       " 'майдан': 757,\n",
       " 'злой': 758,\n",
       " 'сутки': 759,\n",
       " 'ситуация': 760,\n",
       " 'вечно': 761,\n",
       " 'назвать': 762,\n",
       " 'почитать': 763,\n",
       " 'сюда': 764,\n",
       " 'тт': 765,\n",
       " 'подряд': 766,\n",
       " 'кататься': 767,\n",
       " 'понятно': 768,\n",
       " 'сложный': 769,\n",
       " 'пиво': 770,\n",
       " 'мнебыть': 771,\n",
       " 'тяжело': 772,\n",
       " 'просыпаться': 773,\n",
       " 'шутка': 774,\n",
       " 'ссылка': 775,\n",
       " 'мнетожий': 776,\n",
       " 'бл': 777,\n",
       " 'ктонибыть': 778,\n",
       " 'штука': 779,\n",
       " 'бросить': 780,\n",
       " 'невыспаться': 781,\n",
       " 'вариант': 782,\n",
       " 'отдыхать': 783,\n",
       " 'поесть': 784,\n",
       " 'мнеещё': 785,\n",
       " 'ноут': 786,\n",
       " 'снежок': 787,\n",
       " 'фраза': 788,\n",
       " 'команда': 789,\n",
       " 'чудо': 790,\n",
       " 'возможно': 791,\n",
       " 'компания': 792,\n",
       " '111213': 793,\n",
       " 'пропасть': 794,\n",
       " 'рассказывать': 795,\n",
       " 'фу': 796,\n",
       " 'случайно': 797,\n",
       " 'статус': 798,\n",
       " 'умирать': 799,\n",
       " 'впервые': 800,\n",
       " 'увы': 801,\n",
       " 'скачать': 802,\n",
       " 'красота': 803,\n",
       " 'менять': 804,\n",
       " 'сеть': 805,\n",
       " 'улыбка': 806,\n",
       " 'живот': 807,\n",
       " 'рад': 808,\n",
       " 'очередь': 809,\n",
       " 'добавить': 810,\n",
       " 'иметь': 811,\n",
       " 'серьёзно': 812,\n",
       " 'детский': 813,\n",
       " 'жесть': 814,\n",
       " 'неужели': 815,\n",
       " 'шапка': 816,\n",
       " 'свободный': 817,\n",
       " 'поиграть': 818,\n",
       " 'пздца': 819,\n",
       " 'результат': 820,\n",
       " 'четверг': 821,\n",
       " 'везти': 822,\n",
       " 'загадать': 823,\n",
       " 'несделать': 824,\n",
       " 'ахахахи': 825,\n",
       " 'поспать': 826,\n",
       " 'тупо': 827,\n",
       " 'извинить': 828,\n",
       " 'личный': 829,\n",
       " 'обычный': 830,\n",
       " 'хз': 831,\n",
       " 'даша': 832,\n",
       " 'третий': 833,\n",
       " 'тож': 834,\n",
       " 'teamfollowback': 835,\n",
       " 'держать': 836,\n",
       " 'плач': 837,\n",
       " 'спокойно': 838,\n",
       " 'геометрия': 839,\n",
       " 'почта': 840,\n",
       " 'ненайти': 841,\n",
       " 'нея': 842,\n",
       " 'улыбаться': 843,\n",
       " 'послушать': 844,\n",
       " 'устроить': 845,\n",
       " 'айфон': 846,\n",
       " 'тест': 847,\n",
       " 'счёт': 848,\n",
       " 'стараться': 849,\n",
       " 'центр': 850,\n",
       " 'главный': 851,\n",
       " 'оч': 852,\n",
       " 'мнение': 853,\n",
       " 'помоему': 854,\n",
       " 'тело': 855,\n",
       " 'судить': 856,\n",
       " 'чета': 857,\n",
       " 'дойти': 858,\n",
       " 'зуб': 859,\n",
       " 'согласный': 860,\n",
       " 'здорово': 861,\n",
       " 'зал': 862,\n",
       " 'gt': 863,\n",
       " 'идеальный': 864,\n",
       " 'стыдно': 865,\n",
       " 'шерлок': 866,\n",
       " 'здоровье': 867,\n",
       " 'завидовать': 868,\n",
       " 'мнея': 869,\n",
       " 'ciooptimal': 870,\n",
       " 'посидеть': 871,\n",
       " 'минь': 872,\n",
       " 'поздравление': 873,\n",
       " 'збс': 874,\n",
       " 'украина': 875,\n",
       " 'ад': 876,\n",
       " '2014': 877,\n",
       " 'внимание': 878,\n",
       " 'кончиться': 879,\n",
       " 'хреновый': 880,\n",
       " 'чтонибыть': 881,\n",
       " 'херня': 882,\n",
       " 'the': 883,\n",
       " 'снять': 884,\n",
       " 'выбрать': 885,\n",
       " 'среда': 886,\n",
       " 'эмоция': 887,\n",
       " 'звонок': 888,\n",
       " 'встречать': 889,\n",
       " 'неверить': 890,\n",
       " 'редко': 891,\n",
       " 'продолжать': 892,\n",
       " 'лететь': 893,\n",
       " 'забить': 894,\n",
       " 'невозможно': 895,\n",
       " 'биология': 896,\n",
       " 'неплохо': 897,\n",
       " 'закрыть': 898,\n",
       " 'решать': 899,\n",
       " 'название': 900,\n",
       " 'вика': 901,\n",
       " 'фига': 902,\n",
       " 'удачный': 903,\n",
       " 'зря': 904,\n",
       " 'хрень': 905,\n",
       " 'трудно': 906,\n",
       " 'путь': 907,\n",
       " 'клуб': 908,\n",
       " 'пользоваться': 909,\n",
       " '25': 910,\n",
       " 'отмечать': 911,\n",
       " 'скайп': 912,\n",
       " 'зимой': 913,\n",
       " 'выучить': 914,\n",
       " 'огонь': 915,\n",
       " 'возможность': 916,\n",
       " 'держаться': 917,\n",
       " 'напомнить': 918,\n",
       " 'приложение': 919,\n",
       " 'отдохнуть': 920,\n",
       " 'помогать': 921,\n",
       " 'внезапно': 922,\n",
       " 'нестать': 923,\n",
       " 'карта': 924,\n",
       " 'причём': 925,\n",
       " 'серый': 926,\n",
       " 'привыкнуть': 927,\n",
       " 'ааааа': 928,\n",
       " 'любим': 929,\n",
       " 'страдать': 930,\n",
       " 'mtvstars': 931,\n",
       " 'нифига': 932,\n",
       " 'дверь': 933,\n",
       " '40': 934,\n",
       " 'иначе': 935,\n",
       " 'программа': 936,\n",
       " 'пароль': 937,\n",
       " 'неспать': 938,\n",
       " 'снимать': 939,\n",
       " 'представлять': 940,\n",
       " 'звезда': 941,\n",
       " 'присниться': 942,\n",
       " 'переживать': 943,\n",
       " 'обед': 944,\n",
       " 'і': 945,\n",
       " 'российский': 946,\n",
       " 'срочно': 947,\n",
       " 'высокий': 948,\n",
       " 'просмотр': 949,\n",
       " 'плюс': 950,\n",
       " 'инстаграм': 951,\n",
       " 'типо': 952,\n",
       " 'дурацкий': 953,\n",
       " 'горячий': 954,\n",
       " 'невсе': 955,\n",
       " 'стих': 956,\n",
       " 'солнце': 957,\n",
       " 'дождаться': 958,\n",
       " 'спина': 959,\n",
       " 'домашний': 960,\n",
       " '50': 961,\n",
       " 'математика': 962,\n",
       " 'весна': 963,\n",
       " 'привезти': 964,\n",
       " 'вкус': 965,\n",
       " 'смешной': 966,\n",
       " 'приходиться': 967,\n",
       " 'нечитать': 968,\n",
       " 'море': 969,\n",
       " 'малый': 970,\n",
       " 'канал': 971,\n",
       " 'цена': 972,\n",
       " 'познакомиться': 973,\n",
       " 'смех': 974,\n",
       " 'собрать': 975,\n",
       " 'пипец': 976,\n",
       " 'победитель': 977,\n",
       " 'полностью': 978,\n",
       " 'сын': 979,\n",
       " 'жутко': 980,\n",
       " 'ч': 981,\n",
       " 'молчать': 982,\n",
       " 'получать': 983,\n",
       " 'смерть': 984,\n",
       " 'обидеться': 985,\n",
       " 'пьяный': 986,\n",
       " 'явно': 987,\n",
       " 'минус': 988,\n",
       " 'юм': 989,\n",
       " 'текст': 990,\n",
       " 'игрушка': 991,\n",
       " 'заставлять': 992,\n",
       " '0': 993,\n",
       " 'проект': 994,\n",
       " 'клип': 995,\n",
       " 'долгий': 996,\n",
       " 'впереди': 997,\n",
       " 'smampgt': 998,\n",
       " 'слава': 999,\n",
       " 'заказать': 1000,\n",
       " ...}"
      ]
     },
     "execution_count": 32,
     "metadata": {},
     "output_type": "execute_result"
    }
   ],
   "source": [
    "vocabulary = {v: k for k, v in dict(enumerate(tokens_filtered_top, 1)).items()}\n",
    "vocabulary"
   ]
  },
  {
   "cell_type": "code",
   "execution_count": 33,
   "metadata": {
    "executionInfo": {
     "elapsed": 220,
     "status": "ok",
     "timestamp": 1657304250727,
     "user": {
      "displayName": "Mariia Korliakova",
      "userId": "14165537686129864864"
     },
     "user_tz": -180
    },
    "id": "5OULZgvkJzpj"
   },
   "outputs": [],
   "source": [
    "import numpy as np\n",
    "\n",
    "\n",
    "def text_to_sequence(text, maxlen):\n",
    "    result = []\n",
    "    tokens = word_tokenize(text.lower())\n",
    "    tokens_filtered = [word for word in tokens if word.isalnum()]\n",
    "    for word in tokens_filtered:\n",
    "        if word in vocabulary:\n",
    "            result.append(vocabulary[word])\n",
    "\n",
    "    padding = [0] * (maxlen-len(result))\n",
    "    return result[-maxlen:] + padding"
   ]
  },
  {
   "cell_type": "code",
   "execution_count": 34,
   "metadata": {
    "colab": {
     "base_uri": "https://localhost:8080/"
    },
    "executionInfo": {
     "elapsed": 20143,
     "status": "ok",
     "timestamp": 1657304272443,
     "user": {
      "displayName": "Mariia Korliakova",
      "userId": "14165537686129864864"
     },
     "user_tz": -180
    },
    "id": "pqHlf5nNJ2hl",
    "outputId": "d20b9717-d2d7-4782-a1b2-08e02d9cb60e"
   },
   "outputs": [
    {
     "name": "stdout",
     "output_type": "stream",
     "text": [
      "CPU times: user 10.1 s, sys: 31.9 ms, total: 10.1 s\n",
      "Wall time: 10.1 s\n"
     ]
    }
   ],
   "source": [
    "%%time\n",
    "x_train = np.asarray([text_to_sequence(text, max_len) for text in df_train[\"text\"]])\n",
    "x_val = np.asarray([text_to_sequence(text, max_len) for text in df_val[\"text\"]])"
   ]
  },
  {
   "cell_type": "code",
   "execution_count": 35,
   "metadata": {
    "colab": {
     "base_uri": "https://localhost:8080/"
    },
    "executionInfo": {
     "elapsed": 226,
     "status": "ok",
     "timestamp": 1657304277026,
     "user": {
      "displayName": "Mariia Korliakova",
      "userId": "14165537686129864864"
     },
     "user_tz": -180
    },
    "id": "lI4NUg_TJ6NK",
    "outputId": "5f65b5da-f288-4bb7-ac1b-363cabda1ea5"
   },
   "outputs": [
    {
     "data": {
      "text/plain": [
       "(181467, 20)"
      ]
     },
     "execution_count": 35,
     "metadata": {},
     "output_type": "execute_result"
    }
   ],
   "source": [
    "x_train.shape"
   ]
  },
  {
   "cell_type": "code",
   "execution_count": 36,
   "metadata": {
    "colab": {
     "base_uri": "https://localhost:8080/",
     "height": 35
    },
    "executionInfo": {
     "elapsed": 221,
     "status": "ok",
     "timestamp": 1657304389426,
     "user": {
      "displayName": "Mariia Korliakova",
      "userId": "14165537686129864864"
     },
     "user_tz": -180
    },
    "id": "0I6B2MHb81pF",
    "outputId": "723a4ff9-b6d2-418a-a58b-7ab5ce0de677"
   },
   "outputs": [
    {
     "data": {
      "text/plain": [
       "'rt galyginvadim ребята девчата кино любовь завтра вотэтолюбовь'"
      ]
     },
     "execution_count": 36,
     "metadata": {},
     "output_type": "execute_result"
    }
   ],
   "source": [
    "df_train['text'].iloc[1]"
   ]
  },
  {
   "cell_type": "code",
   "execution_count": 37,
   "metadata": {
    "colab": {
     "base_uri": "https://localhost:8080/"
    },
    "executionInfo": {
     "elapsed": 319,
     "status": "ok",
     "timestamp": 1657304397469,
     "user": {
      "displayName": "Mariia Korliakova",
      "userId": "14165537686129864864"
     },
     "user_tz": -180
    },
    "id": "9QlLvXd9KDf3",
    "outputId": "b298a0a4-91bf-4ac3-9e0c-f3e7fac746dd"
   },
   "outputs": [
    {
     "data": {
      "text/plain": [
       "array([  1, 196, 429, 161,   5,   0,   0,   0,   0,   0,   0,   0,   0,\n",
       "         0,   0,   0,   0,   0,   0,   0])"
      ]
     },
     "execution_count": 37,
     "metadata": {},
     "output_type": "execute_result"
    }
   ],
   "source": [
    "x_train[1]"
   ]
  },
  {
   "cell_type": "code",
   "execution_count": 38,
   "metadata": {
    "executionInfo": {
     "elapsed": 223,
     "status": "ok",
     "timestamp": 1657305140473,
     "user": {
      "displayName": "Mariia Korliakova",
      "userId": "14165537686129864864"
     },
     "user_tz": -180
    },
    "id": "Ynw9XOZNK4Wp"
   },
   "outputs": [],
   "source": [
    "import torch\n",
    "import torch.nn as nn\n",
    "import torch.nn.functional as F\n",
    "\n",
    "\n",
    "class Net(nn.Module):\n",
    "    def __init__(self, vocab_size=2000, embedding_dim=128, out_channel=128, num_classes=1):\n",
    "        super().__init__()\n",
    "        self.embedding = nn.Embedding(vocab_size, embedding_dim)\n",
    "        self.conv_1 = nn.Conv1d(embedding_dim, out_channel, kernel_size=2)\n",
    "        self.conv_2 = nn.Conv1d(embedding_dim, out_channel, kernel_size=3)\n",
    "        self.pool = nn.MaxPool1d(2)\n",
    "        self.relu = nn.ReLU()\n",
    "        self.linear_1 = nn.Linear(out_channel, out_channel // 2)\n",
    "        self.linear_2 = nn.Linear(out_channel // 2, num_classes)\n",
    "        \n",
    "    def forward(self, x):        \n",
    "        output = self.embedding(x) # B, L, E\n",
    "        #                       B  E  L         \n",
    "        output = output.permute(0, 2, 1)\n",
    "        output = self.conv_1(output)\n",
    "        output = self.relu(output)\n",
    "        output = self.pool(output)\n",
    "\n",
    "        output = self.conv_2(output)\n",
    "        output = self.relu(output)\n",
    "        output = self.pool(output)\n",
    "        output = torch.max(output, axis=2).values\n",
    "        output = self.linear_1(output)\n",
    "        output = self.relu(output)\n",
    "        output = self.linear_2(output)\n",
    "        output = F.sigmoid(output)\n",
    "        return output"
   ]
  },
  {
   "cell_type": "code",
   "execution_count": 39,
   "metadata": {
    "executionInfo": {
     "elapsed": 228,
     "status": "ok",
     "timestamp": 1657305142838,
     "user": {
      "displayName": "Mariia Korliakova",
      "userId": "14165537686129864864"
     },
     "user_tz": -180
    },
    "id": "PhwK7yLAK8b0"
   },
   "outputs": [],
   "source": [
    "from torch.utils.data import DataLoader, Dataset\n",
    "\n",
    "\n",
    "class DataWrapper(Dataset):\n",
    "    def __init__(self, data, target, transform=None):\n",
    "        self.data = torch.from_numpy(data).long()\n",
    "        self.target = torch.from_numpy(target).long()\n",
    "        self.transform = transform\n",
    "        \n",
    "    def __getitem__(self, index):\n",
    "        x = self.data[index]\n",
    "        y = self.target[index]\n",
    "        \n",
    "        if self.transform:\n",
    "            x = self.transform(x)\n",
    "            \n",
    "        return x, y\n",
    "    \n",
    "    def __len__(self):\n",
    "        return len(self.data)"
   ]
  },
  {
   "cell_type": "code",
   "execution_count": 40,
   "metadata": {
    "executionInfo": {
     "elapsed": 238,
     "status": "ok",
     "timestamp": 1657305183097,
     "user": {
      "displayName": "Mariia Korliakova",
      "userId": "14165537686129864864"
     },
     "user_tz": -180
    },
    "id": "Qq0DK08tHKHf"
   },
   "outputs": [],
   "source": [
    "train_dataset = DataWrapper(x_train, df_train['class'].values)\n",
    "train_loader = DataLoader(train_dataset, batch_size=batch_size, shuffle=True)\n",
    "\n",
    "val_dataset = DataWrapper(x_val, df_val['class'].values)\n",
    "val_loader = DataLoader(val_dataset, batch_size=8, shuffle=True)"
   ]
  },
  {
   "cell_type": "code",
   "execution_count": 41,
   "metadata": {
    "colab": {
     "base_uri": "https://localhost:8080/"
    },
    "executionInfo": {
     "elapsed": 213,
     "status": "ok",
     "timestamp": 1657305207804,
     "user": {
      "displayName": "Mariia Korliakova",
      "userId": "14165537686129864864"
     },
     "user_tz": -180
    },
    "id": "J6v8MCvfPqJN",
    "outputId": "b3895d97-b37b-4384-a9af-f752a9425e47"
   },
   "outputs": [
    {
     "name": "stdout",
     "output_type": "stream",
     "text": [
      "torch.Size([512, 20])\n",
      "torch.Size([512])\n",
      "tensor(1)\n"
     ]
    }
   ],
   "source": [
    "for x, l in train_loader:\n",
    "    print(x.shape)\n",
    "    print(l.shape)\n",
    "    print(l[0])\n",
    "    break"
   ]
  },
  {
   "cell_type": "code",
   "execution_count": 42,
   "metadata": {
    "colab": {
     "base_uri": "https://localhost:8080/",
     "height": 35
    },
    "executionInfo": {
     "elapsed": 234,
     "status": "ok",
     "timestamp": 1657305277204,
     "user": {
      "displayName": "Mariia Korliakova",
      "userId": "14165537686129864864"
     },
     "user_tz": -180
    },
    "id": "F-3ExwIMG8BB",
    "outputId": "d1f8b34d-9108-4a05-c01f-d5ee1e1e36eb"
   },
   "outputs": [
    {
     "data": {
      "text/plain": [
       "'cuda'"
      ]
     },
     "execution_count": 42,
     "metadata": {},
     "output_type": "execute_result"
    }
   ],
   "source": [
    "model = Net(vocab_size=max_words)\n",
    "\n",
    "device = 'cuda' if torch.cuda.is_available() else 'cpu'\n",
    "device"
   ]
  },
  {
   "cell_type": "code",
   "execution_count": 43,
   "metadata": {
    "colab": {
     "base_uri": "https://localhost:8080/"
    },
    "executionInfo": {
     "elapsed": 245,
     "status": "ok",
     "timestamp": 1657305293673,
     "user": {
      "displayName": "Mariia Korliakova",
      "userId": "14165537686129864864"
     },
     "user_tz": -180
    },
    "id": "ayB6rEFkHB1D",
    "outputId": "1a57c3e2-3b6f-4a7e-d428-51cde605b769"
   },
   "outputs": [
    {
     "name": "stdout",
     "output_type": "stream",
     "text": [
      "Net(\n",
      "  (embedding): Embedding(2000, 128)\n",
      "  (conv_1): Conv1d(128, 128, kernel_size=(2,), stride=(1,))\n",
      "  (conv_2): Conv1d(128, 128, kernel_size=(3,), stride=(1,))\n",
      "  (pool): MaxPool1d(kernel_size=2, stride=2, padding=0, dilation=1, ceil_mode=False)\n",
      "  (relu): ReLU()\n",
      "  (linear_1): Linear(in_features=128, out_features=64, bias=True)\n",
      "  (linear_2): Linear(in_features=64, out_features=1, bias=True)\n",
      ")\n",
      "Parameters: 346497\n"
     ]
    }
   ],
   "source": [
    "print(model)\n",
    "print(\"Parameters:\", sum([param.nelement() for param in model.parameters()]))"
   ]
  },
  {
   "cell_type": "code",
   "execution_count": 44,
   "metadata": {
    "executionInfo": {
     "elapsed": 250,
     "status": "ok",
     "timestamp": 1657305308400,
     "user": {
      "displayName": "Mariia Korliakova",
      "userId": "14165537686129864864"
     },
     "user_tz": -180
    },
    "id": "vOpjN8zrHIfJ"
   },
   "outputs": [],
   "source": [
    "optimizer = torch.optim.Adam(model.parameters(), lr=0.01 )\n",
    "criterion = nn.BCELoss()"
   ]
  },
  {
   "cell_type": "code",
   "execution_count": 45,
   "metadata": {
    "colab": {
     "base_uri": "https://localhost:8080/"
    },
    "executionInfo": {
     "elapsed": 39463,
     "status": "ok",
     "timestamp": 1657305361107,
     "user": {
      "displayName": "Mariia Korliakova",
      "userId": "14165537686129864864"
     },
     "user_tz": -180
    },
    "id": "ee9kfUQaCXpl",
    "outputId": "c82b8205-c48d-4c5d-9d42-25d4a65b3279"
   },
   "outputs": [
    {
     "name": "stderr",
     "output_type": "stream",
     "text": [
      "/home/mariya/PycharmProjects/base/venv/lib/python3.8/site-packages/torch/nn/functional.py:1967: UserWarning: nn.functional.sigmoid is deprecated. Use torch.sigmoid instead.\n",
      "  warnings.warn(\"nn.functional.sigmoid is deprecated. Use torch.sigmoid instead.\")\n"
     ]
    },
    {
     "name": "stdout",
     "output_type": "stream",
     "text": [
      "Epoch [1/5]. Step [355/355]. Loss: 0.584. Acc: 0.685. Test loss: 0.809. Test acc: 0.707\n",
      "Epoch [2/5]. Step [355/355]. Loss: 0.520. Acc: 0.720. Test loss: 0.798. Test acc: 0.711\n",
      "Epoch [3/5]. Step [355/355]. Loss: 0.593. Acc: 0.731. Test loss: 0.545. Test acc: 0.709\n",
      "Epoch [4/5]. Step [355/355]. Loss: 0.527. Acc: 0.742. Test loss: 0.377. Test acc: 0.712\n",
      "Epoch [5/5]. Step [355/355]. Loss: 0.414. Acc: 0.754. Test loss: 0.075. Test acc: 0.713\n",
      "Training is finished!\n"
     ]
    }
   ],
   "source": [
    "model = model.to(device)\n",
    "model.train()\n",
    "th = 0.5\n",
    "\n",
    "train_loss_history = []\n",
    "test_loss_history = []\n",
    "\n",
    "\n",
    "for epoch in range(epochs):  \n",
    "    running_items, running_right = 0.0, 0.0\n",
    "    for i, data in enumerate(train_loader, 0):\n",
    "        inputs, labels = data[0].to(device), data[1].to(device)\n",
    "        \n",
    "        # обнуляем градиент\n",
    "        optimizer.zero_grad()\n",
    "        outputs = model(inputs)\n",
    "        \n",
    "        loss = criterion(outputs, labels.float().view(-1, 1))\n",
    "        loss.backward()\n",
    "        optimizer.step()\n",
    "\n",
    "        # подсчет ошибки на обучении\n",
    "        loss = loss.item()\n",
    "        running_items += len(labels)\n",
    "        # подсчет метрики на обучении\n",
    "        pred_labels = torch.squeeze((outputs > th).int())\n",
    "        running_right += (labels == pred_labels).sum()\n",
    "        \n",
    "    # выводим статистику о процессе обучения\n",
    "    model.eval()\n",
    "    \n",
    "    print(f'Epoch [{epoch + 1}/{epochs}]. ' \\\n",
    "            f'Step [{i + 1}/{len(train_loader)}]. ' \\\n",
    "            f'Loss: {loss:.3f}. ' \\\n",
    "            f'Acc: {running_right / running_items:.3f}', end='. ')\n",
    "    running_loss, running_items, running_right = 0.0, 0.0, 0.0\n",
    "    train_loss_history.append(loss)\n",
    "\n",
    "        # выводим статистику на тестовых данных\n",
    "    test_running_right, test_running_total, test_loss = 0.0, 0.0, 0.0\n",
    "    for j, data in enumerate(val_loader):\n",
    "        test_labels = data[1].to(device)\n",
    "        test_outputs = model(data[0].to(device))\n",
    "        \n",
    "        # подсчет ошибки на тесте\n",
    "        test_loss = criterion(test_outputs, test_labels.float().view(-1, 1))\n",
    "        # подсчет метрики на тесте\n",
    "        test_running_total += len(data[1])\n",
    "        pred_test_labels = torch.squeeze((test_outputs > th).int())\n",
    "        test_running_right += (test_labels == pred_test_labels).sum()\n",
    "    \n",
    "    test_loss_history.append(test_loss.item())\n",
    "    print(f'Test loss: {test_loss:.3f}. Test acc: {test_running_right / test_running_total:.3f}')\n",
    "    \n",
    "    model.train()\n",
    "        \n",
    "print('Training is finished!')"
   ]
  },
  {
   "cell_type": "code",
   "execution_count": 46,
   "metadata": {
    "colab": {
     "base_uri": "https://localhost:8080/",
     "height": 295
    },
    "executionInfo": {
     "elapsed": 284,
     "status": "ok",
     "timestamp": 1657305440678,
     "user": {
      "displayName": "Mariia Korliakova",
      "userId": "14165537686129864864"
     },
     "user_tz": -180
    },
    "id": "jRFEu1X4jpLU",
    "outputId": "62e46faa-d206-465e-ee00-d7a76df0c32f"
   },
   "outputs": [
    {
     "data": {
      "image/png": "[encoded data removed]",
      "text/plain": [
       "<Figure size 640x480 with 1 Axes>"
      ]
     },
     "metadata": {},
     "output_type": "display_data"
    }
   ],
   "source": [
    "import matplotlib.pyplot as plt\n",
    "\n",
    "plt.title('Loss history')\n",
    "plt.grid(True)\n",
    "plt.ylabel('Loss')\n",
    "plt.xlabel('Epoch')\n",
    "plt.plot(train_loss_history, label='train')\n",
    "plt.plot(test_loss_history, label='test')\n",
    "plt.legend();"
   ]
  },
  {
   "cell_type": "code",
   "execution_count": 47,
   "metadata": {},
   "outputs": [
    {
     "data": {
      "text/plain": [
       "torch.Size([3, 1])"
      ]
     },
     "execution_count": 47,
     "metadata": {},
     "output_type": "execute_result"
    }
   ],
   "source": [
    "test_outputs.shape"
   ]
  },
  {
   "cell_type": "code",
   "execution_count": 48,
   "metadata": {},
   "outputs": [
    {
     "data": {
      "text/plain": [
       "(tensor([[0.9192],\n",
       "         [0.0175],\n",
       "         [0.8854]], device='cuda:0', grad_fn=<SigmoidBackward0>),\n",
       " tensor([1, 0, 1], device='cuda:0'))"
      ]
     },
     "execution_count": 48,
     "metadata": {},
     "output_type": "execute_result"
    }
   ],
   "source": [
    "test_outputs, test_labels"
   ]
  },
  {
   "cell_type": "markdown",
   "metadata": {
    "id": "bzjJy15I3r9U"
   },
   "source": [
    "## Домашнее задание\n",
    "1. Попробуйте обучить нейронную сеть с применением одномерных сверток для предсказания сентимента сообщений с твитера на примере https://www.kaggle.com/datasets/arkhoshghalb/twitter-sentiment-analysis-hatred-speech\n",
    "\n",
    "2. Опишите, какой результат вы получили? Что помогло вам улучшить ее точность?\n",
    "\n",
    "У кого нет возможности работать через каггл (нет верификации), то можете данные взять по ссылке: https://drive.google.com/file/d/1S0hslcWDrwxA5GH4U32mfg85lAVLqkq5/view?usp=sharing"
   ]
  },
  {
   "cell_type": "code",
   "execution_count": null,
   "metadata": {
    "id": "pxrx8gGqpQe-"
   },
   "outputs": [],
   "source": []
  },
  {
   "cell_type": "markdown",
   "metadata": {
    "id": "ZO4g8bJeuzah"
   },
   "source": [
    "Вопросы:\n",
    "\n",
    "А. Что такое токен:\n",
    "\n",
    "  1. слово из текста\n",
    "  2. индекс слова из текста по словарю\n",
    "  3. номер слова в тексте\n",
    "\n",
    "В. Зачем делать лематизации:\n",
    "\n",
    "  1. для сниженя числа оригинальных слов словаря\n",
    "  2. для снижения числа слов в предложении\n",
    "  3. для уменьшения модели\n",
    "\n",
    "С. Что сложнее стеминг или лематизация:\n",
    "\n",
    "  1. стеминг\n",
    "  2. лематизация\n",
    "\n",
    "D. Сколько весов в слое torch.nn.Conv1d(10, 2, kernel_size=5, bias=False):\n",
    "\n",
    "  1. 25\n",
    "  2. 5\n",
    "  3. 50\n",
    "  4. 60\n",
    "\n",
    "Е. Какой размерностью обладает тензор на выходе слоя torch.nn.Conv1d(1, 2, kernel_size=5, bias=False):\n",
    "\n",
    "  1. 1\n",
    "  2. 2\n",
    "  3. 3\n",
    "  4. 4\n",
    "\n",
    "F. Какой размерностью обладает тензор на выходе слоя nn.Embedding(100, 128) с длиной послдовательности 10\n",
    "\n",
    "  1. None, 100,128\n",
    "  2. None, 128,100\n",
    "  3. None, 10, 128\n",
    "  4. None, 128, 10"
   ]
  },
  {
   "cell_type": "code",
   "execution_count": null,
   "metadata": {
    "id": "2-KczOpEzI0Q"
   },
   "outputs": [],
   "source": []
  }
 ],
 "metadata": {
  "accelerator": "GPU",
  "colab": {
   "collapsed_sections": [],
   "name": "web_6.ipynb",
   "provenance": [
    {
     "file_id": "1WgwQ-cYhMmkeXpxrr3sLU4DJEcbcikkH",
     "timestamp": 1657278544369
    }
   ]
  },
  "kernelspec": {
   "display_name": "Python 3 (ipykernel)",
   "language": "python",
   "name": "python3"
  },
  "language_info": {
   "codemirror_mode": {
    "name": "ipython",
    "version": 3
   },
   "file_extension": ".py",
   "mimetype": "text/x-python",
   "name": "python",
   "nbconvert_exporter": "python",
   "pygments_lexer": "ipython3",
   "version": "3.11.2"
  }
 },
 "nbformat": 4,
 "nbformat_minor": 4
}
