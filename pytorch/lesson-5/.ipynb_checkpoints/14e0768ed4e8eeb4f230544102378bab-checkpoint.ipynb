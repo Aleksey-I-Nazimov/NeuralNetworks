{
 "cells": [
  {
   "cell_type": "markdown",
   "metadata": {
    "id": "u1WAmYi7REeJ"
   },
   "source": [
    "<h1><center>Сегментация изображений</center></h1>"
   ]
  },
  {
   "cell_type": "markdown",
   "metadata": {
    "id": "sjtPv5jsREeN"
   },
   "source": [
    "<img src='https://drive.google.com/uc?export=view&id=14tXL-rgIASSAw9v5Sn4fkTsAs_Lq6hkW'>"
   ]
  },
  {
   "cell_type": "markdown",
   "metadata": {
    "id": "Iie_sGTeREeO"
   },
   "source": [
    "## План занятия:\n",
    "\n",
    "* Что такое сегментации изображений\n",
    "* Где данная технология применяется\n",
    "* Методы сегментации\n",
    "* Архитектура U-net\n",
    "* Подготовка датасета\n",
    "* Обучение модели\n",
    "* Тестирование\n"
   ]
  },
  {
   "cell_type": "markdown",
   "metadata": {
    "id": "IwGXHsNnREeP"
   },
   "source": [
    "<h1><center>Теория</center></h1>\n",
    "\n",
    "На данный момент мы находимся в ситуации, когда глубокое обучение оказывается очень успешным при работе с изображениями как данными, и в настоящее время получается так, что оно во многих случаях работает даже лучше, чем люди. Наиболее важные проблемы, которыми люди интересовались в решении задач компьютерного зрения - классификация изображений, детекция объектов и сегментация.    \n",
    "В результате решения задачи классификации мы хотим получить все классы объектов на изображении. В детектировании объектов мы идем на шаг дальше и работаем над локализацией объекта на изображении. В сегментации решается задача нахождения точной границы объекта на изображении.\n",
    "\n",
    "## Что такое сегментация\n",
    "\n",
    "Сегментация - это процесс, благодаря которому каждый пиксель изображения относится в определенный класс (попиксельная классификация). Существует два вида сегментаций: семантическая и инстанс-сегментация.   \n",
    "Семантическая сегментация изображения означает присвоение каждому пикселю определенной метки. В этом заключается главное отличие от классификации, где всему изображению ставится в соответствие только одна метка. Сегментация работает со множеством объектов одного класса как с единым целым.   \n",
    "Инстанс-сегментация делает тоже самое, но дополнительно обрабатывает каждый отдельный найденный объект одного класса как различные объекты. Решение задачи инстанс-сегментации сложнее, чем семантическая сегментация.\n",
    "\n",
    "<img src='https://drive.google.com/uc?Export=view&id=1aTCg1SfYXRoeT0rfX5t2bALv9eW-nAwW'>"
   ]
  },
  {
   "cell_type": "markdown",
   "metadata": {
    "id": "mbPTQZvNREeR"
   },
   "source": [
    "## Применение алгоритмов сегментации в реальной жизни\n",
    "\n",
    "1) Распознавание рукописного текста:\n",
    "\n",
    "В [работе](https://arxiv.org/pdf/1906.05229.pdf) 2019 года показано как с помощью U-net находятся линии и текст от руки.\n",
    "\n",
    "<img src='https://drive.google.com/uc?export=view&id=1xGqJcVBjPPdoJ2jj2BQJGM-WpJ8Xk82N' width=400>\n",
    "\n",
    "2) Сегментация медицинских изображений\n",
    "\n",
    "Первое упоминание архитектуры, которую мы сегодня будем разбирать было сделано в этой [статье](https://arxiv.org/abs/1505.04597). И касалось оно сегментации медицинских изображений. С помощью этих методов можно анализировать например состояние внутренних органов: проверять их целостность и объем (трехмерная семантическая сегментация), находить опухоли.\n",
    "\n",
    "<img src='https://drive.google.com/uc?export=view&id=1Ai2T55uDc8LT6R2y86U4rM-G5wnIHOG1' width=500>\n",
    "\n",
    "3) Режим portrait mode \n",
    "\n",
    "В этом режиме на смартфонах можно отделить передний план от фона. И, например, заблюрить фон, сфокусировав внимание на персоне в кадре. Эта технология широко применяется в смартфонах.\n",
    "\n",
    "<img src='https://drive.google.com/uc?export=view&id=10Yn_MVr445dovUIE1Gq-Pm1ImROvnc6F' width=400>\n",
    "\n",
    "\n",
    "4) Индустрия моды\n",
    "\n",
    "Используется для извлечения с кадра элементов одежды. Таким образом пользователь может примерять разную одежду онлайн. Например, стартап из Минска [WannaBy](https://wanna.by/), с которыми [Lamoda](https://vc.ru/services/79510-lamoda-zapustila-v-prilozhenii-na-ios-virtualnuyu-primerku-krossovok-ot-belorusskogo-ar-startapa-wannaby) и  многие итальянские компании сотрудничают по части онлайн примерки.\n",
    "\n",
    "<img src='https://drive.google.com/uc?export=view&id=1OXoq1fKdlhKTwQMEgmbrGTxfBeclyiqk' width=400>\n",
    "\n",
    "5) Автономное вождение\n",
    "\n",
    "Здесь алгоритмы сегментации используются для обнаружения транспортных средств, пешеходов и других предметов, представляющих интерес. Затем результат сегментации используется для принятия решений по оптимальному управлению автопилотируемым транспортным средством. Как раз в таких системах очень важно понимать границы объектов.\n",
    "\n",
    "<img src='https://camo.githubusercontent.com/e1b0c868f88e720e877f21eed82ea9c246b0c1d9c16d9fbd0c827c6104be69b2/68747470733a2f2f6d69726f2e6d656469756d2e636f6d2f6d61782f3634302f302a513163452d4c56696c595644486a5163'>"
   ]
  },
  {
   "cell_type": "markdown",
   "metadata": {
    "id": "dHdz6mqeIOjY"
   },
   "source": [
    "Для тренировки нейронных сетей решающих задачу сегментирования применяются свои специальные датасеты, в которых размечена маска изображения, например, такие как [PASCAL Visual Object Classes](http://host.robots.ox.ac.uk/pascal/VOC/) или [COCO (Common Objects in Context)](https://cocodataset.org/). Датасетов для сегментации меньше и они сложнее в составлении. Поэтому существует распространенная практика использования предобученнной нейронной сети, например, на ImageNet, в качестве части отвественной за восприятие объектов. Затем уже нейронная сеть доубучается на размеченных масках с помощью специальных датасетов."
   ]
  },
  {
   "cell_type": "markdown",
   "metadata": {
    "id": "x_Cv32Wcme_f"
   },
   "source": [
    "Иногда маски не хранят в растровом представлении, а используют маску в закодированном в последовательность виде, к примеру, RLE (run-length encoding, кодирование длин серий) — алгоритм сжатия данных, заменяющий повторяющиеся символы (серии) на один символ и число его повторов. Серией называется последовательность, состоящая из нескольких одинаковых символов.\n",
    " "
   ]
  },
  {
   "cell_type": "code",
   "execution_count": 1,
   "metadata": {
    "executionInfo": {
     "elapsed": 233,
     "status": "ok",
     "timestamp": 1666286585925,
     "user": {
      "displayName": "Mariia Korliakova",
      "userId": "14165537686129864864"
     },
     "user_tz": -180
    },
    "id": "51_ikniQnAWN"
   },
   "outputs": [],
   "source": [
    "def rle_decode(mask_rle, shape=(1080, 512, 1)):\n",
    "    '''\n",
    "    mask_rle: run-length as string formated (start length)\n",
    "    shape: (height,width) of array to return \n",
    "    Returns numpy array, 1 - mask, 0 - background\n",
    "    '''\n",
    "    img = np.zeros(shape[0]*shape[1], dtype=np.uint8)\n",
    "\n",
    "    s = mask_rle.split()\n",
    "    # print(s)\n",
    "    # print(s[0:][::2], s[1:][::2])\n",
    "    starts, lengths = [np.asarray(x, dtype=int) for x in (s[0:][::2], s[1:][::2])]\n",
    "    starts -= 1\n",
    "\n",
    "    ends = starts + lengths    \n",
    "    for lo, hi in zip(starts, ends):\n",
    "        img[lo:hi] = 1\n",
    "        \n",
    "    img = img.reshape(shape)\n",
    "    return img"
   ]
  },
  {
   "cell_type": "code",
   "execution_count": 2,
   "metadata": {
    "colab": {
     "base_uri": "https://localhost:8080/",
     "height": 265
    },
    "executionInfo": {
     "elapsed": 259,
     "status": "ok",
     "timestamp": 1666286591467,
     "user": {
      "displayName": "Mariia Korliakova",
      "userId": "14165537686129864864"
     },
     "user_tz": -180
    },
    "id": "cedtJnCmnGbQ",
    "outputId": "8e3a0e84-f2f7-4e1c-ad8c-8e36e9536c36"
   },
   "outputs": [
    {
     "data": {
      "image/png": "[encoded data removed]",
      "text/plain": [
       "<Figure size 640x480 with 1 Axes>"
      ]
     },
     "metadata": {},
     "output_type": "display_data"
    }
   ],
   "source": [
    "import numpy as np\n",
    "import matplotlib.pyplot as plt\n",
    "\n",
    "\n",
    "rle_string = '3 4 10 1 15 1 17 1 24 1 33 8'\n",
    "\n",
    "mask = rle_decode(rle_string, shape=(8, 8))\n",
    "plt.imshow(mask.reshape(8, 8), cmap='gray');"
   ]
  },
  {
   "cell_type": "markdown",
   "metadata": {
    "id": "tpCRNQN1REeT"
   },
   "source": [
    "## Краткий обзор методов сегментации\n",
    "\n",
    "Методы глубокого обучения позволяют добиваться хороших результатов в задаче семантической сегментации изображений. Здесь мы вкратце обсудим алгоритмы и популярные архитектуры моделей, которые применяются в решении задачи сегментации."
   ]
  },
  {
   "cell_type": "markdown",
   "metadata": {
    "id": "eD-thGI8UQ_L"
   },
   "source": [
    "\n",
    "### Fully Convolutional Network\n",
    "\n",
    "Одна из самых простых архитектур - это [FCN](https://towardsdatascience.com/review-fcn-semantic-segmentation-eb8c9b50d2d1) (Fully Convolutional Network). Это первая удачная попытка использования нейронной сети для задачи семантической сегментации. В этой архитектуре все слои сверточные. На выходе используется как правило один деконволюционный слой.\n",
    "Одна из основных проблем - это низкое разрешение на выходе.\n",
    "\n",
    "<img src='https://drive.google.com/uc?export=view&id=1-XxAqreNk-5p7Ak5sl4oIeCuaJ_x6OH2' width=500>\n"
   ]
  },
  {
   "cell_type": "code",
   "execution_count": 3,
   "metadata": {
    "executionInfo": {
     "elapsed": 375,
     "status": "ok",
     "timestamp": 1666286958116,
     "user": {
      "displayName": "Mariia Korliakova",
      "userId": "14165537686129864864"
     },
     "user_tz": -180
    },
    "id": "L6COP8bBLLB4"
   },
   "outputs": [],
   "source": [
    "from torch import nn"
   ]
  },
  {
   "cell_type": "code",
   "execution_count": 6,
   "metadata": {
    "colab": {
     "base_uri": "https://localhost:8080/",
     "height": 283
    },
    "executionInfo": {
     "elapsed": 1260,
     "status": "ok",
     "timestamp": 1666287008171,
     "user": {
      "displayName": "Mariia Korliakova",
      "userId": "14165537686129864864"
     },
     "user_tz": -180
    },
    "id": "VIq6YBNyLj2v",
    "outputId": "209d6da7-1b9d-44ad-a04c-18463689c2de"
   },
   "outputs": [
    {
     "name": "stdout",
     "output_type": "stream",
     "text": [
      "(14, 14, 3)\n"
     ]
    },
    {
     "data": {
      "image/png": "[encoded data removed]",
      "text/plain": [
       "<Figure size 640x480 with 1 Axes>"
      ]
     },
     "metadata": {},
     "output_type": "display_data"
    }
   ],
   "source": [
    "from scipy import misc\n",
    "import matplotlib.pyplot as plt\n",
    "\n",
    "\n",
    "img = misc.face()\n",
    "img = img[40:54, 50:64]\n",
    "print(img.shape)\n",
    "plt.imshow(img);"
   ]
  },
  {
   "cell_type": "code",
   "execution_count": 7,
   "metadata": {
    "colab": {
     "base_uri": "https://localhost:8080/"
    },
    "executionInfo": {
     "elapsed": 263,
     "status": "ok",
     "timestamp": 1666287024829,
     "user": {
      "displayName": "Mariia Korliakova",
      "userId": "14165537686129864864"
     },
     "user_tz": -180
    },
    "id": "UY2kPcQVL71K",
    "outputId": "a8d20880-896b-4a1e-92dc-9f9e5b72686e"
   },
   "outputs": [
    {
     "name": "stderr",
     "output_type": "stream",
     "text": [
      "/home/mariya/PycharmProjects/base/venv/lib/python3.8/site-packages/torchvision/transforms/functional.py:149: UserWarning: The given NumPy array is not writable, and PyTorch does not support non-writable tensors. This means writing to this tensor will result in undefined behavior. You may want to copy the array to protect its data or make it writable before converting it to a tensor. This type of warning will be suppressed for the rest of this program. (Triggered internally at ../torch/csrc/utils/tensor_numpy.cpp:199.)\n",
      "  img = torch.from_numpy(pic.transpose((2, 0, 1))).contiguous()\n"
     ]
    },
    {
     "data": {
      "text/plain": [
       "torch.Size([3, 14, 14])"
      ]
     },
     "execution_count": 7,
     "metadata": {},
     "output_type": "execute_result"
    }
   ],
   "source": [
    "from torchvision.transforms import ToTensor\n",
    "\n",
    "img_tensor = ToTensor()(img)\n",
    "img_tensor.shape"
   ]
  },
  {
   "cell_type": "code",
   "execution_count": 8,
   "metadata": {
    "executionInfo": {
     "elapsed": 365,
     "status": "ok",
     "timestamp": 1666287350203,
     "user": {
      "displayName": "Mariia Korliakova",
      "userId": "14165537686129864864"
     },
     "user_tz": -180
    },
    "id": "mb9FZMdoLNIW"
   },
   "outputs": [],
   "source": [
    "upsamle = nn.Upsample( scale_factor=(16, 16),\n",
    "                      mode='bilinear',\n",
    "                      #mode='nearest',\n",
    "                      )\n",
    "#upsamle.weight"
   ]
  },
  {
   "cell_type": "code",
   "execution_count": 9,
   "metadata": {
    "colab": {
     "base_uri": "https://localhost:8080/",
     "height": 287
    },
    "executionInfo": {
     "elapsed": 523,
     "status": "ok",
     "timestamp": 1666287223270,
     "user": {
      "displayName": "Mariia Korliakova",
      "userId": "14165537686129864864"
     },
     "user_tz": -180
    },
    "id": "6pRCVPXtMN0F",
    "outputId": "3e24ef60-82b8-4cde-c0e7-e4473bbd0d29"
   },
   "outputs": [
    {
     "name": "stdout",
     "output_type": "stream",
     "text": [
      "torch.Size([3, 224, 224])\n"
     ]
    },
    {
     "data": {
      "image/png": "[encoded data removed]",
      "text/plain": [
       "<Figure size 640x480 with 1 Axes>"
      ]
     },
     "metadata": {},
     "output_type": "display_data"
    }
   ],
   "source": [
    "upsamled_img = upsamle(img_tensor[None])[0]\n",
    "print(upsamled_img.shape)\n",
    "plt.imshow(upsamled_img.permute(1, 2, 0));"
   ]
  },
  {
   "cell_type": "markdown",
   "metadata": {
    "id": "m44nNeHCPhqZ"
   },
   "source": [
    "<table>\n",
    "<tr>\n",
    "<td><img src='https://drive.google.com/uc?export=view&id=10dBpbTIqysMVBeK-uw7-fjIaOaqGyivR' width=400>\n",
    "</td>\n",
    "<td>\n",
    "<img src='https://drive.google.com/uc?export=view&id=1U9fe3rFasxK-kxwtWN_vOifynJgYEKPK' width=400>\n",
    "</td>\n",
    "</tr>\n",
    "</table>"
   ]
  },
  {
   "cell_type": "code",
   "execution_count": 14,
   "metadata": {
    "colab": {
     "base_uri": "https://localhost:8080/"
    },
    "executionInfo": {
     "elapsed": 269,
     "status": "ok",
     "timestamp": 1666287323628,
     "user": {
      "displayName": "Mariia Korliakova",
      "userId": "14165537686129864864"
     },
     "user_tz": -180
    },
    "id": "Ff1Kdk1YNVoD",
    "outputId": "63a4571b-837b-43ec-86a4-690942cc453f"
   },
   "outputs": [
    {
     "data": {
      "text/plain": [
       "torch.Size([3, 3, 15, 15])"
      ]
     },
     "execution_count": 14,
     "metadata": {},
     "output_type": "execute_result"
    }
   ],
   "source": [
    "conv = nn.ConvTranspose2d(in_channels=3,\n",
    "                          out_channels=3,\n",
    "                          stride=5,\n",
    "                          kernel_size=15)\n",
    "conv.weight.shape"
   ]
  },
  {
   "cell_type": "code",
   "execution_count": 15,
   "metadata": {
    "colab": {
     "base_uri": "https://localhost:8080/",
     "height": 306
    },
    "executionInfo": {
     "elapsed": 1039,
     "status": "ok",
     "timestamp": 1666287404530,
     "user": {
      "displayName": "Mariia Korliakova",
      "userId": "14165537686129864864"
     },
     "user_tz": -180
    },
    "id": "sAYxRCWkNVoV",
    "outputId": "1f8ce101-dd24-4109-8924-d2c662ecc72f"
   },
   "outputs": [
    {
     "name": "stderr",
     "output_type": "stream",
     "text": [
      "Clipping input data to the valid range for imshow with RGB data ([0..1] for floats or [0..255] for integers).\n"
     ]
    },
    {
     "name": "stdout",
     "output_type": "stream",
     "text": [
      "torch.Size([3, 80, 80])\n"
     ]
    },
    {
     "data": {
      "image/png": "[encoded data removed]",
      "text/plain": [
       "<Figure size 640x480 with 1 Axes>"
      ]
     },
     "metadata": {},
     "output_type": "display_data"
    }
   ],
   "source": [
    "conv_img = conv(img_tensor[None])[0].detach()\n",
    "print(conv_img.shape)\n",
    "plt.imshow(conv_img.permute(1, 2, 0)/conv_img.max());"
   ]
  },
  {
   "cell_type": "markdown",
   "metadata": {
    "id": "jSy7mAIZhgIm"
   },
   "source": [
    "Есть неочевидная проблема с размерностями изображений после свертки:\n",
    "когда stride > 1 возможно получить одинаковые выходные тензоры для разных входов, к примеру, 7x7 и 8x8 вернут одинаковый 3x3 выход."
   ]
  },
  {
   "cell_type": "code",
   "execution_count": 16,
   "metadata": {
    "colab": {
     "base_uri": "https://localhost:8080/"
    },
    "executionInfo": {
     "elapsed": 571,
     "status": "ok",
     "timestamp": 1666287690116,
     "user": {
      "displayName": "Mariia Korliakova",
      "userId": "14165537686129864864"
     },
     "user_tz": -180
    },
    "id": "fxfLNahufrcg",
    "outputId": "c9658528-5191-4b25-9b98-9a75f979ba3a"
   },
   "outputs": [
    {
     "name": "stdout",
     "output_type": "stream",
     "text": [
      "torch.Size([3, 7, 7])\n",
      "torch.Size([3, 8, 8])\n"
     ]
    }
   ],
   "source": [
    "img_7 = img[:7, :7]\n",
    "img_8 = img[:8, :8]\n",
    "\n",
    "img_7_tensor = ToTensor()(img_7)\n",
    "img_8_tensor = ToTensor()(img_8)\n",
    "\n",
    "print(img_7_tensor.shape)\n",
    "print(img_8_tensor.shape)"
   ]
  },
  {
   "cell_type": "code",
   "execution_count": 17,
   "metadata": {
    "colab": {
     "base_uri": "https://localhost:8080/"
    },
    "executionInfo": {
     "elapsed": 273,
     "status": "ok",
     "timestamp": 1666287795218,
     "user": {
      "displayName": "Mariia Korliakova",
      "userId": "14165537686129864864"
     },
     "user_tz": -180
    },
    "id": "RkkEDypWgDWb",
    "outputId": "a0fd6fd0-e259-4732-b8fe-d2f5d38bbb34"
   },
   "outputs": [
    {
     "name": "stdout",
     "output_type": "stream",
     "text": [
      "torch.Size([1, 3, 3, 3])\n",
      "torch.Size([1, 3, 3, 3])\n"
     ]
    }
   ],
   "source": [
    "conv1 = nn.Conv2d(in_channels=3,\n",
    "                  out_channels=3,\n",
    "                  kernel_size=3,\n",
    "                  stride=2)\n",
    "\n",
    "out1 = conv1(img_7_tensor[None])     \n",
    "out2 = conv1(img_8_tensor[None])\n",
    "print(out1.shape)         # torch.Size([1, 3, 3, 3])\n",
    "print(out2.shape)         # torch.Size([1, 3, 3, 3])"
   ]
  },
  {
   "cell_type": "markdown",
   "metadata": {
    "id": "n1z1P_8Fgxc0"
   },
   "source": [
    "А когда применяем транспонированную свертку, то неясно, какой размерности должен быть выходной тензор, 7x7 или 8x8 для stride=2. output_padding помогает pytorch определить возвращать 7x7 или 8x8. Это не просто дополняет ноликами вокруг изображения, а всего лишь помогает понять, что именно возвращать."
   ]
  },
  {
   "cell_type": "code",
   "execution_count": 18,
   "metadata": {
    "colab": {
     "base_uri": "https://localhost:8080/"
    },
    "executionInfo": {
     "elapsed": 268,
     "status": "ok",
     "timestamp": 1666287907768,
     "user": {
      "displayName": "Mariia Korliakova",
      "userId": "14165537686129864864"
     },
     "user_tz": -180
    },
    "id": "fVxprPrAgVA7",
    "outputId": "037c318e-2e2c-4117-9952-760963cfde9c"
   },
   "outputs": [
    {
     "name": "stdout",
     "output_type": "stream",
     "text": [
      "torch.Size([1, 3, 7, 7])\n",
      "torch.Size([1, 3, 8, 8])\n"
     ]
    }
   ],
   "source": [
    "conv_t1 = nn.ConvTranspose2d(in_channels=3,\n",
    "                             out_channels=3,\n",
    "                             kernel_size=3,\n",
    "                             stride=2)\n",
    "conv_t2 = nn.ConvTranspose2d(in_channels=3,\n",
    "                             out_channels=3,\n",
    "                             kernel_size=3,\n",
    "                             stride=2,\n",
    "                             output_padding=1)\n",
    "transposed1 = conv_t1(out1)\n",
    "transposed2 = conv_t2(out2)\n",
    "\n",
    "print(transposed1.shape)      # torch.Size([1, 3, 7, 7])\n",
    "print(transposed2.shape)      # torch.Size([1, 3, 8, 8])"
   ]
  },
  {
   "cell_type": "code",
   "execution_count": 19,
   "metadata": {
    "colab": {
     "base_uri": "https://localhost:8080/",
     "height": 283
    },
    "executionInfo": {
     "elapsed": 262,
     "status": "ok",
     "timestamp": 1666287913421,
     "user": {
      "displayName": "Mariia Korliakova",
      "userId": "14165537686129864864"
     },
     "user_tz": -180
    },
    "id": "mhwm6nPGepjs",
    "outputId": "cdea44a1-7789-48db-999f-51723f06b0a6"
   },
   "outputs": [
    {
     "name": "stderr",
     "output_type": "stream",
     "text": [
      "Clipping input data to the valid range for imshow with RGB data ([0..1] for floats or [0..255] for integers).\n"
     ]
    },
    {
     "data": {
      "image/png": "[encoded data removed]",
      "text/plain": [
       "<Figure size 640x480 with 1 Axes>"
      ]
     },
     "metadata": {},
     "output_type": "display_data"
    }
   ],
   "source": [
    "plt.imshow(transposed1[0].permute(1, 2, 0).detach()/transposed2.detach().numpy().max());"
   ]
  },
  {
   "cell_type": "code",
   "execution_count": 20,
   "metadata": {
    "colab": {
     "base_uri": "https://localhost:8080/",
     "height": 283
    },
    "executionInfo": {
     "elapsed": 276,
     "status": "ok",
     "timestamp": 1666287918555,
     "user": {
      "displayName": "Mariia Korliakova",
      "userId": "14165537686129864864"
     },
     "user_tz": -180
    },
    "id": "4tJQp52Oe0Zx",
    "outputId": "b31ee508-0b50-4be8-bb35-b25f1bbcda16"
   },
   "outputs": [
    {
     "name": "stderr",
     "output_type": "stream",
     "text": [
      "Clipping input data to the valid range for imshow with RGB data ([0..1] for floats or [0..255] for integers).\n"
     ]
    },
    {
     "data": {
      "image/png": "[encoded data removed]",
      "text/plain": [
       "<Figure size 640x480 with 1 Axes>"
      ]
     },
     "metadata": {},
     "output_type": "display_data"
    }
   ],
   "source": [
    "plt.imshow(transposed2[0].permute(1, 2, 0).detach()/transposed2.detach().numpy().max());"
   ]
  },
  {
   "cell_type": "markdown",
   "metadata": {
    "id": "GhboXZHsIOj_"
   },
   "source": [
    "### SegNet"
   ]
  },
  {
   "cell_type": "markdown",
   "metadata": {
    "id": "1monGeF6IOkA"
   },
   "source": [
    "SegNet появилась в 2015 г. Данная архитектура состоит из конволюционной и деконволюционной части. Она отчасти повторяет собой архитектуру Autoencoder, где есть кодирующая и декодирующая часть. \n",
    "\n",
    "Декодирующая часть в SegNet позволяет сделать более плавное разворачивание изображения после того как отработала сверточная часть архитектуры. Благодаря этому границы объектов на изображение определяются более корректно.\n",
    "\n",
    "Стоит отметить, что в качестве сверточной части могут использоваться различные предтренерованные нейронные сети для решения задач классификации, например различные модификации VGG и ResNet."
   ]
  },
  {
   "cell_type": "markdown",
   "metadata": {
    "id": "IuinKU4fIOkB"
   },
   "source": [
    "<img src='https://drive.google.com/uc?export=view&id=1YRgQtgX90Y0YTuSRrDZfOr_qyEsVi6ax'>"
   ]
  },
  {
   "cell_type": "markdown",
   "metadata": {
    "id": "F2PR_nkZUTbZ"
   },
   "source": [
    "### Unet\n",
    "\n",
    "Когда мы изучаем задачу сегментацию, Unet - это одна из базовых и наиболее используемых моделей для сегментации. Есть очень много имплементаций Unet, но давайте разберемся с оригинальной Unet.\n",
    "Ее архитектура представлена на картинке ниже.\n",
    "\n",
    "<img src='https://drive.google.com/uc?export=view&id=1XbOyrbDKRIBde-phT8i6ctdJdRXmtLxZ' width=600>\n",
    "\n",
    "Архитектура unet может быть разделена на левую (уменьшающую размерность картинки) и правую (увеличивающую) части.   \n",
    "Левая часть - это сверточная сеть. Два 3х3 сверточных слоя следуют за активационной функцией Relu последовательно(Sequentially) и после этого применяется 2x2 maxpool слой (на картинке красная стрелка).   \n",
    "В это время правая часть - то место где происходят действительно интересные вещи. Правая часть также имеет два 3х3 сверточных слоя, соединенные вместе (Sequentially), но нет привычных нам Relu активационной функции и MaxPool слоя. Вместо них зеленая стрелка на изображении. Проходя по расширяющему пути, мы будем брать изображение (копию) из левой части и комбинировать с изображением из правой (серая стрелка на изображении). Помните, что последовательные 3х3 сверточные слои также используются в правой части. Поэтому вход для них будет комбинацией с изображения из левой части и прошлого слоя (комбинация половин белой и голубой коробки в левой части изображения). Итог работы нейронной сети - это выходная сегментационная карта.\n"
   ]
  },
  {
   "cell_type": "markdown",
   "metadata": {
    "id": "D9MiMfz6IOkF"
   },
   "source": [
    "Особенность U-net - skip connection, похожие на те, что помогли решить проблему исчезающего градиента в задача классификации (ResNet архитектура). Данные skip connections позволяют сигналу не только проходить строго, сначала по нисходящей лестницы слоев, а потом по восходящей лестнице апсемплинга(увеличение маленькой репрезентации изображения в полноценную карту), но и также перескакивать между слоями одного уровня, что в частности решает проблему дублирования функций слоев и улучшает эффективность обучения.\n",
    "\n",
    "<img src='https://drive.google.com/uc?export=view&id=1f3za1M3fCTbmze4DZIi5FQWgdmxzZQ9I' width=400>"
   ]
  },
  {
   "cell_type": "markdown",
   "metadata": {
    "id": "zZwOHJ66Oem_"
   },
   "source": [
    "\n",
    "### LinkNet\n",
    "[Статья](https://arxiv.org/abs/1707.03718).\n",
    "\n",
    "В этой архитектуре левая часть тоже не отличается от Unet. А в правой части вместо конкатенации идет суммирование, чтобы уменьшать количество обучаемых параметров. Из-за меньшего количества параметров данные нейронная сеть будет лучше справлять с real-time сегментацией.\n",
    "\n",
    "<img src='https://drive.google.com/uc?export=view&id=1Je5xftoWKF2jtBy1O6Zg6NTgJsw87PeN' width=700>"
   ]
  },
  {
   "cell_type": "markdown",
   "metadata": {
    "id": "SiEJcc0mQY8t"
   },
   "source": [
    "\n",
    "### PSPNet\n",
    "[GitHub. Pyramid Scene Parsing Network](https://github.com/Lextal/pspnet-pytorch)   \n",
    "[Статья](https://arxiv.org/abs/1612.01105)\n",
    "<img src='https://drive.google.com/uc?export=view&id=1p16XKLEV6zUa0m_WsuSxwVZN0h1g7yKD' width=800>\n",
    "\n",
    "**Вопрос:** Почему у FCN не получается делать качественную сегментацию?\n",
    "\n",
    "\n",
    "На изображении сравнение работы FCN и PSPNet, некоторые объекты сегментируются правильно, но относятся к неправильному классу. Это происходит из-за того, что у FCN недостаточно контекста картинки, чтобы понять, что перед ней лодка, а не машина, но глядя на контекст вокруге, можно понять, что если объект находится на воде, то вероятней всего это не машина, а лодка.\n",
    "\n",
    "\n",
    "До этого брали один вектор, который вышел из энкодера и растягиваем его до размера исходной картинки, чтобы получить маску, теперь можем поделить карту с признаками на несколько регионов разных масштабов путем прохода через слой пулинга (в статье предлагают регионы масштабов 1x1, 2x2, 3x3 и 6x6), далее эти тензоры пропускаем через один слой свертки 1х1 для сжатия каналов, а затем сконкатенируем эти выходы с картой признаков (перед этим прогнав через слой апсемлинга, чтобы были одинаковые размерности) и сделаем привычную операцию деконволюций для получения маски.\n",
    "\n",
    "<img src='https://drive.google.com/uc?export=view&id=1ghmtZa2vgmOWYRYXg6uuCfXGhLNF8y2t' width=1000>"
   ]
  },
  {
   "cell_type": "markdown",
   "metadata": {
    "id": "lqtfxvyAQ3Bs"
   },
   "source": [
    "\n",
    "### FPN\n",
    "[Feature Pyramid Network](https://arxiv.org/abs/1901.02446)\n",
    "В этой нейронной сети маски предсказываются не с последнего уровня, а с каждого, тем самым можно находить объекты разных масштабов с разных карт признаков.\n",
    "\n",
    "<img src='https://drive.google.com/uc?export=view&id=1tyPhM_u6PtcTtnjlkO_SP3SXL25idrm3' width=500>"
   ]
  },
  {
   "cell_type": "markdown",
   "metadata": {
    "id": "Ewx503sUP-NM"
   },
   "source": [
    "<img src='https://drive.google.com/uc?export=view&id=1QGUloAmSPCNW99MOfCjPQ4BERkrXLxCR'>"
   ]
  },
  {
   "cell_type": "markdown",
   "metadata": {
    "id": "yXEmCCICUotj"
   },
   "source": [
    "\n",
    "### Другие популярные архитектуры\n",
    "\n",
    "* [DeepLabV3](https://arxiv.org/abs/1706.05587)\n",
    "* [Mask-RCNN](https://kharshit.github.io/blog/2019/08/23/quick-intro-to-instance-segmentation)"
   ]
  },
  {
   "cell_type": "markdown",
   "metadata": {
    "id": "PFx937gUREeW"
   },
   "source": [
    "## Оценка качества\n",
    "\n",
    "И конечно в любой сети нам нужна какая-то оценка качества наших моделей.\n",
    "\n",
    "Обычно в задачах, решаемых с помощью нейронных сетей, настройка процесса обучения основывается большей частью на опыте исследователя и некоторых эвристиках. Например, для задач сегментации изображений чаще всего применяются функции потерь, основанные на оценке совпадения форм распознанных зон, так называемые Intersection over Union.\n",
    "\n",
    "Интуитивно, основываясь на понимании поведения и результатах исследований, такого рода функции дадут лучший результат, чем те, которые не заточены под изображения, как например кросс-энтропийные. Тем не менее, эксперименты в поисках оптимального варианта для такого типа задач в целом и каждой задачи индивидуально продолжаются."
   ]
  },
  {
   "cell_type": "markdown",
   "metadata": {
    "id": "XMUg1t19Mp4V"
   },
   "source": [
    "### Коэффициент DICE\n",
    "\n",
    "* Dice может использоваться для попиксельного сравнения между предсказанной маской и истинной маской\n",
    "* Dice - это площадь пересечения дважды, деленная на общее количество пикселей на двух картинках\n",
    "\n",
    "<img src='https://miro.medium.com/max/429/1*yUd5ckecHjWZf6hGrdlwzA.png' width=200>\n",
    "\n",
    "Формула подсчета:\n",
    "\n",
    "<center> $ \\huge \\frac{2*|X∩Y|}{|X|+|Y|}$ </center>\n",
    "\n",
    "<br>\n",
    "\n",
    "где X - это предсказанное множество пикселей, а Y - истина."
   ]
  },
  {
   "cell_type": "markdown",
   "metadata": {
    "id": "OqH9_KilWX7o"
   },
   "source": [
    "### Intersection over Union\n",
    "\n",
    "IoU - это мера величины перекрытия между двумя масками. Он вычисляет размер перекрытия между двумя объектами, деленный на общую площадь объединенных объектов.\n",
    "\n",
    "<img src='https://drive.google.com/uc?export=view&id=1VcvjSTbx5JDZEpWzF-3bCeFFsAMVGyZS' width=500>\n",
    "\n",
    "\n",
    "Формула подсчета:\n",
    "\n",
    "<center> $ \\huge \\frac{|X∩Y|}{|X∪Y|}$ </center>\n",
    "\n",
    "<br>\n",
    "\n",
    "где X - это предсказанное множество пикселей, а Y - истина."
   ]
  },
  {
   "cell_type": "markdown",
   "metadata": {
    "id": "GWl-fxF6REeX"
   },
   "source": [
    "#<h1><center>Практическая часть</center></h1>\n",
    "\n",
    "Что ж, перейдем от теории к практике. Давайте использовать PyTorch и закодим Unet, описание которой дано выше ([оригинальная статья](https://arxiv.org/pdf/1505.04597.pdf))\n",
    "\n",
    "https://www.kaggle.com/code/mariiakorliakova/gb-segmentation-for-self-driving-cars-pytorch/edit\n",
    "\n"
   ]
  },
  {
   "cell_type": "markdown",
   "metadata": {
    "id": "R24tahEqmSCk"
   },
   "source": [
    "## Домашнее задание\n",
    "\n",
    "1. Необходимо подготовить датасет https://www.kaggle.com/olekslu/makeup-lips-segmentation-28k-samples для обучения модели на сегментацию губ\n",
    "2. Обучить модель на выбор из [segmentation_models_pytorch](https://segmentation-modelspytorch.readthedocs.io/en/latest/index.html)\n"
   ]
  },
  {
   "cell_type": "markdown",
   "metadata": {
    "id": "pKnbjxbmSVjf"
   },
   "source": [
    "Вопросы:\n",
    "\n",
    "А. Какой класс моделей строим для сегментации:\n",
    "\n",
    "  1. классификация\n",
    "  2. регрессия\n",
    "\n",
    "В. Сколько плотных слоев в FCN\n",
    "\n",
    "  1. 0\n",
    "  2. 1\n",
    "  3. больше 1\n",
    "\n",
    "C. Как измеряем качество сегментации :    \n",
    "  \n",
    "  1. DICE\n",
    "  2. Accuracy\n",
    "  3. mse\n",
    "\n",
    "\n",
    "\n"
   ]
  },
  {
   "cell_type": "markdown",
   "metadata": {
    "id": "0X8AzfIoIOo8"
   },
   "source": [
    "## Дополнительные материалы\n",
    "\n",
    "1. [Handwritten Text Segmentation](https://arxiv.org/pdf/1906.05229.pdf)\n",
    "2. [Сегментация медицинских изображений](https://arxiv.org/abs/1505.04597)\n",
    "3. [Рекуррентные нейронные сети для семантической обработки](https://imatge-upc.github.io/rsis/)\n",
    "4. [Pyramid Scene Parsing Network](https://github.com/Lextal/pspnet-pytorch)\n",
    "5. [Pyramid Scene Parsing Network | Lecture 32 (Part 3) | Applied Deep Learning](https://youtu.be/6fjsJT4gYnI)\n",
    "6. [DeepLabV3](https://arxiv.org/abs/1706.05587)\n",
    "7. [DeepLabv3+ | Lecture 32 (Part 4) | Applied Deep Learning](https://youtu.be/Gzrej8ciK9o)\n",
    "8. [Mask-RCNN](https://kharshit.github.io/blog/2019/08/23/quick-intro-to-instance-segmentation)\n",
    "9. [LinkNet](https://arxiv.org/abs/1707.03718)\n",
    "10. [Feature Pyramid Network](https://arxiv.org/abs/1901.02446)\n",
    "11. [Semantic Segmentation Benchmarks](https://paperswithcode.com/task/semantic-segmentation)\n",
    "\n"
   ]
  }
 ],
 "metadata": {
  "colab": {
   "collapsed_sections": [],
   "provenance": [
    {
     "file_id": "1Hyx9ElgtmpHz0yZ24jhMFobYwVm1IKW5",
     "timestamp": 1657033958070
    },
    {
     "file_id": "https://github.com/julichitai/teacher_geekbrains/blob/master/pytorch/web3/lesson_3.ipynb",
     "timestamp": 1622894913918
    }
   ]
  },
  "kernelspec": {
   "display_name": "Python 3 (ipykernel)",
   "language": "python",
   "name": "python3"
  },
  "language_info": {
   "codemirror_mode": {
    "name": "ipython",
    "version": 3
   },
   "file_extension": ".py",
   "mimetype": "text/x-python",
   "name": "python",
   "nbconvert_exporter": "python",
   "pygments_lexer": "ipython3",
   "version": "3.11.2"
  }
 },
 "nbformat": 4,
 "nbformat_minor": 4
}
